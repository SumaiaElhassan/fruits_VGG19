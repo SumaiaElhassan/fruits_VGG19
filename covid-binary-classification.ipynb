{
 "cells": [
  {
   "cell_type": "code",
   "execution_count": 1,
   "id": "6a413abd",
   "metadata": {
    "_cell_guid": "b1076dfc-b9ad-4769-8c92-a6c4dae69d19",
    "_uuid": "8f2839f25d086af736a60e9eeb907d3b93b6e0e5",
    "execution": {
     "iopub.execute_input": "2024-08-16T15:09:43.895707Z",
     "iopub.status.busy": "2024-08-16T15:09:43.895221Z",
     "iopub.status.idle": "2024-08-16T15:09:45.153325Z",
     "shell.execute_reply": "2024-08-16T15:09:45.151536Z"
    },
    "papermill": {
     "duration": 1.293996,
     "end_time": "2024-08-16T15:09:45.156599",
     "exception": false,
     "start_time": "2024-08-16T15:09:43.862603",
     "status": "completed"
    },
    "tags": []
   },
   "outputs": [
    {
     "name": "stdout",
     "output_type": "stream",
     "text": [
      "/kaggle/input/covid-19-prediction-binary-classification/corona.csv\n"
     ]
    }
   ],
   "source": [
    "# This Python 3 environment comes with many helpful analytics libraries installed\n",
    "# It is defined by the kaggle/python Docker image: https://github.com/kaggle/docker-python\n",
    "# For example, here's several helpful packages to load\n",
    "\n",
    "import numpy as np # linear algebra\n",
    "import pandas as pd # data processing, CSV file I/O (e.g. pd.read_csv)\n",
    "\n",
    "# Input data files are available in the read-only \"../input/\" directory\n",
    "# For example, running this (by clicking run or pressing Shift+Enter) will list all files under the input directory\n",
    "\n",
    "import os\n",
    "for dirname, _, filenames in os.walk('/kaggle/input'):\n",
    "    for filename in filenames:\n",
    "        print(os.path.join(dirname, filename))\n",
    "\n",
    "# You can write up to 20GB to the current directory (/kaggle/working/) that gets preserved as output when you create a version using \"Save & Run All\" \n",
    "# You can also write temporary files to /kaggle/temp/, but they won't be saved outside of the current session"
   ]
  },
  {
   "cell_type": "markdown",
   "id": "c4e1913a",
   "metadata": {
    "papermill": {
     "duration": 0.02917,
     "end_time": "2024-08-16T15:09:45.217360",
     "exception": false,
     "start_time": "2024-08-16T15:09:45.188190",
     "status": "completed"
    },
    "tags": []
   },
   "source": [
    "Importing Libararies"
   ]
  },
  {
   "cell_type": "code",
   "execution_count": 2,
   "id": "73c24745",
   "metadata": {
    "execution": {
     "iopub.execute_input": "2024-08-16T15:09:45.278083Z",
     "iopub.status.busy": "2024-08-16T15:09:45.277369Z",
     "iopub.status.idle": "2024-08-16T15:10:06.036637Z",
     "shell.execute_reply": "2024-08-16T15:10:06.034001Z"
    },
    "papermill": {
     "duration": 20.79433,
     "end_time": "2024-08-16T15:10:06.040756",
     "exception": false,
     "start_time": "2024-08-16T15:09:45.246426",
     "status": "completed"
    },
    "tags": []
   },
   "outputs": [
    {
     "name": "stderr",
     "output_type": "stream",
     "text": [
      "2024-08-16 15:09:50.076988: E external/local_xla/xla/stream_executor/cuda/cuda_dnn.cc:9261] Unable to register cuDNN factory: Attempting to register factory for plugin cuDNN when one has already been registered\n",
      "2024-08-16 15:09:50.077176: E external/local_xla/xla/stream_executor/cuda/cuda_fft.cc:607] Unable to register cuFFT factory: Attempting to register factory for plugin cuFFT when one has already been registered\n",
      "2024-08-16 15:09:50.283535: E external/local_xla/xla/stream_executor/cuda/cuda_blas.cc:1515] Unable to register cuBLAS factory: Attempting to register factory for plugin cuBLAS when one has already been registered\n"
     ]
    }
   ],
   "source": [
    "import numpy as np\n",
    "import pandas as pd\n",
    "import matplotlib.pyplot as plt\n",
    "import seaborn as sns\n",
    "sns.set()\n",
    "import warnings\n",
    "warnings.filterwarnings('ignore')\n",
    "\n",
    "import tensorflow as tf\n",
    "from keras.models import Sequential\n",
    "from keras.layers import Dense\n",
    "from tensorflow.keras.layers import Dropout\n",
    "from sklearn.preprocessing import StandardScaler,LabelEncoder,OneHotEncoder\n",
    "from sklearn.model_selection import train_test_split\n",
    "from sklearn.impute import SimpleImputer\n",
    "from sklearn import datasets\n",
    "from sklearn.metrics import accuracy_score, precision_score, recall_score, f1_score"
   ]
  },
  {
   "cell_type": "markdown",
   "id": "808c6169",
   "metadata": {
    "papermill": {
     "duration": 0.029609,
     "end_time": "2024-08-16T15:10:06.104852",
     "exception": false,
     "start_time": "2024-08-16T15:10:06.075243",
     "status": "completed"
    },
    "tags": []
   },
   "source": [
    "Importing Data"
   ]
  },
  {
   "cell_type": "code",
   "execution_count": 3,
   "id": "18327e1c",
   "metadata": {
    "execution": {
     "iopub.execute_input": "2024-08-16T15:10:06.169122Z",
     "iopub.status.busy": "2024-08-16T15:10:06.168090Z",
     "iopub.status.idle": "2024-08-16T15:10:07.227755Z",
     "shell.execute_reply": "2024-08-16T15:10:07.226134Z"
    },
    "papermill": {
     "duration": 1.095131,
     "end_time": "2024-08-16T15:10:07.231173",
     "exception": false,
     "start_time": "2024-08-16T15:10:06.136042",
     "status": "completed"
    },
    "tags": []
   },
   "outputs": [],
   "source": [
    "data = pd.read_csv(\"/kaggle/input/covid-19-prediction-binary-classification/corona.csv\")"
   ]
  },
  {
   "cell_type": "code",
   "execution_count": 4,
   "id": "b7014b77",
   "metadata": {
    "execution": {
     "iopub.execute_input": "2024-08-16T15:10:07.304891Z",
     "iopub.status.busy": "2024-08-16T15:10:07.304347Z",
     "iopub.status.idle": "2024-08-16T15:10:07.346404Z",
     "shell.execute_reply": "2024-08-16T15:10:07.344689Z"
    },
    "papermill": {
     "duration": 0.079846,
     "end_time": "2024-08-16T15:10:07.349997",
     "exception": false,
     "start_time": "2024-08-16T15:10:07.270151",
     "status": "completed"
    },
    "tags": []
   },
   "outputs": [
    {
     "data": {
      "text/html": [
       "<div>\n",
       "<style scoped>\n",
       "    .dataframe tbody tr th:only-of-type {\n",
       "        vertical-align: middle;\n",
       "    }\n",
       "\n",
       "    .dataframe tbody tr th {\n",
       "        vertical-align: top;\n",
       "    }\n",
       "\n",
       "    .dataframe thead th {\n",
       "        text-align: right;\n",
       "    }\n",
       "</style>\n",
       "<table border=\"1\" class=\"dataframe\">\n",
       "  <thead>\n",
       "    <tr style=\"text-align: right;\">\n",
       "      <th></th>\n",
       "      <th>Ind_ID</th>\n",
       "      <th>Test_date</th>\n",
       "      <th>Cough_symptoms</th>\n",
       "      <th>Fever</th>\n",
       "      <th>Sore_throat</th>\n",
       "      <th>Shortness_of_breath</th>\n",
       "      <th>Headache</th>\n",
       "      <th>Corona</th>\n",
       "      <th>Age_60_above</th>\n",
       "      <th>Sex</th>\n",
       "      <th>Known_contact</th>\n",
       "    </tr>\n",
       "  </thead>\n",
       "  <tbody>\n",
       "    <tr>\n",
       "      <th>0</th>\n",
       "      <td>1</td>\n",
       "      <td>11-03-2020</td>\n",
       "      <td>True</td>\n",
       "      <td>False</td>\n",
       "      <td>True</td>\n",
       "      <td>False</td>\n",
       "      <td>False</td>\n",
       "      <td>negative</td>\n",
       "      <td>NaN</td>\n",
       "      <td>NaN</td>\n",
       "      <td>Abroad</td>\n",
       "    </tr>\n",
       "    <tr>\n",
       "      <th>1</th>\n",
       "      <td>2</td>\n",
       "      <td>11-03-2020</td>\n",
       "      <td>False</td>\n",
       "      <td>True</td>\n",
       "      <td>False</td>\n",
       "      <td>False</td>\n",
       "      <td>False</td>\n",
       "      <td>positive</td>\n",
       "      <td>NaN</td>\n",
       "      <td>NaN</td>\n",
       "      <td>Abroad</td>\n",
       "    </tr>\n",
       "    <tr>\n",
       "      <th>2</th>\n",
       "      <td>3</td>\n",
       "      <td>11-03-2020</td>\n",
       "      <td>False</td>\n",
       "      <td>True</td>\n",
       "      <td>False</td>\n",
       "      <td>False</td>\n",
       "      <td>False</td>\n",
       "      <td>positive</td>\n",
       "      <td>NaN</td>\n",
       "      <td>NaN</td>\n",
       "      <td>Abroad</td>\n",
       "    </tr>\n",
       "    <tr>\n",
       "      <th>3</th>\n",
       "      <td>4</td>\n",
       "      <td>11-03-2020</td>\n",
       "      <td>True</td>\n",
       "      <td>False</td>\n",
       "      <td>False</td>\n",
       "      <td>False</td>\n",
       "      <td>False</td>\n",
       "      <td>negative</td>\n",
       "      <td>NaN</td>\n",
       "      <td>NaN</td>\n",
       "      <td>Abroad</td>\n",
       "    </tr>\n",
       "    <tr>\n",
       "      <th>4</th>\n",
       "      <td>5</td>\n",
       "      <td>11-03-2020</td>\n",
       "      <td>True</td>\n",
       "      <td>False</td>\n",
       "      <td>False</td>\n",
       "      <td>False</td>\n",
       "      <td>False</td>\n",
       "      <td>negative</td>\n",
       "      <td>NaN</td>\n",
       "      <td>NaN</td>\n",
       "      <td>Contact with confirmed</td>\n",
       "    </tr>\n",
       "    <tr>\n",
       "      <th>...</th>\n",
       "      <td>...</td>\n",
       "      <td>...</td>\n",
       "      <td>...</td>\n",
       "      <td>...</td>\n",
       "      <td>...</td>\n",
       "      <td>...</td>\n",
       "      <td>...</td>\n",
       "      <td>...</td>\n",
       "      <td>...</td>\n",
       "      <td>...</td>\n",
       "      <td>...</td>\n",
       "    </tr>\n",
       "    <tr>\n",
       "      <th>278843</th>\n",
       "      <td>278844</td>\n",
       "      <td>30-04-2020</td>\n",
       "      <td>False</td>\n",
       "      <td>False</td>\n",
       "      <td>False</td>\n",
       "      <td>False</td>\n",
       "      <td>False</td>\n",
       "      <td>positive</td>\n",
       "      <td>NaN</td>\n",
       "      <td>male</td>\n",
       "      <td>Other</td>\n",
       "    </tr>\n",
       "    <tr>\n",
       "      <th>278844</th>\n",
       "      <td>278845</td>\n",
       "      <td>30-04-2020</td>\n",
       "      <td>False</td>\n",
       "      <td>False</td>\n",
       "      <td>False</td>\n",
       "      <td>False</td>\n",
       "      <td>False</td>\n",
       "      <td>negative</td>\n",
       "      <td>NaN</td>\n",
       "      <td>female</td>\n",
       "      <td>Other</td>\n",
       "    </tr>\n",
       "    <tr>\n",
       "      <th>278845</th>\n",
       "      <td>278846</td>\n",
       "      <td>30-04-2020</td>\n",
       "      <td>False</td>\n",
       "      <td>False</td>\n",
       "      <td>False</td>\n",
       "      <td>False</td>\n",
       "      <td>False</td>\n",
       "      <td>negative</td>\n",
       "      <td>NaN</td>\n",
       "      <td>male</td>\n",
       "      <td>Other</td>\n",
       "    </tr>\n",
       "    <tr>\n",
       "      <th>278846</th>\n",
       "      <td>278847</td>\n",
       "      <td>30-04-2020</td>\n",
       "      <td>False</td>\n",
       "      <td>False</td>\n",
       "      <td>False</td>\n",
       "      <td>False</td>\n",
       "      <td>False</td>\n",
       "      <td>negative</td>\n",
       "      <td>NaN</td>\n",
       "      <td>male</td>\n",
       "      <td>Other</td>\n",
       "    </tr>\n",
       "    <tr>\n",
       "      <th>278847</th>\n",
       "      <td>278848</td>\n",
       "      <td>30-04-2020</td>\n",
       "      <td>False</td>\n",
       "      <td>False</td>\n",
       "      <td>False</td>\n",
       "      <td>False</td>\n",
       "      <td>False</td>\n",
       "      <td>negative</td>\n",
       "      <td>NaN</td>\n",
       "      <td>female</td>\n",
       "      <td>Other</td>\n",
       "    </tr>\n",
       "  </tbody>\n",
       "</table>\n",
       "<p>278848 rows × 11 columns</p>\n",
       "</div>"
      ],
      "text/plain": [
       "        Ind_ID   Test_date Cough_symptoms  Fever Sore_throat  \\\n",
       "0            1  11-03-2020           True  False        True   \n",
       "1            2  11-03-2020          False   True       False   \n",
       "2            3  11-03-2020          False   True       False   \n",
       "3            4  11-03-2020           True  False       False   \n",
       "4            5  11-03-2020           True  False       False   \n",
       "...        ...         ...            ...    ...         ...   \n",
       "278843  278844  30-04-2020          False  False       False   \n",
       "278844  278845  30-04-2020          False  False       False   \n",
       "278845  278846  30-04-2020          False  False       False   \n",
       "278846  278847  30-04-2020          False  False       False   \n",
       "278847  278848  30-04-2020          False  False       False   \n",
       "\n",
       "       Shortness_of_breath Headache    Corona Age_60_above     Sex  \\\n",
       "0                    False    False  negative          NaN     NaN   \n",
       "1                    False    False  positive          NaN     NaN   \n",
       "2                    False    False  positive          NaN     NaN   \n",
       "3                    False    False  negative          NaN     NaN   \n",
       "4                    False    False  negative          NaN     NaN   \n",
       "...                    ...      ...       ...          ...     ...   \n",
       "278843               False    False  positive          NaN    male   \n",
       "278844               False    False  negative          NaN  female   \n",
       "278845               False    False  negative          NaN    male   \n",
       "278846               False    False  negative          NaN    male   \n",
       "278847               False    False  negative          NaN  female   \n",
       "\n",
       "                 Known_contact  \n",
       "0                       Abroad  \n",
       "1                       Abroad  \n",
       "2                       Abroad  \n",
       "3                       Abroad  \n",
       "4       Contact with confirmed  \n",
       "...                        ...  \n",
       "278843                   Other  \n",
       "278844                   Other  \n",
       "278845                   Other  \n",
       "278846                   Other  \n",
       "278847                   Other  \n",
       "\n",
       "[278848 rows x 11 columns]"
      ]
     },
     "execution_count": 4,
     "metadata": {},
     "output_type": "execute_result"
    }
   ],
   "source": [
    "data"
   ]
  },
  {
   "cell_type": "code",
   "execution_count": 5,
   "id": "ae830fde",
   "metadata": {
    "execution": {
     "iopub.execute_input": "2024-08-16T15:10:07.413589Z",
     "iopub.status.busy": "2024-08-16T15:10:07.413102Z",
     "iopub.status.idle": "2024-08-16T15:10:07.458295Z",
     "shell.execute_reply": "2024-08-16T15:10:07.456856Z"
    },
    "papermill": {
     "duration": 0.080193,
     "end_time": "2024-08-16T15:10:07.461803",
     "exception": false,
     "start_time": "2024-08-16T15:10:07.381610",
     "status": "completed"
    },
    "tags": []
   },
   "outputs": [],
   "source": [
    "df = data.copy()"
   ]
  },
  {
   "cell_type": "markdown",
   "id": "f7cffd5e",
   "metadata": {
    "papermill": {
     "duration": 0.031948,
     "end_time": "2024-08-16T15:10:07.524350",
     "exception": false,
     "start_time": "2024-08-16T15:10:07.492402",
     "status": "completed"
    },
    "tags": []
   },
   "source": [
    "Exploratory Data"
   ]
  },
  {
   "cell_type": "code",
   "execution_count": 6,
   "id": "fbeffb7b",
   "metadata": {
    "execution": {
     "iopub.execute_input": "2024-08-16T15:10:07.588397Z",
     "iopub.status.busy": "2024-08-16T15:10:07.587898Z",
     "iopub.status.idle": "2024-08-16T15:10:07.615402Z",
     "shell.execute_reply": "2024-08-16T15:10:07.613534Z"
    },
    "papermill": {
     "duration": 0.063419,
     "end_time": "2024-08-16T15:10:07.618577",
     "exception": false,
     "start_time": "2024-08-16T15:10:07.555158",
     "status": "completed"
    },
    "tags": []
   },
   "outputs": [
    {
     "data": {
      "text/html": [
       "<div>\n",
       "<style scoped>\n",
       "    .dataframe tbody tr th:only-of-type {\n",
       "        vertical-align: middle;\n",
       "    }\n",
       "\n",
       "    .dataframe tbody tr th {\n",
       "        vertical-align: top;\n",
       "    }\n",
       "\n",
       "    .dataframe thead th {\n",
       "        text-align: right;\n",
       "    }\n",
       "</style>\n",
       "<table border=\"1\" class=\"dataframe\">\n",
       "  <thead>\n",
       "    <tr style=\"text-align: right;\">\n",
       "      <th></th>\n",
       "      <th>Ind_ID</th>\n",
       "      <th>Test_date</th>\n",
       "      <th>Cough_symptoms</th>\n",
       "      <th>Fever</th>\n",
       "      <th>Sore_throat</th>\n",
       "      <th>Shortness_of_breath</th>\n",
       "      <th>Headache</th>\n",
       "      <th>Corona</th>\n",
       "      <th>Age_60_above</th>\n",
       "      <th>Sex</th>\n",
       "      <th>Known_contact</th>\n",
       "    </tr>\n",
       "  </thead>\n",
       "  <tbody>\n",
       "    <tr>\n",
       "      <th>0</th>\n",
       "      <td>1</td>\n",
       "      <td>11-03-2020</td>\n",
       "      <td>True</td>\n",
       "      <td>False</td>\n",
       "      <td>True</td>\n",
       "      <td>False</td>\n",
       "      <td>False</td>\n",
       "      <td>negative</td>\n",
       "      <td>NaN</td>\n",
       "      <td>NaN</td>\n",
       "      <td>Abroad</td>\n",
       "    </tr>\n",
       "    <tr>\n",
       "      <th>1</th>\n",
       "      <td>2</td>\n",
       "      <td>11-03-2020</td>\n",
       "      <td>False</td>\n",
       "      <td>True</td>\n",
       "      <td>False</td>\n",
       "      <td>False</td>\n",
       "      <td>False</td>\n",
       "      <td>positive</td>\n",
       "      <td>NaN</td>\n",
       "      <td>NaN</td>\n",
       "      <td>Abroad</td>\n",
       "    </tr>\n",
       "    <tr>\n",
       "      <th>2</th>\n",
       "      <td>3</td>\n",
       "      <td>11-03-2020</td>\n",
       "      <td>False</td>\n",
       "      <td>True</td>\n",
       "      <td>False</td>\n",
       "      <td>False</td>\n",
       "      <td>False</td>\n",
       "      <td>positive</td>\n",
       "      <td>NaN</td>\n",
       "      <td>NaN</td>\n",
       "      <td>Abroad</td>\n",
       "    </tr>\n",
       "    <tr>\n",
       "      <th>3</th>\n",
       "      <td>4</td>\n",
       "      <td>11-03-2020</td>\n",
       "      <td>True</td>\n",
       "      <td>False</td>\n",
       "      <td>False</td>\n",
       "      <td>False</td>\n",
       "      <td>False</td>\n",
       "      <td>negative</td>\n",
       "      <td>NaN</td>\n",
       "      <td>NaN</td>\n",
       "      <td>Abroad</td>\n",
       "    </tr>\n",
       "    <tr>\n",
       "      <th>4</th>\n",
       "      <td>5</td>\n",
       "      <td>11-03-2020</td>\n",
       "      <td>True</td>\n",
       "      <td>False</td>\n",
       "      <td>False</td>\n",
       "      <td>False</td>\n",
       "      <td>False</td>\n",
       "      <td>negative</td>\n",
       "      <td>NaN</td>\n",
       "      <td>NaN</td>\n",
       "      <td>Contact with confirmed</td>\n",
       "    </tr>\n",
       "    <tr>\n",
       "      <th>5</th>\n",
       "      <td>6</td>\n",
       "      <td>11-03-2020</td>\n",
       "      <td>True</td>\n",
       "      <td>False</td>\n",
       "      <td>False</td>\n",
       "      <td>False</td>\n",
       "      <td>False</td>\n",
       "      <td>other</td>\n",
       "      <td>NaN</td>\n",
       "      <td>NaN</td>\n",
       "      <td>Contact with confirmed</td>\n",
       "    </tr>\n",
       "    <tr>\n",
       "      <th>6</th>\n",
       "      <td>7</td>\n",
       "      <td>11-03-2020</td>\n",
       "      <td>False</td>\n",
       "      <td>False</td>\n",
       "      <td>False</td>\n",
       "      <td>False</td>\n",
       "      <td>False</td>\n",
       "      <td>negative</td>\n",
       "      <td>NaN</td>\n",
       "      <td>NaN</td>\n",
       "      <td>Other</td>\n",
       "    </tr>\n",
       "    <tr>\n",
       "      <th>7</th>\n",
       "      <td>8</td>\n",
       "      <td>11-03-2020</td>\n",
       "      <td>False</td>\n",
       "      <td>True</td>\n",
       "      <td>False</td>\n",
       "      <td>False</td>\n",
       "      <td>False</td>\n",
       "      <td>negative</td>\n",
       "      <td>NaN</td>\n",
       "      <td>NaN</td>\n",
       "      <td>Abroad</td>\n",
       "    </tr>\n",
       "    <tr>\n",
       "      <th>8</th>\n",
       "      <td>9</td>\n",
       "      <td>11-03-2020</td>\n",
       "      <td>True</td>\n",
       "      <td>False</td>\n",
       "      <td>False</td>\n",
       "      <td>False</td>\n",
       "      <td>False</td>\n",
       "      <td>negative</td>\n",
       "      <td>NaN</td>\n",
       "      <td>NaN</td>\n",
       "      <td>Abroad</td>\n",
       "    </tr>\n",
       "    <tr>\n",
       "      <th>9</th>\n",
       "      <td>10</td>\n",
       "      <td>11-03-2020</td>\n",
       "      <td>True</td>\n",
       "      <td>False</td>\n",
       "      <td>True</td>\n",
       "      <td>False</td>\n",
       "      <td>False</td>\n",
       "      <td>negative</td>\n",
       "      <td>NaN</td>\n",
       "      <td>NaN</td>\n",
       "      <td>Abroad</td>\n",
       "    </tr>\n",
       "    <tr>\n",
       "      <th>10</th>\n",
       "      <td>11</td>\n",
       "      <td>11-03-2020</td>\n",
       "      <td>True</td>\n",
       "      <td>False</td>\n",
       "      <td>True</td>\n",
       "      <td>False</td>\n",
       "      <td>False</td>\n",
       "      <td>negative</td>\n",
       "      <td>NaN</td>\n",
       "      <td>NaN</td>\n",
       "      <td>Abroad</td>\n",
       "    </tr>\n",
       "    <tr>\n",
       "      <th>11</th>\n",
       "      <td>12</td>\n",
       "      <td>11-03-2020</td>\n",
       "      <td>True</td>\n",
       "      <td>False</td>\n",
       "      <td>False</td>\n",
       "      <td>False</td>\n",
       "      <td>False</td>\n",
       "      <td>negative</td>\n",
       "      <td>NaN</td>\n",
       "      <td>NaN</td>\n",
       "      <td>Abroad</td>\n",
       "    </tr>\n",
       "    <tr>\n",
       "      <th>12</th>\n",
       "      <td>13</td>\n",
       "      <td>11-03-2020</td>\n",
       "      <td>False</td>\n",
       "      <td>True</td>\n",
       "      <td>False</td>\n",
       "      <td>False</td>\n",
       "      <td>False</td>\n",
       "      <td>negative</td>\n",
       "      <td>NaN</td>\n",
       "      <td>NaN</td>\n",
       "      <td>Other</td>\n",
       "    </tr>\n",
       "    <tr>\n",
       "      <th>13</th>\n",
       "      <td>14</td>\n",
       "      <td>11-03-2020</td>\n",
       "      <td>False</td>\n",
       "      <td>False</td>\n",
       "      <td>False</td>\n",
       "      <td>True</td>\n",
       "      <td>False</td>\n",
       "      <td>negative</td>\n",
       "      <td>NaN</td>\n",
       "      <td>NaN</td>\n",
       "      <td>Abroad</td>\n",
       "    </tr>\n",
       "    <tr>\n",
       "      <th>14</th>\n",
       "      <td>15</td>\n",
       "      <td>11-03-2020</td>\n",
       "      <td>False</td>\n",
       "      <td>False</td>\n",
       "      <td>False</td>\n",
       "      <td>False</td>\n",
       "      <td>False</td>\n",
       "      <td>negative</td>\n",
       "      <td>NaN</td>\n",
       "      <td>NaN</td>\n",
       "      <td>Other</td>\n",
       "    </tr>\n",
       "  </tbody>\n",
       "</table>\n",
       "</div>"
      ],
      "text/plain": [
       "    Ind_ID   Test_date Cough_symptoms  Fever Sore_throat Shortness_of_breath  \\\n",
       "0        1  11-03-2020           True  False        True               False   \n",
       "1        2  11-03-2020          False   True       False               False   \n",
       "2        3  11-03-2020          False   True       False               False   \n",
       "3        4  11-03-2020           True  False       False               False   \n",
       "4        5  11-03-2020           True  False       False               False   \n",
       "5        6  11-03-2020           True  False       False               False   \n",
       "6        7  11-03-2020          False  False       False               False   \n",
       "7        8  11-03-2020          False   True       False               False   \n",
       "8        9  11-03-2020           True  False       False               False   \n",
       "9       10  11-03-2020           True  False        True               False   \n",
       "10      11  11-03-2020           True  False        True               False   \n",
       "11      12  11-03-2020           True  False       False               False   \n",
       "12      13  11-03-2020          False   True       False               False   \n",
       "13      14  11-03-2020          False  False       False                True   \n",
       "14      15  11-03-2020          False  False       False               False   \n",
       "\n",
       "   Headache    Corona Age_60_above  Sex           Known_contact  \n",
       "0     False  negative          NaN  NaN                  Abroad  \n",
       "1     False  positive          NaN  NaN                  Abroad  \n",
       "2     False  positive          NaN  NaN                  Abroad  \n",
       "3     False  negative          NaN  NaN                  Abroad  \n",
       "4     False  negative          NaN  NaN  Contact with confirmed  \n",
       "5     False     other          NaN  NaN  Contact with confirmed  \n",
       "6     False  negative          NaN  NaN                   Other  \n",
       "7     False  negative          NaN  NaN                  Abroad  \n",
       "8     False  negative          NaN  NaN                  Abroad  \n",
       "9     False  negative          NaN  NaN                  Abroad  \n",
       "10    False  negative          NaN  NaN                  Abroad  \n",
       "11    False  negative          NaN  NaN                  Abroad  \n",
       "12    False  negative          NaN  NaN                   Other  \n",
       "13    False  negative          NaN  NaN                  Abroad  \n",
       "14    False  negative          NaN  NaN                   Other  "
      ]
     },
     "execution_count": 6,
     "metadata": {},
     "output_type": "execute_result"
    }
   ],
   "source": [
    "data.head(15)"
   ]
  },
  {
   "cell_type": "code",
   "execution_count": 7,
   "id": "03ca5d79",
   "metadata": {
    "execution": {
     "iopub.execute_input": "2024-08-16T15:10:07.681495Z",
     "iopub.status.busy": "2024-08-16T15:10:07.681018Z",
     "iopub.status.idle": "2024-08-16T15:10:07.705230Z",
     "shell.execute_reply": "2024-08-16T15:10:07.703727Z"
    },
    "papermill": {
     "duration": 0.059377,
     "end_time": "2024-08-16T15:10:07.708366",
     "exception": false,
     "start_time": "2024-08-16T15:10:07.648989",
     "status": "completed"
    },
    "tags": []
   },
   "outputs": [
    {
     "data": {
      "text/html": [
       "<div>\n",
       "<style scoped>\n",
       "    .dataframe tbody tr th:only-of-type {\n",
       "        vertical-align: middle;\n",
       "    }\n",
       "\n",
       "    .dataframe tbody tr th {\n",
       "        vertical-align: top;\n",
       "    }\n",
       "\n",
       "    .dataframe thead th {\n",
       "        text-align: right;\n",
       "    }\n",
       "</style>\n",
       "<table border=\"1\" class=\"dataframe\">\n",
       "  <thead>\n",
       "    <tr style=\"text-align: right;\">\n",
       "      <th></th>\n",
       "      <th>Ind_ID</th>\n",
       "      <th>Test_date</th>\n",
       "      <th>Cough_symptoms</th>\n",
       "      <th>Fever</th>\n",
       "      <th>Sore_throat</th>\n",
       "      <th>Shortness_of_breath</th>\n",
       "      <th>Headache</th>\n",
       "      <th>Corona</th>\n",
       "      <th>Age_60_above</th>\n",
       "      <th>Sex</th>\n",
       "      <th>Known_contact</th>\n",
       "    </tr>\n",
       "  </thead>\n",
       "  <tbody>\n",
       "    <tr>\n",
       "      <th>278833</th>\n",
       "      <td>278834</td>\n",
       "      <td>30-04-2020</td>\n",
       "      <td>False</td>\n",
       "      <td>False</td>\n",
       "      <td>False</td>\n",
       "      <td>False</td>\n",
       "      <td>False</td>\n",
       "      <td>negative</td>\n",
       "      <td>NaN</td>\n",
       "      <td>female</td>\n",
       "      <td>Other</td>\n",
       "    </tr>\n",
       "    <tr>\n",
       "      <th>278834</th>\n",
       "      <td>278835</td>\n",
       "      <td>30-04-2020</td>\n",
       "      <td>False</td>\n",
       "      <td>False</td>\n",
       "      <td>False</td>\n",
       "      <td>False</td>\n",
       "      <td>False</td>\n",
       "      <td>negative</td>\n",
       "      <td>NaN</td>\n",
       "      <td>male</td>\n",
       "      <td>Other</td>\n",
       "    </tr>\n",
       "    <tr>\n",
       "      <th>278835</th>\n",
       "      <td>278836</td>\n",
       "      <td>30-04-2020</td>\n",
       "      <td>False</td>\n",
       "      <td>False</td>\n",
       "      <td>False</td>\n",
       "      <td>False</td>\n",
       "      <td>False</td>\n",
       "      <td>negative</td>\n",
       "      <td>NaN</td>\n",
       "      <td>male</td>\n",
       "      <td>Other</td>\n",
       "    </tr>\n",
       "    <tr>\n",
       "      <th>278836</th>\n",
       "      <td>278837</td>\n",
       "      <td>30-04-2020</td>\n",
       "      <td>False</td>\n",
       "      <td>False</td>\n",
       "      <td>False</td>\n",
       "      <td>False</td>\n",
       "      <td>False</td>\n",
       "      <td>positive</td>\n",
       "      <td>NaN</td>\n",
       "      <td>NaN</td>\n",
       "      <td>Other</td>\n",
       "    </tr>\n",
       "    <tr>\n",
       "      <th>278837</th>\n",
       "      <td>278838</td>\n",
       "      <td>30-04-2020</td>\n",
       "      <td>False</td>\n",
       "      <td>False</td>\n",
       "      <td>False</td>\n",
       "      <td>False</td>\n",
       "      <td>False</td>\n",
       "      <td>negative</td>\n",
       "      <td>NaN</td>\n",
       "      <td>female</td>\n",
       "      <td>Other</td>\n",
       "    </tr>\n",
       "    <tr>\n",
       "      <th>278838</th>\n",
       "      <td>278839</td>\n",
       "      <td>30-04-2020</td>\n",
       "      <td>False</td>\n",
       "      <td>False</td>\n",
       "      <td>False</td>\n",
       "      <td>False</td>\n",
       "      <td>False</td>\n",
       "      <td>positive</td>\n",
       "      <td>NaN</td>\n",
       "      <td>male</td>\n",
       "      <td>Other</td>\n",
       "    </tr>\n",
       "    <tr>\n",
       "      <th>278839</th>\n",
       "      <td>278840</td>\n",
       "      <td>30-04-2020</td>\n",
       "      <td>False</td>\n",
       "      <td>False</td>\n",
       "      <td>False</td>\n",
       "      <td>False</td>\n",
       "      <td>False</td>\n",
       "      <td>positive</td>\n",
       "      <td>NaN</td>\n",
       "      <td>male</td>\n",
       "      <td>Other</td>\n",
       "    </tr>\n",
       "    <tr>\n",
       "      <th>278840</th>\n",
       "      <td>278841</td>\n",
       "      <td>30-04-2020</td>\n",
       "      <td>False</td>\n",
       "      <td>False</td>\n",
       "      <td>False</td>\n",
       "      <td>False</td>\n",
       "      <td>False</td>\n",
       "      <td>negative</td>\n",
       "      <td>NaN</td>\n",
       "      <td>male</td>\n",
       "      <td>Other</td>\n",
       "    </tr>\n",
       "    <tr>\n",
       "      <th>278841</th>\n",
       "      <td>278842</td>\n",
       "      <td>30-04-2020</td>\n",
       "      <td>False</td>\n",
       "      <td>False</td>\n",
       "      <td>False</td>\n",
       "      <td>False</td>\n",
       "      <td>False</td>\n",
       "      <td>negative</td>\n",
       "      <td>NaN</td>\n",
       "      <td>male</td>\n",
       "      <td>Other</td>\n",
       "    </tr>\n",
       "    <tr>\n",
       "      <th>278842</th>\n",
       "      <td>278843</td>\n",
       "      <td>30-04-2020</td>\n",
       "      <td>False</td>\n",
       "      <td>False</td>\n",
       "      <td>False</td>\n",
       "      <td>False</td>\n",
       "      <td>False</td>\n",
       "      <td>positive</td>\n",
       "      <td>NaN</td>\n",
       "      <td>NaN</td>\n",
       "      <td>Other</td>\n",
       "    </tr>\n",
       "    <tr>\n",
       "      <th>278843</th>\n",
       "      <td>278844</td>\n",
       "      <td>30-04-2020</td>\n",
       "      <td>False</td>\n",
       "      <td>False</td>\n",
       "      <td>False</td>\n",
       "      <td>False</td>\n",
       "      <td>False</td>\n",
       "      <td>positive</td>\n",
       "      <td>NaN</td>\n",
       "      <td>male</td>\n",
       "      <td>Other</td>\n",
       "    </tr>\n",
       "    <tr>\n",
       "      <th>278844</th>\n",
       "      <td>278845</td>\n",
       "      <td>30-04-2020</td>\n",
       "      <td>False</td>\n",
       "      <td>False</td>\n",
       "      <td>False</td>\n",
       "      <td>False</td>\n",
       "      <td>False</td>\n",
       "      <td>negative</td>\n",
       "      <td>NaN</td>\n",
       "      <td>female</td>\n",
       "      <td>Other</td>\n",
       "    </tr>\n",
       "    <tr>\n",
       "      <th>278845</th>\n",
       "      <td>278846</td>\n",
       "      <td>30-04-2020</td>\n",
       "      <td>False</td>\n",
       "      <td>False</td>\n",
       "      <td>False</td>\n",
       "      <td>False</td>\n",
       "      <td>False</td>\n",
       "      <td>negative</td>\n",
       "      <td>NaN</td>\n",
       "      <td>male</td>\n",
       "      <td>Other</td>\n",
       "    </tr>\n",
       "    <tr>\n",
       "      <th>278846</th>\n",
       "      <td>278847</td>\n",
       "      <td>30-04-2020</td>\n",
       "      <td>False</td>\n",
       "      <td>False</td>\n",
       "      <td>False</td>\n",
       "      <td>False</td>\n",
       "      <td>False</td>\n",
       "      <td>negative</td>\n",
       "      <td>NaN</td>\n",
       "      <td>male</td>\n",
       "      <td>Other</td>\n",
       "    </tr>\n",
       "    <tr>\n",
       "      <th>278847</th>\n",
       "      <td>278848</td>\n",
       "      <td>30-04-2020</td>\n",
       "      <td>False</td>\n",
       "      <td>False</td>\n",
       "      <td>False</td>\n",
       "      <td>False</td>\n",
       "      <td>False</td>\n",
       "      <td>negative</td>\n",
       "      <td>NaN</td>\n",
       "      <td>female</td>\n",
       "      <td>Other</td>\n",
       "    </tr>\n",
       "  </tbody>\n",
       "</table>\n",
       "</div>"
      ],
      "text/plain": [
       "        Ind_ID   Test_date Cough_symptoms  Fever Sore_throat  \\\n",
       "278833  278834  30-04-2020          False  False       False   \n",
       "278834  278835  30-04-2020          False  False       False   \n",
       "278835  278836  30-04-2020          False  False       False   \n",
       "278836  278837  30-04-2020          False  False       False   \n",
       "278837  278838  30-04-2020          False  False       False   \n",
       "278838  278839  30-04-2020          False  False       False   \n",
       "278839  278840  30-04-2020          False  False       False   \n",
       "278840  278841  30-04-2020          False  False       False   \n",
       "278841  278842  30-04-2020          False  False       False   \n",
       "278842  278843  30-04-2020          False  False       False   \n",
       "278843  278844  30-04-2020          False  False       False   \n",
       "278844  278845  30-04-2020          False  False       False   \n",
       "278845  278846  30-04-2020          False  False       False   \n",
       "278846  278847  30-04-2020          False  False       False   \n",
       "278847  278848  30-04-2020          False  False       False   \n",
       "\n",
       "       Shortness_of_breath Headache    Corona Age_60_above     Sex  \\\n",
       "278833               False    False  negative          NaN  female   \n",
       "278834               False    False  negative          NaN    male   \n",
       "278835               False    False  negative          NaN    male   \n",
       "278836               False    False  positive          NaN     NaN   \n",
       "278837               False    False  negative          NaN  female   \n",
       "278838               False    False  positive          NaN    male   \n",
       "278839               False    False  positive          NaN    male   \n",
       "278840               False    False  negative          NaN    male   \n",
       "278841               False    False  negative          NaN    male   \n",
       "278842               False    False  positive          NaN     NaN   \n",
       "278843               False    False  positive          NaN    male   \n",
       "278844               False    False  negative          NaN  female   \n",
       "278845               False    False  negative          NaN    male   \n",
       "278846               False    False  negative          NaN    male   \n",
       "278847               False    False  negative          NaN  female   \n",
       "\n",
       "       Known_contact  \n",
       "278833         Other  \n",
       "278834         Other  \n",
       "278835         Other  \n",
       "278836         Other  \n",
       "278837         Other  \n",
       "278838         Other  \n",
       "278839         Other  \n",
       "278840         Other  \n",
       "278841         Other  \n",
       "278842         Other  \n",
       "278843         Other  \n",
       "278844         Other  \n",
       "278845         Other  \n",
       "278846         Other  \n",
       "278847         Other  "
      ]
     },
     "execution_count": 7,
     "metadata": {},
     "output_type": "execute_result"
    }
   ],
   "source": [
    "data.tail(15)"
   ]
  },
  {
   "cell_type": "code",
   "execution_count": 8,
   "id": "4cb8565b",
   "metadata": {
    "execution": {
     "iopub.execute_input": "2024-08-16T15:10:07.874156Z",
     "iopub.status.busy": "2024-08-16T15:10:07.873639Z",
     "iopub.status.idle": "2024-08-16T15:10:08.177715Z",
     "shell.execute_reply": "2024-08-16T15:10:08.176075Z"
    },
    "papermill": {
     "duration": 0.440545,
     "end_time": "2024-08-16T15:10:08.180823",
     "exception": false,
     "start_time": "2024-08-16T15:10:07.740278",
     "status": "completed"
    },
    "tags": []
   },
   "outputs": [
    {
     "data": {
      "text/plain": [
       "Ind_ID                      0\n",
       "Test_date                   0\n",
       "Cough_symptoms            252\n",
       "Fever                     252\n",
       "Sore_throat                 1\n",
       "Shortness_of_breath         1\n",
       "Headache                    1\n",
       "Corona                      0\n",
       "Age_60_above           127320\n",
       "Sex                     19563\n",
       "Known_contact               0\n",
       "dtype: int64"
      ]
     },
     "execution_count": 8,
     "metadata": {},
     "output_type": "execute_result"
    }
   ],
   "source": [
    "data.isnull().sum()"
   ]
  },
  {
   "cell_type": "code",
   "execution_count": 9,
   "id": "5f38667d",
   "metadata": {
    "execution": {
     "iopub.execute_input": "2024-08-16T15:10:08.249705Z",
     "iopub.status.busy": "2024-08-16T15:10:08.249182Z",
     "iopub.status.idle": "2024-08-16T15:10:08.594311Z",
     "shell.execute_reply": "2024-08-16T15:10:08.592319Z"
    },
    "papermill": {
     "duration": 0.382871,
     "end_time": "2024-08-16T15:10:08.598271",
     "exception": false,
     "start_time": "2024-08-16T15:10:08.215400",
     "status": "completed"
    },
    "tags": []
   },
   "outputs": [
    {
     "name": "stdout",
     "output_type": "stream",
     "text": [
      "<class 'pandas.core.frame.DataFrame'>\n",
      "RangeIndex: 278848 entries, 0 to 278847\n",
      "Data columns (total 11 columns):\n",
      " #   Column               Non-Null Count   Dtype \n",
      "---  ------               --------------   ----- \n",
      " 0   Ind_ID               278848 non-null  int64 \n",
      " 1   Test_date            278848 non-null  object\n",
      " 2   Cough_symptoms       278596 non-null  object\n",
      " 3   Fever                278596 non-null  object\n",
      " 4   Sore_throat          278847 non-null  object\n",
      " 5   Shortness_of_breath  278847 non-null  object\n",
      " 6   Headache             278847 non-null  object\n",
      " 7   Corona               278848 non-null  object\n",
      " 8   Age_60_above         151528 non-null  object\n",
      " 9   Sex                  259285 non-null  object\n",
      " 10  Known_contact        278848 non-null  object\n",
      "dtypes: int64(1), object(10)\n",
      "memory usage: 23.4+ MB\n"
     ]
    }
   ],
   "source": [
    "data.info()"
   ]
  },
  {
   "cell_type": "code",
   "execution_count": 10,
   "id": "2628c5b3",
   "metadata": {
    "execution": {
     "iopub.execute_input": "2024-08-16T15:10:08.698720Z",
     "iopub.status.busy": "2024-08-16T15:10:08.698227Z",
     "iopub.status.idle": "2024-08-16T15:10:08.924022Z",
     "shell.execute_reply": "2024-08-16T15:10:08.922659Z"
    },
    "papermill": {
     "duration": 0.281507,
     "end_time": "2024-08-16T15:10:08.928512",
     "exception": false,
     "start_time": "2024-08-16T15:10:08.647005",
     "status": "completed"
    },
    "tags": []
   },
   "outputs": [
    {
     "data": {
      "text/plain": [
       "Ind_ID                 278848\n",
       "Test_date                  51\n",
       "Cough_symptoms              2\n",
       "Fever                       2\n",
       "Sore_throat                 2\n",
       "Shortness_of_breath         2\n",
       "Headache                    2\n",
       "Corona                      3\n",
       "Age_60_above                2\n",
       "Sex                         2\n",
       "Known_contact               3\n",
       "dtype: int64"
      ]
     },
     "execution_count": 10,
     "metadata": {},
     "output_type": "execute_result"
    }
   ],
   "source": [
    "data.nunique()"
   ]
  },
  {
   "cell_type": "code",
   "execution_count": 11,
   "id": "2e2a6845",
   "metadata": {
    "execution": {
     "iopub.execute_input": "2024-08-16T15:10:09.010793Z",
     "iopub.status.busy": "2024-08-16T15:10:09.008936Z",
     "iopub.status.idle": "2024-08-16T15:10:09.074431Z",
     "shell.execute_reply": "2024-08-16T15:10:09.072857Z"
    },
    "papermill": {
     "duration": 0.104956,
     "end_time": "2024-08-16T15:10:09.077693",
     "exception": false,
     "start_time": "2024-08-16T15:10:08.972737",
     "status": "completed"
    },
    "tags": []
   },
   "outputs": [
    {
     "data": {
      "text/html": [
       "<div>\n",
       "<style scoped>\n",
       "    .dataframe tbody tr th:only-of-type {\n",
       "        vertical-align: middle;\n",
       "    }\n",
       "\n",
       "    .dataframe tbody tr th {\n",
       "        vertical-align: top;\n",
       "    }\n",
       "\n",
       "    .dataframe thead th {\n",
       "        text-align: right;\n",
       "    }\n",
       "</style>\n",
       "<table border=\"1\" class=\"dataframe\">\n",
       "  <thead>\n",
       "    <tr style=\"text-align: right;\">\n",
       "      <th></th>\n",
       "      <th>count</th>\n",
       "    </tr>\n",
       "    <tr>\n",
       "      <th>Corona</th>\n",
       "      <th></th>\n",
       "    </tr>\n",
       "  </thead>\n",
       "  <tbody>\n",
       "    <tr>\n",
       "      <th>negative</th>\n",
       "      <td>260227</td>\n",
       "    </tr>\n",
       "    <tr>\n",
       "      <th>positive</th>\n",
       "      <td>14729</td>\n",
       "    </tr>\n",
       "    <tr>\n",
       "      <th>other</th>\n",
       "      <td>3892</td>\n",
       "    </tr>\n",
       "  </tbody>\n",
       "</table>\n",
       "</div>"
      ],
      "text/plain": [
       "           count\n",
       "Corona          \n",
       "negative  260227\n",
       "positive   14729\n",
       "other       3892"
      ]
     },
     "execution_count": 11,
     "metadata": {},
     "output_type": "execute_result"
    }
   ],
   "source": [
    "pd.DataFrame(data.Corona.value_counts())"
   ]
  },
  {
   "cell_type": "code",
   "execution_count": 12,
   "id": "5718059b",
   "metadata": {
    "execution": {
     "iopub.execute_input": "2024-08-16T15:10:09.145950Z",
     "iopub.status.busy": "2024-08-16T15:10:09.145436Z",
     "iopub.status.idle": "2024-08-16T15:10:09.204863Z",
     "shell.execute_reply": "2024-08-16T15:10:09.203303Z"
    },
    "papermill": {
     "duration": 0.097465,
     "end_time": "2024-08-16T15:10:09.207901",
     "exception": false,
     "start_time": "2024-08-16T15:10:09.110436",
     "status": "completed"
    },
    "tags": []
   },
   "outputs": [
    {
     "data": {
      "text/html": [
       "<div>\n",
       "<style scoped>\n",
       "    .dataframe tbody tr th:only-of-type {\n",
       "        vertical-align: middle;\n",
       "    }\n",
       "\n",
       "    .dataframe tbody tr th {\n",
       "        vertical-align: top;\n",
       "    }\n",
       "\n",
       "    .dataframe thead th {\n",
       "        text-align: right;\n",
       "    }\n",
       "</style>\n",
       "<table border=\"1\" class=\"dataframe\">\n",
       "  <thead>\n",
       "    <tr style=\"text-align: right;\">\n",
       "      <th></th>\n",
       "      <th>count</th>\n",
       "    </tr>\n",
       "    <tr>\n",
       "      <th>Test_date</th>\n",
       "      <th></th>\n",
       "    </tr>\n",
       "  </thead>\n",
       "  <tbody>\n",
       "    <tr>\n",
       "      <th>20-04-2020</th>\n",
       "      <td>10921</td>\n",
       "    </tr>\n",
       "    <tr>\n",
       "      <th>19-04-2020</th>\n",
       "      <td>10199</td>\n",
       "    </tr>\n",
       "    <tr>\n",
       "      <th>22-04-2020</th>\n",
       "      <td>9646</td>\n",
       "    </tr>\n",
       "    <tr>\n",
       "      <th>21-04-2020</th>\n",
       "      <td>9624</td>\n",
       "    </tr>\n",
       "    <tr>\n",
       "      <th>16-04-2020</th>\n",
       "      <td>9138</td>\n",
       "    </tr>\n",
       "    <tr>\n",
       "      <th>23-04-2020</th>\n",
       "      <td>8744</td>\n",
       "    </tr>\n",
       "    <tr>\n",
       "      <th>01-04-2020</th>\n",
       "      <td>8654</td>\n",
       "    </tr>\n",
       "    <tr>\n",
       "      <th>13-04-2020</th>\n",
       "      <td>8425</td>\n",
       "    </tr>\n",
       "    <tr>\n",
       "      <th>02-04-2020</th>\n",
       "      <td>8188</td>\n",
       "    </tr>\n",
       "    <tr>\n",
       "      <th>03-04-2020</th>\n",
       "      <td>8079</td>\n",
       "    </tr>\n",
       "    <tr>\n",
       "      <th>17-04-2020</th>\n",
       "      <td>7645</td>\n",
       "    </tr>\n",
       "    <tr>\n",
       "      <th>05-04-2020</th>\n",
       "      <td>7509</td>\n",
       "    </tr>\n",
       "    <tr>\n",
       "      <th>30-04-2020</th>\n",
       "      <td>7313</td>\n",
       "    </tr>\n",
       "    <tr>\n",
       "      <th>27-04-2020</th>\n",
       "      <td>7304</td>\n",
       "    </tr>\n",
       "    <tr>\n",
       "      <th>15-04-2020</th>\n",
       "      <td>7149</td>\n",
       "    </tr>\n",
       "    <tr>\n",
       "      <th>31-03-2020</th>\n",
       "      <td>7134</td>\n",
       "    </tr>\n",
       "    <tr>\n",
       "      <th>24-04-2020</th>\n",
       "      <td>7028</td>\n",
       "    </tr>\n",
       "    <tr>\n",
       "      <th>26-03-2020</th>\n",
       "      <td>6663</td>\n",
       "    </tr>\n",
       "    <tr>\n",
       "      <th>14-04-2020</th>\n",
       "      <td>6571</td>\n",
       "    </tr>\n",
       "    <tr>\n",
       "      <th>28-04-2020</th>\n",
       "      <td>6334</td>\n",
       "    </tr>\n",
       "    <tr>\n",
       "      <th>18-04-2020</th>\n",
       "      <td>6321</td>\n",
       "    </tr>\n",
       "    <tr>\n",
       "      <th>26-04-2020</th>\n",
       "      <td>6131</td>\n",
       "    </tr>\n",
       "    <tr>\n",
       "      <th>12-04-2020</th>\n",
       "      <td>5984</td>\n",
       "    </tr>\n",
       "    <tr>\n",
       "      <th>27-03-2020</th>\n",
       "      <td>5963</td>\n",
       "    </tr>\n",
       "    <tr>\n",
       "      <th>07-04-2020</th>\n",
       "      <td>5931</td>\n",
       "    </tr>\n",
       "    <tr>\n",
       "      <th>30-03-2020</th>\n",
       "      <td>5915</td>\n",
       "    </tr>\n",
       "    <tr>\n",
       "      <th>10-04-2020</th>\n",
       "      <td>5678</td>\n",
       "    </tr>\n",
       "    <tr>\n",
       "      <th>28-03-2020</th>\n",
       "      <td>5602</td>\n",
       "    </tr>\n",
       "    <tr>\n",
       "      <th>25-03-2020</th>\n",
       "      <td>5495</td>\n",
       "    </tr>\n",
       "    <tr>\n",
       "      <th>06-04-2020</th>\n",
       "      <td>5368</td>\n",
       "    </tr>\n",
       "    <tr>\n",
       "      <th>29-03-2020</th>\n",
       "      <td>5277</td>\n",
       "    </tr>\n",
       "    <tr>\n",
       "      <th>04-04-2020</th>\n",
       "      <td>5145</td>\n",
       "    </tr>\n",
       "    <tr>\n",
       "      <th>25-04-2020</th>\n",
       "      <td>5052</td>\n",
       "    </tr>\n",
       "    <tr>\n",
       "      <th>24-03-2020</th>\n",
       "      <td>4735</td>\n",
       "    </tr>\n",
       "    <tr>\n",
       "      <th>09-04-2020</th>\n",
       "      <td>4539</td>\n",
       "    </tr>\n",
       "    <tr>\n",
       "      <th>11-04-2020</th>\n",
       "      <td>4341</td>\n",
       "    </tr>\n",
       "    <tr>\n",
       "      <th>29-04-2020</th>\n",
       "      <td>4259</td>\n",
       "    </tr>\n",
       "    <tr>\n",
       "      <th>08-04-2020</th>\n",
       "      <td>4058</td>\n",
       "    </tr>\n",
       "    <tr>\n",
       "      <th>22-03-2020</th>\n",
       "      <td>3565</td>\n",
       "    </tr>\n",
       "    <tr>\n",
       "      <th>23-03-2020</th>\n",
       "      <td>3494</td>\n",
       "    </tr>\n",
       "    <tr>\n",
       "      <th>19-03-2020</th>\n",
       "      <td>2243</td>\n",
       "    </tr>\n",
       "    <tr>\n",
       "      <th>18-03-2020</th>\n",
       "      <td>1991</td>\n",
       "    </tr>\n",
       "    <tr>\n",
       "      <th>20-03-2020</th>\n",
       "      <td>1870</td>\n",
       "    </tr>\n",
       "    <tr>\n",
       "      <th>21-03-2020</th>\n",
       "      <td>1648</td>\n",
       "    </tr>\n",
       "    <tr>\n",
       "      <th>17-03-2020</th>\n",
       "      <td>1463</td>\n",
       "    </tr>\n",
       "    <tr>\n",
       "      <th>16-03-2020</th>\n",
       "      <td>1304</td>\n",
       "    </tr>\n",
       "    <tr>\n",
       "      <th>15-03-2020</th>\n",
       "      <td>985</td>\n",
       "    </tr>\n",
       "    <tr>\n",
       "      <th>13-03-2020</th>\n",
       "      <td>686</td>\n",
       "    </tr>\n",
       "    <tr>\n",
       "      <th>12-03-2020</th>\n",
       "      <td>634</td>\n",
       "    </tr>\n",
       "    <tr>\n",
       "      <th>14-03-2020</th>\n",
       "      <td>609</td>\n",
       "    </tr>\n",
       "    <tr>\n",
       "      <th>11-03-2020</th>\n",
       "      <td>294</td>\n",
       "    </tr>\n",
       "  </tbody>\n",
       "</table>\n",
       "</div>"
      ],
      "text/plain": [
       "            count\n",
       "Test_date        \n",
       "20-04-2020  10921\n",
       "19-04-2020  10199\n",
       "22-04-2020   9646\n",
       "21-04-2020   9624\n",
       "16-04-2020   9138\n",
       "23-04-2020   8744\n",
       "01-04-2020   8654\n",
       "13-04-2020   8425\n",
       "02-04-2020   8188\n",
       "03-04-2020   8079\n",
       "17-04-2020   7645\n",
       "05-04-2020   7509\n",
       "30-04-2020   7313\n",
       "27-04-2020   7304\n",
       "15-04-2020   7149\n",
       "31-03-2020   7134\n",
       "24-04-2020   7028\n",
       "26-03-2020   6663\n",
       "14-04-2020   6571\n",
       "28-04-2020   6334\n",
       "18-04-2020   6321\n",
       "26-04-2020   6131\n",
       "12-04-2020   5984\n",
       "27-03-2020   5963\n",
       "07-04-2020   5931\n",
       "30-03-2020   5915\n",
       "10-04-2020   5678\n",
       "28-03-2020   5602\n",
       "25-03-2020   5495\n",
       "06-04-2020   5368\n",
       "29-03-2020   5277\n",
       "04-04-2020   5145\n",
       "25-04-2020   5052\n",
       "24-03-2020   4735\n",
       "09-04-2020   4539\n",
       "11-04-2020   4341\n",
       "29-04-2020   4259\n",
       "08-04-2020   4058\n",
       "22-03-2020   3565\n",
       "23-03-2020   3494\n",
       "19-03-2020   2243\n",
       "18-03-2020   1991\n",
       "20-03-2020   1870\n",
       "21-03-2020   1648\n",
       "17-03-2020   1463\n",
       "16-03-2020   1304\n",
       "15-03-2020    985\n",
       "13-03-2020    686\n",
       "12-03-2020    634\n",
       "14-03-2020    609\n",
       "11-03-2020    294"
      ]
     },
     "execution_count": 12,
     "metadata": {},
     "output_type": "execute_result"
    }
   ],
   "source": [
    "pd.DataFrame(data.Test_date.value_counts())"
   ]
  },
  {
   "cell_type": "code",
   "execution_count": 13,
   "id": "8c33fe0d",
   "metadata": {
    "execution": {
     "iopub.execute_input": "2024-08-16T15:10:09.279452Z",
     "iopub.status.busy": "2024-08-16T15:10:09.277986Z",
     "iopub.status.idle": "2024-08-16T15:10:09.311728Z",
     "shell.execute_reply": "2024-08-16T15:10:09.310290Z"
    },
    "papermill": {
     "duration": 0.072364,
     "end_time": "2024-08-16T15:10:09.315051",
     "exception": false,
     "start_time": "2024-08-16T15:10:09.242687",
     "status": "completed"
    },
    "tags": []
   },
   "outputs": [
    {
     "data": {
      "text/plain": [
       "array(['Abroad', 'Contact with confirmed', 'Other'], dtype=object)"
      ]
     },
     "execution_count": 13,
     "metadata": {},
     "output_type": "execute_result"
    }
   ],
   "source": [
    "data[\"Known_contact\"].unique()"
   ]
  },
  {
   "cell_type": "code",
   "execution_count": 14,
   "id": "6b65108f",
   "metadata": {
    "execution": {
     "iopub.execute_input": "2024-08-16T15:10:09.385683Z",
     "iopub.status.busy": "2024-08-16T15:10:09.385132Z",
     "iopub.status.idle": "2024-08-16T15:10:09.895795Z",
     "shell.execute_reply": "2024-08-16T15:10:09.894203Z"
    },
    "papermill": {
     "duration": 0.55042,
     "end_time": "2024-08-16T15:10:09.899243",
     "exception": false,
     "start_time": "2024-08-16T15:10:09.348823",
     "status": "completed"
    },
    "tags": []
   },
   "outputs": [
    {
     "data": {
      "text/plain": [
       "0"
      ]
     },
     "execution_count": 14,
     "metadata": {},
     "output_type": "execute_result"
    }
   ],
   "source": [
    "data.duplicated().sum()"
   ]
  },
  {
   "cell_type": "markdown",
   "id": "a8a123d9",
   "metadata": {
    "papermill": {
     "duration": 0.033296,
     "end_time": "2024-08-16T15:10:09.966544",
     "exception": false,
     "start_time": "2024-08-16T15:10:09.933248",
     "status": "completed"
    },
    "tags": []
   },
   "source": [
    "Feature Engneering"
   ]
  },
  {
   "cell_type": "markdown",
   "id": "cbf6e27c",
   "metadata": {
    "papermill": {
     "duration": 0.033698,
     "end_time": "2024-08-16T15:10:10.034037",
     "exception": false,
     "start_time": "2024-08-16T15:10:10.000339",
     "status": "completed"
    },
    "tags": []
   },
   "source": [
    "Handling Missing Data"
   ]
  },
  {
   "cell_type": "code",
   "execution_count": 15,
   "id": "b9c08c35",
   "metadata": {
    "execution": {
     "iopub.execute_input": "2024-08-16T15:10:10.103958Z",
     "iopub.status.busy": "2024-08-16T15:10:10.102440Z",
     "iopub.status.idle": "2024-08-16T15:10:10.410923Z",
     "shell.execute_reply": "2024-08-16T15:10:10.409384Z"
    },
    "papermill": {
     "duration": 0.346031,
     "end_time": "2024-08-16T15:10:10.413666",
     "exception": false,
     "start_time": "2024-08-16T15:10:10.067635",
     "status": "completed"
    },
    "tags": []
   },
   "outputs": [
    {
     "data": {
      "text/plain": [
       "Ind_ID                      0\n",
       "Test_date                   0\n",
       "Cough_symptoms            252\n",
       "Fever                     252\n",
       "Sore_throat                 1\n",
       "Shortness_of_breath         1\n",
       "Headache                    1\n",
       "Corona                      0\n",
       "Age_60_above           127320\n",
       "Sex                     19563\n",
       "Known_contact               0\n",
       "dtype: int64"
      ]
     },
     "execution_count": 15,
     "metadata": {},
     "output_type": "execute_result"
    }
   ],
   "source": [
    "missing_data = data.isnull().sum()\n",
    "missing_data"
   ]
  },
  {
   "cell_type": "code",
   "execution_count": 16,
   "id": "5a4c5c79",
   "metadata": {
    "execution": {
     "iopub.execute_input": "2024-08-16T15:10:10.481066Z",
     "iopub.status.busy": "2024-08-16T15:10:10.480661Z",
     "iopub.status.idle": "2024-08-16T15:10:10.489107Z",
     "shell.execute_reply": "2024-08-16T15:10:10.487770Z"
    },
    "papermill": {
     "duration": 0.045199,
     "end_time": "2024-08-16T15:10:10.491782",
     "exception": false,
     "start_time": "2024-08-16T15:10:10.446583",
     "status": "completed"
    },
    "tags": []
   },
   "outputs": [
    {
     "data": {
      "text/plain": [
       "(278848, 11)"
      ]
     },
     "execution_count": 16,
     "metadata": {},
     "output_type": "execute_result"
    }
   ],
   "source": [
    "data.shape"
   ]
  },
  {
   "cell_type": "code",
   "execution_count": 17,
   "id": "2476219c",
   "metadata": {
    "execution": {
     "iopub.execute_input": "2024-08-16T15:10:10.563197Z",
     "iopub.status.busy": "2024-08-16T15:10:10.562733Z",
     "iopub.status.idle": "2024-08-16T15:10:10.576559Z",
     "shell.execute_reply": "2024-08-16T15:10:10.575100Z"
    },
    "papermill": {
     "duration": 0.053291,
     "end_time": "2024-08-16T15:10:10.579607",
     "exception": false,
     "start_time": "2024-08-16T15:10:10.526316",
     "status": "completed"
    },
    "tags": []
   },
   "outputs": [
    {
     "data": {
      "text/plain": [
       "Ind_ID                 0.000000\n",
       "Test_date              0.000000\n",
       "Cough_symptoms         0.000904\n",
       "Fever                  0.000904\n",
       "Sore_throat            0.000004\n",
       "Shortness_of_breath    0.000004\n",
       "Headache               0.000004\n",
       "Corona                 0.000000\n",
       "Age_60_above           0.456593\n",
       "Sex                    0.070157\n",
       "Known_contact          0.000000\n",
       "dtype: float64"
      ]
     },
     "execution_count": 17,
     "metadata": {},
     "output_type": "execute_result"
    }
   ],
   "source": [
    "missing_data / data.shape[0]"
   ]
  },
  {
   "cell_type": "code",
   "execution_count": 18,
   "id": "1862917f",
   "metadata": {
    "execution": {
     "iopub.execute_input": "2024-08-16T15:10:10.652616Z",
     "iopub.status.busy": "2024-08-16T15:10:10.652142Z",
     "iopub.status.idle": "2024-08-16T15:10:11.018976Z",
     "shell.execute_reply": "2024-08-16T15:10:11.017519Z"
    },
    "papermill": {
     "duration": 0.407922,
     "end_time": "2024-08-16T15:10:11.021822",
     "exception": false,
     "start_time": "2024-08-16T15:10:10.613900",
     "status": "completed"
    },
    "tags": []
   },
   "outputs": [
    {
     "name": "stdout",
     "output_type": "stream",
     "text": [
      "0         2\n",
      "1         2\n",
      "2         2\n",
      "3         2\n",
      "4         2\n",
      "         ..\n",
      "278843    1\n",
      "278844    1\n",
      "278845    1\n",
      "278846    1\n",
      "278847    1\n",
      "Length: 278848, dtype: int64\n"
     ]
    }
   ],
   "source": [
    "row_nan_count = data.isna().sum(axis=1)\n",
    "print(row_nan_count)"
   ]
  },
  {
   "cell_type": "markdown",
   "id": "6fa16ce2",
   "metadata": {
    "papermill": {
     "duration": 0.032985,
     "end_time": "2024-08-16T15:10:11.088077",
     "exception": false,
     "start_time": "2024-08-16T15:10:11.055092",
     "status": "completed"
    },
    "tags": []
   },
   "source": [
    "Cough_symptoms"
   ]
  },
  {
   "cell_type": "code",
   "execution_count": 19,
   "id": "8d57eae2",
   "metadata": {
    "execution": {
     "iopub.execute_input": "2024-08-16T15:10:11.157809Z",
     "iopub.status.busy": "2024-08-16T15:10:11.156511Z",
     "iopub.status.idle": "2024-08-16T15:10:11.209611Z",
     "shell.execute_reply": "2024-08-16T15:10:11.208055Z"
    },
    "papermill": {
     "duration": 0.090566,
     "end_time": "2024-08-16T15:10:11.212153",
     "exception": false,
     "start_time": "2024-08-16T15:10:11.121587",
     "status": "completed"
    },
    "tags": []
   },
   "outputs": [
    {
     "data": {
      "text/plain": [
       "Cough_symptoms\n",
       "False    236368\n",
       "True      42228\n",
       "Name: count, dtype: int64"
      ]
     },
     "execution_count": 19,
     "metadata": {},
     "output_type": "execute_result"
    }
   ],
   "source": [
    "data[\"Cough_symptoms\"].value_counts()"
   ]
  },
  {
   "cell_type": "code",
   "execution_count": 20,
   "id": "32338681",
   "metadata": {
    "execution": {
     "iopub.execute_input": "2024-08-16T15:10:11.283587Z",
     "iopub.status.busy": "2024-08-16T15:10:11.283093Z",
     "iopub.status.idle": "2024-08-16T15:10:11.380548Z",
     "shell.execute_reply": "2024-08-16T15:10:11.379062Z"
    },
    "papermill": {
     "duration": 0.136548,
     "end_time": "2024-08-16T15:10:11.384147",
     "exception": false,
     "start_time": "2024-08-16T15:10:11.247599",
     "status": "completed"
    },
    "tags": []
   },
   "outputs": [],
   "source": [
    "data[\"Cough_symptoms\"].fillna(method = \"ffill\",inplace=True)"
   ]
  },
  {
   "cell_type": "code",
   "execution_count": 21,
   "id": "b8534130",
   "metadata": {
    "execution": {
     "iopub.execute_input": "2024-08-16T15:10:11.455840Z",
     "iopub.status.busy": "2024-08-16T15:10:11.455316Z",
     "iopub.status.idle": "2024-08-16T15:10:11.472246Z",
     "shell.execute_reply": "2024-08-16T15:10:11.470874Z"
    },
    "papermill": {
     "duration": 0.056143,
     "end_time": "2024-08-16T15:10:11.475375",
     "exception": false,
     "start_time": "2024-08-16T15:10:11.419232",
     "status": "completed"
    },
    "tags": []
   },
   "outputs": [
    {
     "data": {
      "text/html": [
       "<div>\n",
       "<style scoped>\n",
       "    .dataframe tbody tr th:only-of-type {\n",
       "        vertical-align: middle;\n",
       "    }\n",
       "\n",
       "    .dataframe tbody tr th {\n",
       "        vertical-align: top;\n",
       "    }\n",
       "\n",
       "    .dataframe thead th {\n",
       "        text-align: right;\n",
       "    }\n",
       "</style>\n",
       "<table border=\"1\" class=\"dataframe\">\n",
       "  <thead>\n",
       "    <tr style=\"text-align: right;\">\n",
       "      <th></th>\n",
       "      <th>count</th>\n",
       "    </tr>\n",
       "    <tr>\n",
       "      <th>Cough_symptoms</th>\n",
       "      <th></th>\n",
       "    </tr>\n",
       "  </thead>\n",
       "  <tbody>\n",
       "    <tr>\n",
       "      <th>False</th>\n",
       "      <td>236598</td>\n",
       "    </tr>\n",
       "    <tr>\n",
       "      <th>True</th>\n",
       "      <td>42250</td>\n",
       "    </tr>\n",
       "  </tbody>\n",
       "</table>\n",
       "</div>"
      ],
      "text/plain": [
       "                 count\n",
       "Cough_symptoms        \n",
       "False           236598\n",
       "True             42250"
      ]
     },
     "execution_count": 21,
     "metadata": {},
     "output_type": "execute_result"
    }
   ],
   "source": [
    "pd.DataFrame(data.Cough_symptoms.value_counts())"
   ]
  },
  {
   "cell_type": "code",
   "execution_count": 22,
   "id": "01dc3cba",
   "metadata": {
    "execution": {
     "iopub.execute_input": "2024-08-16T15:10:11.548770Z",
     "iopub.status.busy": "2024-08-16T15:10:11.548176Z",
     "iopub.status.idle": "2024-08-16T15:10:12.734142Z",
     "shell.execute_reply": "2024-08-16T15:10:12.732370Z"
    },
    "papermill": {
     "duration": 1.226063,
     "end_time": "2024-08-16T15:10:12.737501",
     "exception": false,
     "start_time": "2024-08-16T15:10:11.511438",
     "status": "completed"
    },
    "tags": []
   },
   "outputs": [
    {
     "data": {
      "image/png": "[encoded data removed]",
      "text/plain": [
       "<Figure size 640x480 with 1 Axes>"
      ]
     },
     "metadata": {},
     "output_type": "display_data"
    }
   ],
   "source": [
    "ax = sns.countplot( x= \"Corona\", data=df, palette=[\"g\",\"r\"],hue=\"Cough_symptoms\")\n",
    "\n",
    "for bars in ax.containers:\n",
    "    ax.bar_label(bars)\n"
   ]
  },
  {
   "cell_type": "markdown",
   "id": "226ac73d",
   "metadata": {
    "execution": {
     "iopub.execute_input": "2024-08-04T15:03:11.632596Z",
     "iopub.status.busy": "2024-08-04T15:03:11.632033Z",
     "iopub.status.idle": "2024-08-04T15:03:11.914762Z",
     "shell.execute_reply": "2024-08-04T15:03:11.913486Z",
     "shell.execute_reply.started": "2024-08-04T15:03:11.632553Z"
    },
    "papermill": {
     "duration": 0.033987,
     "end_time": "2024-08-16T15:10:12.806930",
     "exception": false,
     "start_time": "2024-08-16T15:10:12.772943",
     "status": "completed"
    },
    "tags": []
   },
   "source": [
    "Fever                     "
   ]
  },
  {
   "cell_type": "code",
   "execution_count": 23,
   "id": "b0ea7dc3",
   "metadata": {
    "execution": {
     "iopub.execute_input": "2024-08-16T15:10:12.878782Z",
     "iopub.status.busy": "2024-08-16T15:10:12.877338Z",
     "iopub.status.idle": "2024-08-16T15:10:12.929722Z",
     "shell.execute_reply": "2024-08-16T15:10:12.928001Z"
    },
    "papermill": {
     "duration": 0.092076,
     "end_time": "2024-08-16T15:10:12.932872",
     "exception": false,
     "start_time": "2024-08-16T15:10:12.840796",
     "status": "completed"
    },
    "tags": []
   },
   "outputs": [
    {
     "data": {
      "text/plain": [
       "Fever\n",
       "False    256844\n",
       "True      21752\n",
       "Name: count, dtype: int64"
      ]
     },
     "execution_count": 23,
     "metadata": {},
     "output_type": "execute_result"
    }
   ],
   "source": [
    "data[\"Fever\"].value_counts()"
   ]
  },
  {
   "cell_type": "code",
   "execution_count": 24,
   "id": "862bba09",
   "metadata": {
    "execution": {
     "iopub.execute_input": "2024-08-16T15:10:13.004506Z",
     "iopub.status.busy": "2024-08-16T15:10:13.003982Z",
     "iopub.status.idle": "2024-08-16T15:10:13.100360Z",
     "shell.execute_reply": "2024-08-16T15:10:13.098680Z"
    },
    "papermill": {
     "duration": 0.136571,
     "end_time": "2024-08-16T15:10:13.103683",
     "exception": false,
     "start_time": "2024-08-16T15:10:12.967112",
     "status": "completed"
    },
    "tags": []
   },
   "outputs": [],
   "source": [
    "data[\"Fever\"].fillna(method = \"ffill\",inplace=True)"
   ]
  },
  {
   "cell_type": "code",
   "execution_count": 25,
   "id": "e511f9ad",
   "metadata": {
    "execution": {
     "iopub.execute_input": "2024-08-16T15:10:13.175497Z",
     "iopub.status.busy": "2024-08-16T15:10:13.174939Z",
     "iopub.status.idle": "2024-08-16T15:10:13.188300Z",
     "shell.execute_reply": "2024-08-16T15:10:13.186742Z"
    },
    "papermill": {
     "duration": 0.052656,
     "end_time": "2024-08-16T15:10:13.191401",
     "exception": false,
     "start_time": "2024-08-16T15:10:13.138745",
     "status": "completed"
    },
    "tags": []
   },
   "outputs": [
    {
     "data": {
      "text/plain": [
       "Fever\n",
       "False    257051\n",
       "True      21797\n",
       "Name: count, dtype: int64"
      ]
     },
     "execution_count": 25,
     "metadata": {},
     "output_type": "execute_result"
    }
   ],
   "source": [
    "data['Fever'].value_counts()"
   ]
  },
  {
   "cell_type": "code",
   "execution_count": 26,
   "id": "fe37da2f",
   "metadata": {
    "execution": {
     "iopub.execute_input": "2024-08-16T15:10:13.264738Z",
     "iopub.status.busy": "2024-08-16T15:10:13.264245Z",
     "iopub.status.idle": "2024-08-16T15:10:14.416339Z",
     "shell.execute_reply": "2024-08-16T15:10:14.414856Z"
    },
    "papermill": {
     "duration": 1.193562,
     "end_time": "2024-08-16T15:10:14.419451",
     "exception": false,
     "start_time": "2024-08-16T15:10:13.225889",
     "status": "completed"
    },
    "tags": []
   },
   "outputs": [
    {
     "data": {
      "image/png": "[encoded data removed]",
      "text/plain": [
       "<Figure size 640x480 with 1 Axes>"
      ]
     },
     "metadata": {},
     "output_type": "display_data"
    }
   ],
   "source": [
    "ax = sns.countplot( x= \"Corona\", data=df,hue=\"Fever\")\n",
    "\n",
    "for bars in ax.containers:\n",
    "    ax.bar_label(bars)\n"
   ]
  },
  {
   "cell_type": "code",
   "execution_count": 27,
   "id": "0e76c4c5",
   "metadata": {
    "execution": {
     "iopub.execute_input": "2024-08-16T15:10:14.492560Z",
     "iopub.status.busy": "2024-08-16T15:10:14.492058Z",
     "iopub.status.idle": "2024-08-16T15:10:14.743908Z",
     "shell.execute_reply": "2024-08-16T15:10:14.742124Z"
    },
    "papermill": {
     "duration": 0.292384,
     "end_time": "2024-08-16T15:10:14.747062",
     "exception": false,
     "start_time": "2024-08-16T15:10:14.454678",
     "status": "completed"
    },
    "tags": []
   },
   "outputs": [
    {
     "data": {
      "text/plain": [
       "Ind_ID                      0\n",
       "Test_date                   0\n",
       "Cough_symptoms              0\n",
       "Fever                       0\n",
       "Sore_throat                 1\n",
       "Shortness_of_breath         1\n",
       "Headache                    1\n",
       "Corona                      0\n",
       "Age_60_above           127320\n",
       "Sex                     19563\n",
       "Known_contact               0\n",
       "dtype: int64"
      ]
     },
     "execution_count": 27,
     "metadata": {},
     "output_type": "execute_result"
    }
   ],
   "source": [
    "data.isnull().sum()"
   ]
  },
  {
   "cell_type": "markdown",
   "id": "e9414aa2",
   "metadata": {
    "papermill": {
     "duration": 0.035261,
     "end_time": "2024-08-16T15:10:14.817878",
     "exception": false,
     "start_time": "2024-08-16T15:10:14.782617",
     "status": "completed"
    },
    "tags": []
   },
   "source": [
    "Sore_throat"
   ]
  },
  {
   "cell_type": "code",
   "execution_count": 28,
   "id": "d0fbc7eb",
   "metadata": {
    "execution": {
     "iopub.execute_input": "2024-08-16T15:10:14.892196Z",
     "iopub.status.busy": "2024-08-16T15:10:14.891672Z",
     "iopub.status.idle": "2024-08-16T15:10:14.944133Z",
     "shell.execute_reply": "2024-08-16T15:10:14.942578Z"
    },
    "papermill": {
     "duration": 0.092874,
     "end_time": "2024-08-16T15:10:14.946957",
     "exception": false,
     "start_time": "2024-08-16T15:10:14.854083",
     "status": "completed"
    },
    "tags": []
   },
   "outputs": [
    {
     "data": {
      "text/plain": [
       "Sore_throat\n",
       "False    276921\n",
       "True       1926\n",
       "Name: count, dtype: int64"
      ]
     },
     "execution_count": 28,
     "metadata": {},
     "output_type": "execute_result"
    }
   ],
   "source": [
    "data['Sore_throat'].value_counts()"
   ]
  },
  {
   "cell_type": "code",
   "execution_count": 29,
   "id": "875278d8",
   "metadata": {
    "execution": {
     "iopub.execute_input": "2024-08-16T15:10:15.021134Z",
     "iopub.status.busy": "2024-08-16T15:10:15.020608Z",
     "iopub.status.idle": "2024-08-16T15:10:15.117440Z",
     "shell.execute_reply": "2024-08-16T15:10:15.115547Z"
    },
    "papermill": {
     "duration": 0.137958,
     "end_time": "2024-08-16T15:10:15.120696",
     "exception": false,
     "start_time": "2024-08-16T15:10:14.982738",
     "status": "completed"
    },
    "tags": []
   },
   "outputs": [],
   "source": [
    "data[\"Sore_throat\"].fillna(method = \"ffill\",inplace=True)"
   ]
  },
  {
   "cell_type": "code",
   "execution_count": 30,
   "id": "b6d238b7",
   "metadata": {
    "execution": {
     "iopub.execute_input": "2024-08-16T15:10:15.195355Z",
     "iopub.status.busy": "2024-08-16T15:10:15.194019Z",
     "iopub.status.idle": "2024-08-16T15:10:15.207139Z",
     "shell.execute_reply": "2024-08-16T15:10:15.205658Z"
    },
    "papermill": {
     "duration": 0.054141,
     "end_time": "2024-08-16T15:10:15.210049",
     "exception": false,
     "start_time": "2024-08-16T15:10:15.155908",
     "status": "completed"
    },
    "tags": []
   },
   "outputs": [
    {
     "data": {
      "text/plain": [
       "Sore_throat\n",
       "False    276922\n",
       "True       1926\n",
       "Name: count, dtype: int64"
      ]
     },
     "execution_count": 30,
     "metadata": {},
     "output_type": "execute_result"
    }
   ],
   "source": [
    "data['Sore_throat'].value_counts()"
   ]
  },
  {
   "cell_type": "code",
   "execution_count": 31,
   "id": "07fca701",
   "metadata": {
    "execution": {
     "iopub.execute_input": "2024-08-16T15:10:15.286040Z",
     "iopub.status.busy": "2024-08-16T15:10:15.285516Z",
     "iopub.status.idle": "2024-08-16T15:10:16.419789Z",
     "shell.execute_reply": "2024-08-16T15:10:16.418149Z"
    },
    "papermill": {
     "duration": 1.174888,
     "end_time": "2024-08-16T15:10:16.422637",
     "exception": false,
     "start_time": "2024-08-16T15:10:15.247749",
     "status": "completed"
    },
    "tags": []
   },
   "outputs": [
    {
     "data": {
      "image/png": "[encoded data removed]",
      "text/plain": [
       "<Figure size 640x480 with 1 Axes>"
      ]
     },
     "metadata": {},
     "output_type": "display_data"
    }
   ],
   "source": [
    "ax = sns.countplot( x= \"Corona\", data=df,palette=[\"b\",\"r\"],hue=\"Sore_throat\")\n",
    "\n",
    "for bars in ax.containers:\n",
    "    ax.bar_label(bars)\n"
   ]
  },
  {
   "cell_type": "code",
   "execution_count": 32,
   "id": "e259f414",
   "metadata": {
    "execution": {
     "iopub.execute_input": "2024-08-16T15:10:16.498916Z",
     "iopub.status.busy": "2024-08-16T15:10:16.498442Z",
     "iopub.status.idle": "2024-08-16T15:10:16.714224Z",
     "shell.execute_reply": "2024-08-16T15:10:16.712585Z"
    },
    "papermill": {
     "duration": 0.258542,
     "end_time": "2024-08-16T15:10:16.717315",
     "exception": false,
     "start_time": "2024-08-16T15:10:16.458773",
     "status": "completed"
    },
    "tags": []
   },
   "outputs": [
    {
     "data": {
      "text/plain": [
       "Ind_ID                      0\n",
       "Test_date                   0\n",
       "Cough_symptoms              0\n",
       "Fever                       0\n",
       "Sore_throat                 0\n",
       "Shortness_of_breath         1\n",
       "Headache                    1\n",
       "Corona                      0\n",
       "Age_60_above           127320\n",
       "Sex                     19563\n",
       "Known_contact               0\n",
       "dtype: int64"
      ]
     },
     "execution_count": 32,
     "metadata": {},
     "output_type": "execute_result"
    }
   ],
   "source": [
    "data.isnull().sum()"
   ]
  },
  {
   "cell_type": "markdown",
   "id": "8e6cb6e5",
   "metadata": {
    "papermill": {
     "duration": 0.03724,
     "end_time": "2024-08-16T15:10:16.793096",
     "exception": false,
     "start_time": "2024-08-16T15:10:16.755856",
     "status": "completed"
    },
    "tags": []
   },
   "source": [
    "Shortness_of_breath"
   ]
  },
  {
   "cell_type": "code",
   "execution_count": 33,
   "id": "43fcfdcc",
   "metadata": {
    "execution": {
     "iopub.execute_input": "2024-08-16T15:10:16.870903Z",
     "iopub.status.busy": "2024-08-16T15:10:16.870376Z",
     "iopub.status.idle": "2024-08-16T15:10:16.883960Z",
     "shell.execute_reply": "2024-08-16T15:10:16.882130Z"
    },
    "papermill": {
     "duration": 0.055669,
     "end_time": "2024-08-16T15:10:16.886807",
     "exception": false,
     "start_time": "2024-08-16T15:10:16.831138",
     "status": "completed"
    },
    "tags": []
   },
   "outputs": [
    {
     "data": {
      "text/plain": [
       "Sore_throat\n",
       "False    276922\n",
       "True       1926\n",
       "Name: count, dtype: int64"
      ]
     },
     "execution_count": 33,
     "metadata": {},
     "output_type": "execute_result"
    }
   ],
   "source": [
    "data['Sore_throat'].value_counts()"
   ]
  },
  {
   "cell_type": "code",
   "execution_count": 34,
   "id": "50fd55b8",
   "metadata": {
    "execution": {
     "iopub.execute_input": "2024-08-16T15:10:16.965977Z",
     "iopub.status.busy": "2024-08-16T15:10:16.964529Z",
     "iopub.status.idle": "2024-08-16T15:10:17.059865Z",
     "shell.execute_reply": "2024-08-16T15:10:17.058400Z"
    },
    "papermill": {
     "duration": 0.137961,
     "end_time": "2024-08-16T15:10:17.063410",
     "exception": false,
     "start_time": "2024-08-16T15:10:16.925449",
     "status": "completed"
    },
    "tags": []
   },
   "outputs": [],
   "source": [
    "data[\"Shortness_of_breath\"].fillna(method = \"ffill\",inplace=True)"
   ]
  },
  {
   "cell_type": "code",
   "execution_count": 35,
   "id": "f9115084",
   "metadata": {
    "execution": {
     "iopub.execute_input": "2024-08-16T15:10:17.141394Z",
     "iopub.status.busy": "2024-08-16T15:10:17.140387Z",
     "iopub.status.idle": "2024-08-16T15:10:17.330375Z",
     "shell.execute_reply": "2024-08-16T15:10:17.328617Z"
    },
    "papermill": {
     "duration": 0.232754,
     "end_time": "2024-08-16T15:10:17.333697",
     "exception": false,
     "start_time": "2024-08-16T15:10:17.100943",
     "status": "completed"
    },
    "tags": []
   },
   "outputs": [
    {
     "data": {
      "text/plain": [
       "Ind_ID                      0\n",
       "Test_date                   0\n",
       "Cough_symptoms              0\n",
       "Fever                       0\n",
       "Sore_throat                 0\n",
       "Shortness_of_breath         0\n",
       "Headache                    1\n",
       "Corona                      0\n",
       "Age_60_above           127320\n",
       "Sex                     19563\n",
       "Known_contact               0\n",
       "dtype: int64"
      ]
     },
     "execution_count": 35,
     "metadata": {},
     "output_type": "execute_result"
    }
   ],
   "source": [
    "data.isnull().sum()"
   ]
  },
  {
   "cell_type": "code",
   "execution_count": 36,
   "id": "3dc18a59",
   "metadata": {
    "execution": {
     "iopub.execute_input": "2024-08-16T15:10:17.413168Z",
     "iopub.status.busy": "2024-08-16T15:10:17.412720Z",
     "iopub.status.idle": "2024-08-16T15:10:18.510919Z",
     "shell.execute_reply": "2024-08-16T15:10:18.509324Z"
    },
    "papermill": {
     "duration": 1.140928,
     "end_time": "2024-08-16T15:10:18.514023",
     "exception": false,
     "start_time": "2024-08-16T15:10:17.373095",
     "status": "completed"
    },
    "tags": []
   },
   "outputs": [
    {
     "data": {
      "image/png": "[encoded data removed]",
      "text/plain": [
       "<Figure size 640x480 with 1 Axes>"
      ]
     },
     "metadata": {},
     "output_type": "display_data"
    }
   ],
   "source": [
    "ax = sns.countplot( x= \"Corona\", data=df,hue=\"Shortness_of_breath\")\n",
    "\n",
    "for bars in ax.containers:\n",
    "    ax.bar_label(bars)\n"
   ]
  },
  {
   "cell_type": "markdown",
   "id": "73d4b3f9",
   "metadata": {
    "papermill": {
     "duration": 0.037298,
     "end_time": "2024-08-16T15:10:18.589915",
     "exception": false,
     "start_time": "2024-08-16T15:10:18.552617",
     "status": "completed"
    },
    "tags": []
   },
   "source": [
    "Headache"
   ]
  },
  {
   "cell_type": "code",
   "execution_count": 37,
   "id": "3c4f5172",
   "metadata": {
    "execution": {
     "iopub.execute_input": "2024-08-16T15:10:18.668681Z",
     "iopub.status.busy": "2024-08-16T15:10:18.668195Z",
     "iopub.status.idle": "2024-08-16T15:10:18.763140Z",
     "shell.execute_reply": "2024-08-16T15:10:18.761746Z"
    },
    "papermill": {
     "duration": 0.139755,
     "end_time": "2024-08-16T15:10:18.766881",
     "exception": false,
     "start_time": "2024-08-16T15:10:18.627126",
     "status": "completed"
    },
    "tags": []
   },
   "outputs": [],
   "source": [
    "data[\"Headache\"].fillna(method = \"ffill\",inplace=True)"
   ]
  },
  {
   "cell_type": "code",
   "execution_count": 38,
   "id": "d873fbfa",
   "metadata": {
    "execution": {
     "iopub.execute_input": "2024-08-16T15:10:18.846936Z",
     "iopub.status.busy": "2024-08-16T15:10:18.846425Z",
     "iopub.status.idle": "2024-08-16T15:10:18.998711Z",
     "shell.execute_reply": "2024-08-16T15:10:18.997371Z"
    },
    "papermill": {
     "duration": 0.195544,
     "end_time": "2024-08-16T15:10:19.001640",
     "exception": false,
     "start_time": "2024-08-16T15:10:18.806096",
     "status": "completed"
    },
    "tags": []
   },
   "outputs": [
    {
     "data": {
      "text/plain": [
       "Ind_ID                      0\n",
       "Test_date                   0\n",
       "Cough_symptoms              0\n",
       "Fever                       0\n",
       "Sore_throat                 0\n",
       "Shortness_of_breath         0\n",
       "Headache                    0\n",
       "Corona                      0\n",
       "Age_60_above           127320\n",
       "Sex                     19563\n",
       "Known_contact               0\n",
       "dtype: int64"
      ]
     },
     "execution_count": 38,
     "metadata": {},
     "output_type": "execute_result"
    }
   ],
   "source": [
    "data.isnull().sum()"
   ]
  },
  {
   "cell_type": "code",
   "execution_count": 39,
   "id": "8c0eafc3",
   "metadata": {
    "execution": {
     "iopub.execute_input": "2024-08-16T15:10:19.082886Z",
     "iopub.status.busy": "2024-08-16T15:10:19.081663Z",
     "iopub.status.idle": "2024-08-16T15:10:20.212945Z",
     "shell.execute_reply": "2024-08-16T15:10:20.211157Z"
    },
    "papermill": {
     "duration": 1.175814,
     "end_time": "2024-08-16T15:10:20.216155",
     "exception": false,
     "start_time": "2024-08-16T15:10:19.040341",
     "status": "completed"
    },
    "tags": []
   },
   "outputs": [
    {
     "data": {
      "image/png": "[encoded data removed]",
      "text/plain": [
       "<Figure size 640x480 with 1 Axes>"
      ]
     },
     "metadata": {},
     "output_type": "display_data"
    }
   ],
   "source": [
    "ax = sns.countplot( x= \"Corona\", data=df, palette=[\"g\",\"r\"],hue=\"Headache\")\n",
    "\n",
    "for bars in ax.containers:\n",
    "    ax.bar_label(bars)\n"
   ]
  },
  {
   "cell_type": "markdown",
   "id": "bc33f913",
   "metadata": {
    "papermill": {
     "duration": 0.041811,
     "end_time": "2024-08-16T15:10:20.297906",
     "exception": false,
     "start_time": "2024-08-16T15:10:20.256095",
     "status": "completed"
    },
    "tags": []
   },
   "source": [
    "Sex"
   ]
  },
  {
   "cell_type": "code",
   "execution_count": 40,
   "id": "538d9980",
   "metadata": {
    "execution": {
     "iopub.execute_input": "2024-08-16T15:10:20.380664Z",
     "iopub.status.busy": "2024-08-16T15:10:20.380164Z",
     "iopub.status.idle": "2024-08-16T15:10:20.453738Z",
     "shell.execute_reply": "2024-08-16T15:10:20.452131Z"
    },
    "papermill": {
     "duration": 0.118168,
     "end_time": "2024-08-16T15:10:20.456736",
     "exception": false,
     "start_time": "2024-08-16T15:10:20.338568",
     "status": "completed"
    },
    "tags": []
   },
   "outputs": [],
   "source": [
    "data[\"Sex\"].fillna(method = \"ffill\",inplace=True)"
   ]
  },
  {
   "cell_type": "code",
   "execution_count": 41,
   "id": "5e2552d9",
   "metadata": {
    "execution": {
     "iopub.execute_input": "2024-08-16T15:10:20.536551Z",
     "iopub.status.busy": "2024-08-16T15:10:20.535192Z",
     "iopub.status.idle": "2024-08-16T15:10:20.595308Z",
     "shell.execute_reply": "2024-08-16T15:10:20.593650Z"
    },
    "papermill": {
     "duration": 0.103409,
     "end_time": "2024-08-16T15:10:20.598300",
     "exception": false,
     "start_time": "2024-08-16T15:10:20.494891",
     "status": "completed"
    },
    "tags": []
   },
   "outputs": [
    {
     "data": {
      "text/plain": [
       "Sex\n",
       "female    132974\n",
       "male      132147\n",
       "Name: count, dtype: int64"
      ]
     },
     "execution_count": 41,
     "metadata": {},
     "output_type": "execute_result"
    }
   ],
   "source": [
    "data['Sex'].value_counts()"
   ]
  },
  {
   "cell_type": "code",
   "execution_count": 42,
   "id": "4fcacbaa",
   "metadata": {
    "execution": {
     "iopub.execute_input": "2024-08-16T15:10:20.679191Z",
     "iopub.status.busy": "2024-08-16T15:10:20.678760Z",
     "iopub.status.idle": "2024-08-16T15:10:20.728193Z",
     "shell.execute_reply": "2024-08-16T15:10:20.725983Z"
    },
    "papermill": {
     "duration": 0.093933,
     "end_time": "2024-08-16T15:10:20.731662",
     "exception": false,
     "start_time": "2024-08-16T15:10:20.637729",
     "status": "completed"
    },
    "tags": []
   },
   "outputs": [],
   "source": [
    "data[\"Sex\"] = data[\"Sex\"].fillna(\"male\")"
   ]
  },
  {
   "cell_type": "code",
   "execution_count": 43,
   "id": "44ef55ac",
   "metadata": {
    "execution": {
     "iopub.execute_input": "2024-08-16T15:10:20.817955Z",
     "iopub.status.busy": "2024-08-16T15:10:20.817443Z",
     "iopub.status.idle": "2024-08-16T15:10:20.878043Z",
     "shell.execute_reply": "2024-08-16T15:10:20.876692Z"
    },
    "papermill": {
     "duration": 0.104919,
     "end_time": "2024-08-16T15:10:20.881068",
     "exception": false,
     "start_time": "2024-08-16T15:10:20.776149",
     "status": "completed"
    },
    "tags": []
   },
   "outputs": [
    {
     "data": {
      "text/plain": [
       "Sex\n",
       "male      145874\n",
       "female    132974\n",
       "Name: count, dtype: int64"
      ]
     },
     "execution_count": 43,
     "metadata": {},
     "output_type": "execute_result"
    }
   ],
   "source": [
    "data['Sex'].value_counts()"
   ]
  },
  {
   "cell_type": "code",
   "execution_count": 44,
   "id": "ed3abeb7",
   "metadata": {
    "execution": {
     "iopub.execute_input": "2024-08-16T15:10:20.963254Z",
     "iopub.status.busy": "2024-08-16T15:10:20.962835Z",
     "iopub.status.idle": "2024-08-16T15:10:22.034937Z",
     "shell.execute_reply": "2024-08-16T15:10:22.033207Z"
    },
    "papermill": {
     "duration": 1.116811,
     "end_time": "2024-08-16T15:10:22.038233",
     "exception": false,
     "start_time": "2024-08-16T15:10:20.921422",
     "status": "completed"
    },
    "tags": []
   },
   "outputs": [
    {
     "data": {
      "image/png": "[encoded data removed]",
      "text/plain": [
       "<Figure size 640x480 with 1 Axes>"
      ]
     },
     "metadata": {},
     "output_type": "display_data"
    }
   ],
   "source": [
    "ax = sns.countplot( x= \"Corona\", data=df, palette=[\"g\",\"r\"],hue=\"Headache\")\n",
    "\n",
    "for bars in ax.containers:\n",
    "    ax.bar_label(bars)\n"
   ]
  },
  {
   "cell_type": "code",
   "execution_count": 45,
   "id": "cde4b121",
   "metadata": {
    "execution": {
     "iopub.execute_input": "2024-08-16T15:10:22.125001Z",
     "iopub.status.busy": "2024-08-16T15:10:22.124523Z",
     "iopub.status.idle": "2024-08-16T15:10:22.133325Z",
     "shell.execute_reply": "2024-08-16T15:10:22.131727Z"
    },
    "papermill": {
     "duration": 0.057266,
     "end_time": "2024-08-16T15:10:22.136714",
     "exception": false,
     "start_time": "2024-08-16T15:10:22.079448",
     "status": "completed"
    },
    "tags": []
   },
   "outputs": [
    {
     "data": {
      "text/plain": [
       "(278848, 11)"
      ]
     },
     "execution_count": 45,
     "metadata": {},
     "output_type": "execute_result"
    }
   ],
   "source": [
    "data.shape"
   ]
  },
  {
   "cell_type": "code",
   "execution_count": 46,
   "id": "45a39fc9",
   "metadata": {
    "execution": {
     "iopub.execute_input": "2024-08-16T15:10:22.217811Z",
     "iopub.status.busy": "2024-08-16T15:10:22.217276Z",
     "iopub.status.idle": "2024-08-16T15:10:22.374912Z",
     "shell.execute_reply": "2024-08-16T15:10:22.373350Z"
    },
    "papermill": {
     "duration": 0.202142,
     "end_time": "2024-08-16T15:10:22.377949",
     "exception": false,
     "start_time": "2024-08-16T15:10:22.175807",
     "status": "completed"
    },
    "tags": []
   },
   "outputs": [
    {
     "data": {
      "text/plain": [
       "Ind_ID                      0\n",
       "Test_date                   0\n",
       "Cough_symptoms              0\n",
       "Fever                       0\n",
       "Sore_throat                 0\n",
       "Shortness_of_breath         0\n",
       "Headache                    0\n",
       "Corona                      0\n",
       "Age_60_above           127320\n",
       "Sex                         0\n",
       "Known_contact               0\n",
       "dtype: int64"
      ]
     },
     "execution_count": 46,
     "metadata": {},
     "output_type": "execute_result"
    }
   ],
   "source": [
    "data.isnull().sum()"
   ]
  },
  {
   "cell_type": "markdown",
   "id": "a056d2e0",
   "metadata": {
    "papermill": {
     "duration": 0.039222,
     "end_time": "2024-08-16T15:10:22.456196",
     "exception": false,
     "start_time": "2024-08-16T15:10:22.416974",
     "status": "completed"
    },
    "tags": []
   },
   "source": [
    "Age_60_above"
   ]
  },
  {
   "cell_type": "code",
   "execution_count": 47,
   "id": "0ceb74e6",
   "metadata": {
    "execution": {
     "iopub.execute_input": "2024-08-16T15:10:22.538403Z",
     "iopub.status.busy": "2024-08-16T15:10:22.537727Z",
     "iopub.status.idle": "2024-08-16T15:10:22.604934Z",
     "shell.execute_reply": "2024-08-16T15:10:22.603295Z"
    },
    "papermill": {
     "duration": 0.111975,
     "end_time": "2024-08-16T15:10:22.608132",
     "exception": false,
     "start_time": "2024-08-16T15:10:22.496157",
     "status": "completed"
    },
    "tags": []
   },
   "outputs": [],
   "source": [
    "data[\"Age_60_above\"].fillna(method = \"ffill\",inplace=True)"
   ]
  },
  {
   "cell_type": "code",
   "execution_count": 48,
   "id": "039db02e",
   "metadata": {
    "execution": {
     "iopub.execute_input": "2024-08-16T15:10:22.689285Z",
     "iopub.status.busy": "2024-08-16T15:10:22.688730Z",
     "iopub.status.idle": "2024-08-16T15:10:22.748492Z",
     "shell.execute_reply": "2024-08-16T15:10:22.746715Z"
    },
    "papermill": {
     "duration": 0.104287,
     "end_time": "2024-08-16T15:10:22.751297",
     "exception": false,
     "start_time": "2024-08-16T15:10:22.647010",
     "status": "completed"
    },
    "tags": []
   },
   "outputs": [
    {
     "data": {
      "text/plain": [
       "Age_60_above\n",
       "No     248511\n",
       "Yes     25825\n",
       "Name: count, dtype: int64"
      ]
     },
     "execution_count": 48,
     "metadata": {},
     "output_type": "execute_result"
    }
   ],
   "source": [
    "data['Age_60_above'].value_counts()"
   ]
  },
  {
   "cell_type": "code",
   "execution_count": 49,
   "id": "bc17335b",
   "metadata": {
    "execution": {
     "iopub.execute_input": "2024-08-16T15:10:22.835593Z",
     "iopub.status.busy": "2024-08-16T15:10:22.835109Z",
     "iopub.status.idle": "2024-08-16T15:10:22.885789Z",
     "shell.execute_reply": "2024-08-16T15:10:22.884374Z"
    },
    "papermill": {
     "duration": 0.096734,
     "end_time": "2024-08-16T15:10:22.889355",
     "exception": false,
     "start_time": "2024-08-16T15:10:22.792621",
     "status": "completed"
    },
    "tags": []
   },
   "outputs": [],
   "source": [
    "data[\"Age_60_above\"] = data[\"Age_60_above\"].fillna(\"Yes\")"
   ]
  },
  {
   "cell_type": "code",
   "execution_count": 50,
   "id": "1af0acf5",
   "metadata": {
    "execution": {
     "iopub.execute_input": "2024-08-16T15:10:22.974043Z",
     "iopub.status.busy": "2024-08-16T15:10:22.973144Z",
     "iopub.status.idle": "2024-08-16T15:10:23.034752Z",
     "shell.execute_reply": "2024-08-16T15:10:23.033344Z"
    },
    "papermill": {
     "duration": 0.108165,
     "end_time": "2024-08-16T15:10:23.037713",
     "exception": false,
     "start_time": "2024-08-16T15:10:22.929548",
     "status": "completed"
    },
    "tags": []
   },
   "outputs": [
    {
     "data": {
      "text/plain": [
       "Age_60_above\n",
       "No     248511\n",
       "Yes     30337\n",
       "Name: count, dtype: int64"
      ]
     },
     "execution_count": 50,
     "metadata": {},
     "output_type": "execute_result"
    }
   ],
   "source": [
    "data['Age_60_above'].value_counts()"
   ]
  },
  {
   "cell_type": "code",
   "execution_count": 51,
   "id": "e15dbbec",
   "metadata": {
    "execution": {
     "iopub.execute_input": "2024-08-16T15:10:23.120282Z",
     "iopub.status.busy": "2024-08-16T15:10:23.119829Z",
     "iopub.status.idle": "2024-08-16T15:10:23.985810Z",
     "shell.execute_reply": "2024-08-16T15:10:23.984284Z"
    },
    "papermill": {
     "duration": 0.911342,
     "end_time": "2024-08-16T15:10:23.988916",
     "exception": false,
     "start_time": "2024-08-16T15:10:23.077574",
     "status": "completed"
    },
    "tags": []
   },
   "outputs": [
    {
     "data": {
      "image/png": "[encoded data removed]",
      "text/plain": [
       "<Figure size 640x480 with 1 Axes>"
      ]
     },
     "metadata": {},
     "output_type": "display_data"
    }
   ],
   "source": [
    "ax = sns.countplot( x= \"Corona\", data=df,palette=[\"b\",\"r\"],hue=\"Age_60_above\")\n",
    "\n",
    "for bars in ax.containers:\n",
    "    ax.bar_label(bars)\n"
   ]
  },
  {
   "cell_type": "code",
   "execution_count": 52,
   "id": "496b41b3",
   "metadata": {
    "execution": {
     "iopub.execute_input": "2024-08-16T15:10:24.076750Z",
     "iopub.status.busy": "2024-08-16T15:10:24.076193Z",
     "iopub.status.idle": "2024-08-16T15:10:24.082274Z",
     "shell.execute_reply": "2024-08-16T15:10:24.080885Z"
    },
    "papermill": {
     "duration": 0.053233,
     "end_time": "2024-08-16T15:10:24.084867",
     "exception": false,
     "start_time": "2024-08-16T15:10:24.031634",
     "status": "completed"
    },
    "tags": []
   },
   "outputs": [],
   "source": [
    "#data.reset_index(inplace=True)\n",
    "#data.drop([\"index\",\"Ind_ID\"],axis=1,inplace=True)"
   ]
  },
  {
   "cell_type": "code",
   "execution_count": 53,
   "id": "88be424a",
   "metadata": {
    "execution": {
     "iopub.execute_input": "2024-08-16T15:10:24.167914Z",
     "iopub.status.busy": "2024-08-16T15:10:24.167358Z",
     "iopub.status.idle": "2024-08-16T15:10:24.333395Z",
     "shell.execute_reply": "2024-08-16T15:10:24.331734Z"
    },
    "papermill": {
     "duration": 0.211315,
     "end_time": "2024-08-16T15:10:24.336532",
     "exception": false,
     "start_time": "2024-08-16T15:10:24.125217",
     "status": "completed"
    },
    "tags": []
   },
   "outputs": [
    {
     "data": {
      "text/plain": [
       "Ind_ID                 0\n",
       "Test_date              0\n",
       "Cough_symptoms         0\n",
       "Fever                  0\n",
       "Sore_throat            0\n",
       "Shortness_of_breath    0\n",
       "Headache               0\n",
       "Corona                 0\n",
       "Age_60_above           0\n",
       "Sex                    0\n",
       "Known_contact          0\n",
       "dtype: int64"
      ]
     },
     "execution_count": 53,
     "metadata": {},
     "output_type": "execute_result"
    }
   ],
   "source": [
    "data.isnull().sum()"
   ]
  },
  {
   "cell_type": "code",
   "execution_count": 54,
   "id": "b0c1c77f",
   "metadata": {
    "execution": {
     "iopub.execute_input": "2024-08-16T15:10:24.418963Z",
     "iopub.status.busy": "2024-08-16T15:10:24.418380Z",
     "iopub.status.idle": "2024-08-16T15:10:24.427117Z",
     "shell.execute_reply": "2024-08-16T15:10:24.425769Z"
    },
    "papermill": {
     "duration": 0.053182,
     "end_time": "2024-08-16T15:10:24.429879",
     "exception": false,
     "start_time": "2024-08-16T15:10:24.376697",
     "status": "completed"
    },
    "tags": []
   },
   "outputs": [
    {
     "data": {
      "text/plain": [
       "(278848, 11)"
      ]
     },
     "execution_count": 54,
     "metadata": {},
     "output_type": "execute_result"
    }
   ],
   "source": [
    "data.shape"
   ]
  },
  {
   "cell_type": "code",
   "execution_count": 55,
   "id": "4e294261",
   "metadata": {
    "execution": {
     "iopub.execute_input": "2024-08-16T15:10:24.515011Z",
     "iopub.status.busy": "2024-08-16T15:10:24.513730Z",
     "iopub.status.idle": "2024-08-16T15:10:24.542871Z",
     "shell.execute_reply": "2024-08-16T15:10:24.541399Z"
    },
    "papermill": {
     "duration": 0.074872,
     "end_time": "2024-08-16T15:10:24.546058",
     "exception": false,
     "start_time": "2024-08-16T15:10:24.471186",
     "status": "completed"
    },
    "tags": []
   },
   "outputs": [],
   "source": [
    "data_covid=data.drop([\"Ind_ID\",\"Test_date\"],axis=1)"
   ]
  },
  {
   "cell_type": "code",
   "execution_count": 56,
   "id": "7fae5143",
   "metadata": {
    "execution": {
     "iopub.execute_input": "2024-08-16T15:10:24.632226Z",
     "iopub.status.busy": "2024-08-16T15:10:24.631776Z",
     "iopub.status.idle": "2024-08-16T15:10:24.770405Z",
     "shell.execute_reply": "2024-08-16T15:10:24.768744Z"
    },
    "papermill": {
     "duration": 0.1852,
     "end_time": "2024-08-16T15:10:24.773403",
     "exception": false,
     "start_time": "2024-08-16T15:10:24.588203",
     "status": "completed"
    },
    "tags": []
   },
   "outputs": [
    {
     "name": "stdout",
     "output_type": "stream",
     "text": [
      "<class 'pandas.core.frame.DataFrame'>\n",
      "RangeIndex: 278848 entries, 0 to 278847\n",
      "Data columns (total 9 columns):\n",
      " #   Column               Non-Null Count   Dtype \n",
      "---  ------               --------------   ----- \n",
      " 0   Cough_symptoms       278848 non-null  bool  \n",
      " 1   Fever                278848 non-null  bool  \n",
      " 2   Sore_throat          278848 non-null  bool  \n",
      " 3   Shortness_of_breath  278848 non-null  bool  \n",
      " 4   Headache             278848 non-null  bool  \n",
      " 5   Corona               278848 non-null  object\n",
      " 6   Age_60_above         278848 non-null  object\n",
      " 7   Sex                  278848 non-null  object\n",
      " 8   Known_contact        278848 non-null  object\n",
      "dtypes: bool(5), object(4)\n",
      "memory usage: 9.8+ MB\n"
     ]
    }
   ],
   "source": [
    "data_covid.info()"
   ]
  },
  {
   "cell_type": "markdown",
   "id": "ba171799",
   "metadata": {
    "papermill": {
     "duration": 0.042313,
     "end_time": "2024-08-16T15:10:24.858212",
     "exception": false,
     "start_time": "2024-08-16T15:10:24.815899",
     "status": "completed"
    },
    "tags": []
   },
   "source": [
    "Covert category data to numarical data"
   ]
  },
  {
   "cell_type": "code",
   "execution_count": 57,
   "id": "a27d44f3",
   "metadata": {
    "execution": {
     "iopub.execute_input": "2024-08-16T15:10:24.948175Z",
     "iopub.status.busy": "2024-08-16T15:10:24.947739Z",
     "iopub.status.idle": "2024-08-16T15:10:25.391199Z",
     "shell.execute_reply": "2024-08-16T15:10:25.389775Z"
    },
    "papermill": {
     "duration": 0.492803,
     "end_time": "2024-08-16T15:10:25.394051",
     "exception": false,
     "start_time": "2024-08-16T15:10:24.901248",
     "status": "completed"
    },
    "tags": []
   },
   "outputs": [
    {
     "data": {
      "text/html": [
       "<div>\n",
       "<style scoped>\n",
       "    .dataframe tbody tr th:only-of-type {\n",
       "        vertical-align: middle;\n",
       "    }\n",
       "\n",
       "    .dataframe tbody tr th {\n",
       "        vertical-align: top;\n",
       "    }\n",
       "\n",
       "    .dataframe thead th {\n",
       "        text-align: right;\n",
       "    }\n",
       "</style>\n",
       "<table border=\"1\" class=\"dataframe\">\n",
       "  <thead>\n",
       "    <tr style=\"text-align: right;\">\n",
       "      <th></th>\n",
       "      <th>Cough_symptoms</th>\n",
       "      <th>Fever</th>\n",
       "      <th>Sore_throat</th>\n",
       "      <th>Shortness_of_breath</th>\n",
       "      <th>Headache</th>\n",
       "      <th>Corona</th>\n",
       "      <th>Age_60_above</th>\n",
       "      <th>Sex</th>\n",
       "      <th>Known_contact</th>\n",
       "    </tr>\n",
       "  </thead>\n",
       "  <tbody>\n",
       "    <tr>\n",
       "      <th>0</th>\n",
       "      <td>1</td>\n",
       "      <td>0</td>\n",
       "      <td>1</td>\n",
       "      <td>0</td>\n",
       "      <td>0</td>\n",
       "      <td>0</td>\n",
       "      <td>1</td>\n",
       "      <td>1</td>\n",
       "      <td>0</td>\n",
       "    </tr>\n",
       "    <tr>\n",
       "      <th>1</th>\n",
       "      <td>0</td>\n",
       "      <td>1</td>\n",
       "      <td>0</td>\n",
       "      <td>0</td>\n",
       "      <td>0</td>\n",
       "      <td>2</td>\n",
       "      <td>1</td>\n",
       "      <td>1</td>\n",
       "      <td>0</td>\n",
       "    </tr>\n",
       "    <tr>\n",
       "      <th>2</th>\n",
       "      <td>0</td>\n",
       "      <td>1</td>\n",
       "      <td>0</td>\n",
       "      <td>0</td>\n",
       "      <td>0</td>\n",
       "      <td>2</td>\n",
       "      <td>1</td>\n",
       "      <td>1</td>\n",
       "      <td>0</td>\n",
       "    </tr>\n",
       "    <tr>\n",
       "      <th>3</th>\n",
       "      <td>1</td>\n",
       "      <td>0</td>\n",
       "      <td>0</td>\n",
       "      <td>0</td>\n",
       "      <td>0</td>\n",
       "      <td>0</td>\n",
       "      <td>1</td>\n",
       "      <td>1</td>\n",
       "      <td>0</td>\n",
       "    </tr>\n",
       "    <tr>\n",
       "      <th>4</th>\n",
       "      <td>1</td>\n",
       "      <td>0</td>\n",
       "      <td>0</td>\n",
       "      <td>0</td>\n",
       "      <td>0</td>\n",
       "      <td>0</td>\n",
       "      <td>1</td>\n",
       "      <td>1</td>\n",
       "      <td>1</td>\n",
       "    </tr>\n",
       "    <tr>\n",
       "      <th>...</th>\n",
       "      <td>...</td>\n",
       "      <td>...</td>\n",
       "      <td>...</td>\n",
       "      <td>...</td>\n",
       "      <td>...</td>\n",
       "      <td>...</td>\n",
       "      <td>...</td>\n",
       "      <td>...</td>\n",
       "      <td>...</td>\n",
       "    </tr>\n",
       "    <tr>\n",
       "      <th>278843</th>\n",
       "      <td>0</td>\n",
       "      <td>0</td>\n",
       "      <td>0</td>\n",
       "      <td>0</td>\n",
       "      <td>0</td>\n",
       "      <td>2</td>\n",
       "      <td>0</td>\n",
       "      <td>1</td>\n",
       "      <td>2</td>\n",
       "    </tr>\n",
       "    <tr>\n",
       "      <th>278844</th>\n",
       "      <td>0</td>\n",
       "      <td>0</td>\n",
       "      <td>0</td>\n",
       "      <td>0</td>\n",
       "      <td>0</td>\n",
       "      <td>0</td>\n",
       "      <td>0</td>\n",
       "      <td>0</td>\n",
       "      <td>2</td>\n",
       "    </tr>\n",
       "    <tr>\n",
       "      <th>278845</th>\n",
       "      <td>0</td>\n",
       "      <td>0</td>\n",
       "      <td>0</td>\n",
       "      <td>0</td>\n",
       "      <td>0</td>\n",
       "      <td>0</td>\n",
       "      <td>0</td>\n",
       "      <td>1</td>\n",
       "      <td>2</td>\n",
       "    </tr>\n",
       "    <tr>\n",
       "      <th>278846</th>\n",
       "      <td>0</td>\n",
       "      <td>0</td>\n",
       "      <td>0</td>\n",
       "      <td>0</td>\n",
       "      <td>0</td>\n",
       "      <td>0</td>\n",
       "      <td>0</td>\n",
       "      <td>1</td>\n",
       "      <td>2</td>\n",
       "    </tr>\n",
       "    <tr>\n",
       "      <th>278847</th>\n",
       "      <td>0</td>\n",
       "      <td>0</td>\n",
       "      <td>0</td>\n",
       "      <td>0</td>\n",
       "      <td>0</td>\n",
       "      <td>0</td>\n",
       "      <td>0</td>\n",
       "      <td>0</td>\n",
       "      <td>2</td>\n",
       "    </tr>\n",
       "  </tbody>\n",
       "</table>\n",
       "<p>278848 rows × 9 columns</p>\n",
       "</div>"
      ],
      "text/plain": [
       "        Cough_symptoms  Fever  Sore_throat  Shortness_of_breath  Headache  \\\n",
       "0                    1      0            1                    0         0   \n",
       "1                    0      1            0                    0         0   \n",
       "2                    0      1            0                    0         0   \n",
       "3                    1      0            0                    0         0   \n",
       "4                    1      0            0                    0         0   \n",
       "...                ...    ...          ...                  ...       ...   \n",
       "278843               0      0            0                    0         0   \n",
       "278844               0      0            0                    0         0   \n",
       "278845               0      0            0                    0         0   \n",
       "278846               0      0            0                    0         0   \n",
       "278847               0      0            0                    0         0   \n",
       "\n",
       "        Corona  Age_60_above  Sex  Known_contact  \n",
       "0            0             1    1              0  \n",
       "1            2             1    1              0  \n",
       "2            2             1    1              0  \n",
       "3            0             1    1              0  \n",
       "4            0             1    1              1  \n",
       "...        ...           ...  ...            ...  \n",
       "278843       2             0    1              2  \n",
       "278844       0             0    0              2  \n",
       "278845       0             0    1              2  \n",
       "278846       0             0    1              2  \n",
       "278847       0             0    0              2  \n",
       "\n",
       "[278848 rows x 9 columns]"
      ]
     },
     "execution_count": 57,
     "metadata": {},
     "output_type": "execute_result"
    }
   ],
   "source": [
    "data_corona=data_covid.apply(LabelEncoder().fit_transform)\n",
    "data_corona"
   ]
  },
  {
   "cell_type": "markdown",
   "id": "4df906c7",
   "metadata": {
    "papermill": {
     "duration": 0.040613,
     "end_time": "2024-08-16T15:10:25.477046",
     "exception": false,
     "start_time": "2024-08-16T15:10:25.436433",
     "status": "completed"
    },
    "tags": []
   },
   "source": [
    "Split Data to Feature and Target"
   ]
  },
  {
   "cell_type": "code",
   "execution_count": 58,
   "id": "1f45c5bb",
   "metadata": {
    "execution": {
     "iopub.execute_input": "2024-08-16T15:10:25.561322Z",
     "iopub.status.busy": "2024-08-16T15:10:25.560897Z",
     "iopub.status.idle": "2024-08-16T15:10:25.577624Z",
     "shell.execute_reply": "2024-08-16T15:10:25.576036Z"
    },
    "papermill": {
     "duration": 0.06331,
     "end_time": "2024-08-16T15:10:25.580980",
     "exception": false,
     "start_time": "2024-08-16T15:10:25.517670",
     "status": "completed"
    },
    "tags": []
   },
   "outputs": [],
   "source": [
    "x = data_corona.drop(columns=\"Corona\",axis = 1)  #features\n",
    "y = data_corona[\"Corona\"]   # target"
   ]
  },
  {
   "cell_type": "markdown",
   "id": "57ef690f",
   "metadata": {
    "papermill": {
     "duration": 0.043056,
     "end_time": "2024-08-16T15:10:25.666760",
     "exception": false,
     "start_time": "2024-08-16T15:10:25.623704",
     "status": "completed"
    },
    "tags": []
   },
   "source": [
    "Correlation Between Featurs and Target "
   ]
  },
  {
   "cell_type": "code",
   "execution_count": 59,
   "id": "1b0fc6df",
   "metadata": {
    "execution": {
     "iopub.execute_input": "2024-08-16T15:10:25.757320Z",
     "iopub.status.busy": "2024-08-16T15:10:25.755699Z",
     "iopub.status.idle": "2024-08-16T15:10:26.681449Z",
     "shell.execute_reply": "2024-08-16T15:10:26.679842Z"
    },
    "papermill": {
     "duration": 0.973917,
     "end_time": "2024-08-16T15:10:26.684242",
     "exception": false,
     "start_time": "2024-08-16T15:10:25.710325",
     "status": "completed"
    },
    "tags": []
   },
   "outputs": [
    {
     "data": {
      "image/png": "[encoded data removed]",
      "text/plain": [
       "<Figure size 1000x600 with 2 Axes>"
      ]
     },
     "metadata": {},
     "output_type": "display_data"
    }
   ],
   "source": [
    "plt.figure(figsize=(10, 6))\n",
    "corr = data_corona.corr()\n",
    "sns.heatmap(corr, annot=True, fmt=\".2f\",\n",
    "center=0,square=True)\n",
    "plt.title('Correlation Heatmap')\n",
    "plt.show()\n"
   ]
  },
  {
   "cell_type": "code",
   "execution_count": 60,
   "id": "2a634f76",
   "metadata": {
    "execution": {
     "iopub.execute_input": "2024-08-16T15:10:26.775255Z",
     "iopub.status.busy": "2024-08-16T15:10:26.774788Z",
     "iopub.status.idle": "2024-08-16T15:10:26.824106Z",
     "shell.execute_reply": "2024-08-16T15:10:26.822831Z"
    },
    "papermill": {
     "duration": 0.098248,
     "end_time": "2024-08-16T15:10:26.827652",
     "exception": false,
     "start_time": "2024-08-16T15:10:26.729404",
     "status": "completed"
    },
    "tags": []
   },
   "outputs": [],
   "source": [
    "x_train,x_test,y_train,y_test = train_test_split(x,y,train_size= 0.8 , random_state = 42,shuffle=True)\n"
   ]
  },
  {
   "cell_type": "code",
   "execution_count": 61,
   "id": "ca443f67",
   "metadata": {
    "execution": {
     "iopub.execute_input": "2024-08-16T15:10:26.920078Z",
     "iopub.status.busy": "2024-08-16T15:10:26.919640Z",
     "iopub.status.idle": "2024-08-16T15:10:26.941157Z",
     "shell.execute_reply": "2024-08-16T15:10:26.939430Z"
    },
    "papermill": {
     "duration": 0.070693,
     "end_time": "2024-08-16T15:10:26.944208",
     "exception": false,
     "start_time": "2024-08-16T15:10:26.873515",
     "status": "completed"
    },
    "tags": []
   },
   "outputs": [
    {
     "data": {
      "text/plain": [
       "array([[1, 0, 1, ..., 1, 1, 0],\n",
       "       [0, 1, 0, ..., 1, 1, 0],\n",
       "       [0, 1, 0, ..., 1, 1, 0],\n",
       "       ...,\n",
       "       [0, 0, 0, ..., 0, 1, 2],\n",
       "       [0, 0, 0, ..., 0, 1, 2],\n",
       "       [0, 0, 0, ..., 0, 0, 2]])"
      ]
     },
     "execution_count": 61,
     "metadata": {},
     "output_type": "execute_result"
    }
   ],
   "source": [
    "x_train\n",
    "np.array(x)"
   ]
  },
  {
   "cell_type": "code",
   "execution_count": 62,
   "id": "d1d5359a",
   "metadata": {
    "execution": {
     "iopub.execute_input": "2024-08-16T15:10:27.037426Z",
     "iopub.status.busy": "2024-08-16T15:10:27.036987Z",
     "iopub.status.idle": "2024-08-16T15:10:27.046927Z",
     "shell.execute_reply": "2024-08-16T15:10:27.045198Z"
    },
    "papermill": {
     "duration": 0.060908,
     "end_time": "2024-08-16T15:10:27.050503",
     "exception": false,
     "start_time": "2024-08-16T15:10:26.989595",
     "status": "completed"
    },
    "tags": []
   },
   "outputs": [
    {
     "data": {
      "text/plain": [
       "array([0, 2, 2, ..., 0, 0, 0])"
      ]
     },
     "execution_count": 62,
     "metadata": {},
     "output_type": "execute_result"
    }
   ],
   "source": [
    "y_train\n",
    "np.array(y)"
   ]
  },
  {
   "cell_type": "code",
   "execution_count": 63,
   "id": "07bc15d4",
   "metadata": {
    "execution": {
     "iopub.execute_input": "2024-08-16T15:10:27.150161Z",
     "iopub.status.busy": "2024-08-16T15:10:27.149645Z",
     "iopub.status.idle": "2024-08-16T15:10:27.163129Z",
     "shell.execute_reply": "2024-08-16T15:10:27.161640Z"
    },
    "papermill": {
     "duration": 0.069535,
     "end_time": "2024-08-16T15:10:27.165861",
     "exception": false,
     "start_time": "2024-08-16T15:10:27.096326",
     "status": "completed"
    },
    "tags": []
   },
   "outputs": [
    {
     "data": {
      "text/plain": [
       "array([0, 2, 2, ..., 0, 0, 0])"
      ]
     },
     "execution_count": 63,
     "metadata": {},
     "output_type": "execute_result"
    }
   ],
   "source": [
    "y_test\n",
    "np.array(y)"
   ]
  },
  {
   "cell_type": "code",
   "execution_count": 64,
   "id": "6232e6c6",
   "metadata": {
    "execution": {
     "iopub.execute_input": "2024-08-16T15:10:27.258089Z",
     "iopub.status.busy": "2024-08-16T15:10:27.257581Z",
     "iopub.status.idle": "2024-08-16T15:10:27.288487Z",
     "shell.execute_reply": "2024-08-16T15:10:27.286454Z"
    },
    "papermill": {
     "duration": 0.081841,
     "end_time": "2024-08-16T15:10:27.292092",
     "exception": false,
     "start_time": "2024-08-16T15:10:27.210251",
     "status": "completed"
    },
    "tags": []
   },
   "outputs": [
    {
     "data": {
      "text/plain": [
       "array([[1, 0, 1, ..., 1, 1, 0],\n",
       "       [0, 1, 0, ..., 1, 1, 0],\n",
       "       [0, 1, 0, ..., 1, 1, 0],\n",
       "       ...,\n",
       "       [0, 0, 0, ..., 0, 1, 2],\n",
       "       [0, 0, 0, ..., 0, 1, 2],\n",
       "       [0, 0, 0, ..., 0, 0, 2]])"
      ]
     },
     "execution_count": 64,
     "metadata": {},
     "output_type": "execute_result"
    }
   ],
   "source": [
    "x_test\n",
    "np.array(x)"
   ]
  },
  {
   "cell_type": "markdown",
   "id": "54a895ab",
   "metadata": {
    "papermill": {
     "duration": 0.044814,
     "end_time": "2024-08-16T15:10:27.385717",
     "exception": false,
     "start_time": "2024-08-16T15:10:27.340903",
     "status": "completed"
    },
    "tags": []
   },
   "source": [
    "Create ANN Model and Evaluation"
   ]
  },
  {
   "cell_type": "code",
   "execution_count": 65,
   "id": "e61e2581",
   "metadata": {
    "execution": {
     "iopub.execute_input": "2024-08-16T15:10:27.478815Z",
     "iopub.status.busy": "2024-08-16T15:10:27.478300Z",
     "iopub.status.idle": "2024-08-16T15:13:47.827552Z",
     "shell.execute_reply": "2024-08-16T15:13:47.826101Z"
    },
    "papermill": {
     "duration": 200.399878,
     "end_time": "2024-08-16T15:13:47.830839",
     "exception": false,
     "start_time": "2024-08-16T15:10:27.430961",
     "status": "completed"
    },
    "tags": []
   },
   "outputs": [
    {
     "name": "stdout",
     "output_type": "stream",
     "text": [
      "Epoch 1/20\n",
      "\u001b[1m2231/2231\u001b[0m \u001b[32m━━━━━━━━━━━━━━━━━━━━\u001b[0m\u001b[37m\u001b[0m \u001b[1m13s\u001b[0m 4ms/step - accuracy: 0.9268 - loss: 0.2823 - val_accuracy: 0.9436 - val_loss: 0.2105\n",
      "Epoch 2/20\n",
      "\u001b[1m2231/2231\u001b[0m \u001b[32m━━━━━━━━━━━━━━━━━━━━\u001b[0m\u001b[37m\u001b[0m \u001b[1m9s\u001b[0m 4ms/step - accuracy: 0.9459 - loss: 0.2021 - val_accuracy: 0.9487 - val_loss: 0.1946\n",
      "Epoch 3/20\n",
      "\u001b[1m2231/2231\u001b[0m \u001b[32m━━━━━━━━━━━━━━━━━━━━\u001b[0m\u001b[37m\u001b[0m \u001b[1m9s\u001b[0m 4ms/step - accuracy: 0.9502 - loss: 0.1911 - val_accuracy: 0.9509 - val_loss: 0.1884\n",
      "Epoch 4/20\n",
      "\u001b[1m2231/2231\u001b[0m \u001b[32m━━━━━━━━━━━━━━━━━━━━\u001b[0m\u001b[37m\u001b[0m \u001b[1m9s\u001b[0m 4ms/step - accuracy: 0.9516 - loss: 0.1880 - val_accuracy: 0.9516 - val_loss: 0.1878\n",
      "Epoch 5/20\n",
      "\u001b[1m2231/2231\u001b[0m \u001b[32m━━━━━━━━━━━━━━━━━━━━\u001b[0m\u001b[37m\u001b[0m \u001b[1m10s\u001b[0m 4ms/step - accuracy: 0.9522 - loss: 0.1874 - val_accuracy: 0.9516 - val_loss: 0.1875\n",
      "Epoch 6/20\n",
      "\u001b[1m2231/2231\u001b[0m \u001b[32m━━━━━━━━━━━━━━━━━━━━\u001b[0m\u001b[37m\u001b[0m \u001b[1m10s\u001b[0m 4ms/step - accuracy: 0.9524 - loss: 0.1873 - val_accuracy: 0.9518 - val_loss: 0.1866\n",
      "Epoch 7/20\n",
      "\u001b[1m2231/2231\u001b[0m \u001b[32m━━━━━━━━━━━━━━━━━━━━\u001b[0m\u001b[37m\u001b[0m \u001b[1m10s\u001b[0m 4ms/step - accuracy: 0.9528 - loss: 0.1862 - val_accuracy: 0.9518 - val_loss: 0.1867\n",
      "Epoch 8/20\n",
      "\u001b[1m2231/2231\u001b[0m \u001b[32m━━━━━━━━━━━━━━━━━━━━\u001b[0m\u001b[37m\u001b[0m \u001b[1m9s\u001b[0m 4ms/step - accuracy: 0.9533 - loss: 0.1860 - val_accuracy: 0.9533 - val_loss: 0.1860\n",
      "Epoch 9/20\n",
      "\u001b[1m2231/2231\u001b[0m \u001b[32m━━━━━━━━━━━━━━━━━━━━\u001b[0m\u001b[37m\u001b[0m \u001b[1m10s\u001b[0m 4ms/step - accuracy: 0.9534 - loss: 0.1846 - val_accuracy: 0.9519 - val_loss: 0.1858\n",
      "Epoch 10/20\n",
      "\u001b[1m2231/2231\u001b[0m \u001b[32m━━━━━━━━━━━━━━━━━━━━\u001b[0m\u001b[37m\u001b[0m \u001b[1m9s\u001b[0m 4ms/step - accuracy: 0.9536 - loss: 0.1848 - val_accuracy: 0.9526 - val_loss: 0.1840\n",
      "Epoch 11/20\n",
      "\u001b[1m2231/2231\u001b[0m \u001b[32m━━━━━━━━━━━━━━━━━━━━\u001b[0m\u001b[37m\u001b[0m \u001b[1m10s\u001b[0m 4ms/step - accuracy: 0.9536 - loss: 0.1840 - val_accuracy: 0.9533 - val_loss: 0.1837\n",
      "Epoch 12/20\n",
      "\u001b[1m2231/2231\u001b[0m \u001b[32m━━━━━━━━━━━━━━━━━━━━\u001b[0m\u001b[37m\u001b[0m \u001b[1m10s\u001b[0m 4ms/step - accuracy: 0.9548 - loss: 0.1782 - val_accuracy: 0.9531 - val_loss: 0.1836\n",
      "Epoch 13/20\n",
      "\u001b[1m2231/2231\u001b[0m \u001b[32m━━━━━━━━━━━━━━━━━━━━\u001b[0m\u001b[37m\u001b[0m \u001b[1m10s\u001b[0m 4ms/step - accuracy: 0.9538 - loss: 0.1817 - val_accuracy: 0.9529 - val_loss: 0.1836\n",
      "Epoch 14/20\n",
      "\u001b[1m2231/2231\u001b[0m \u001b[32m━━━━━━━━━━━━━━━━━━━━\u001b[0m\u001b[37m\u001b[0m \u001b[1m10s\u001b[0m 4ms/step - accuracy: 0.9531 - loss: 0.1818 - val_accuracy: 0.9533 - val_loss: 0.1833\n",
      "Epoch 15/20\n",
      "\u001b[1m2231/2231\u001b[0m \u001b[32m━━━━━━━━━━━━━━━━━━━━\u001b[0m\u001b[37m\u001b[0m \u001b[1m10s\u001b[0m 5ms/step - accuracy: 0.9537 - loss: 0.1817 - val_accuracy: 0.9534 - val_loss: 0.1834\n",
      "Epoch 16/20\n",
      "\u001b[1m2231/2231\u001b[0m \u001b[32m━━━━━━━━━━━━━━━━━━━━\u001b[0m\u001b[37m\u001b[0m \u001b[1m10s\u001b[0m 4ms/step - accuracy: 0.9537 - loss: 0.1817 - val_accuracy: 0.9534 - val_loss: 0.1833\n",
      "Epoch 17/20\n",
      "\u001b[1m2231/2231\u001b[0m \u001b[32m━━━━━━━━━━━━━━━━━━━━\u001b[0m\u001b[37m\u001b[0m \u001b[1m10s\u001b[0m 4ms/step - accuracy: 0.9538 - loss: 0.1821 - val_accuracy: 0.9535 - val_loss: 0.1834\n",
      "Epoch 18/20\n",
      "\u001b[1m2231/2231\u001b[0m \u001b[32m━━━━━━━━━━━━━━━━━━━━\u001b[0m\u001b[37m\u001b[0m \u001b[1m10s\u001b[0m 4ms/step - accuracy: 0.9539 - loss: 0.1818 - val_accuracy: 0.9532 - val_loss: 0.1837\n",
      "Epoch 19/20\n",
      "\u001b[1m2231/2231\u001b[0m \u001b[32m━━━━━━━━━━━━━━━━━━━━\u001b[0m\u001b[37m\u001b[0m \u001b[1m10s\u001b[0m 4ms/step - accuracy: 0.9544 - loss: 0.1794 - val_accuracy: 0.9532 - val_loss: 0.1833\n",
      "Epoch 20/20\n",
      "\u001b[1m2231/2231\u001b[0m \u001b[32m━━━━━━━━━━━━━━━━━━━━\u001b[0m\u001b[37m\u001b[0m \u001b[1m9s\u001b[0m 4ms/step - accuracy: 0.9536 - loss: 0.1821 - val_accuracy: 0.9521 - val_loss: 0.1835\n",
      "\u001b[1m1743/1743\u001b[0m \u001b[32m━━━━━━━━━━━━━━━━━━━━\u001b[0m\u001b[37m\u001b[0m \u001b[1m3s\u001b[0m 2ms/step - accuracy: 0.9529 - loss: 0.1793\n",
      "Test Accuracy:  0.9520889520645142\n",
      "Test loss:  0.18347066640853882\n"
     ]
    }
   ],
   "source": [
    "model = Sequential()\n",
    "model.add(Dense(8,input_dim=8, activation=\"relu\"))\n",
    "model.add(Dense(128,activation=\"sigmoid\"))\n",
    "model.add(Dropout(0.4))\n",
    "model.add(Dense(64,activation=\"tanh\"))\n",
    "model.add(Dropout(0.3))\n",
    "model.add(Dense(32,activation=\"sigmoid\"))\n",
    "model.add(Dropout(0.2))\n",
    "model.add(Dense(16,activation=\"tanh\"))\n",
    "model.add(Dense(8,activation=\"tanh\"))\n",
    "model.add(Dense(3,activation=\"softmax\"))\n",
    "\n",
    "model.compile(loss=\"sparse_categorical_crossentropy\", optimizer=\"adam\", metrics=[\"accuracy\"])\n",
    "\n",
    "history=model.fit(x_train,y_train,epochs=20,batch_size=100,verbose=1,shuffle=True,validation_data=(x_test,y_test))\n",
    "\n",
    "loss, accuracy = model.evaluate(x_test,y_test)\n",
    "print(\"Test Accuracy: \", accuracy)\n",
    "print(\"Test loss: \",loss)"
   ]
  },
  {
   "cell_type": "code",
   "execution_count": 66,
   "id": "52ecfa01",
   "metadata": {
    "execution": {
     "iopub.execute_input": "2024-08-16T15:13:48.709518Z",
     "iopub.status.busy": "2024-08-16T15:13:48.708957Z",
     "iopub.status.idle": "2024-08-16T15:13:48.748912Z",
     "shell.execute_reply": "2024-08-16T15:13:48.747208Z"
    },
    "papermill": {
     "duration": 0.537345,
     "end_time": "2024-08-16T15:13:48.752189",
     "exception": false,
     "start_time": "2024-08-16T15:13:48.214844",
     "status": "completed"
    },
    "tags": []
   },
   "outputs": [
    {
     "data": {
      "text/html": [
       "<pre style=\"white-space:pre;overflow-x:auto;line-height:normal;font-family:Menlo,'DejaVu Sans Mono',consolas,'Courier New',monospace\"><span style=\"font-weight: bold\">Model: \"sequential\"</span>\n",
       "</pre>\n"
      ],
      "text/plain": [
       "\u001b[1mModel: \"sequential\"\u001b[0m\n"
      ]
     },
     "metadata": {},
     "output_type": "display_data"
    },
    {
     "data": {
      "text/html": [
       "<pre style=\"white-space:pre;overflow-x:auto;line-height:normal;font-family:Menlo,'DejaVu Sans Mono',consolas,'Courier New',monospace\">┏━━━━━━━━━━━━━━━━━━━━━━━━━━━━━━━━━┳━━━━━━━━━━━━━━━━━━━━━━━━┳━━━━━━━━━━━━━━━┓\n",
       "┃<span style=\"font-weight: bold\"> Layer (type)                    </span>┃<span style=\"font-weight: bold\"> Output Shape           </span>┃<span style=\"font-weight: bold\">       Param # </span>┃\n",
       "┡━━━━━━━━━━━━━━━━━━━━━━━━━━━━━━━━━╇━━━━━━━━━━━━━━━━━━━━━━━━╇━━━━━━━━━━━━━━━┩\n",
       "│ dense (<span style=\"color: #0087ff; text-decoration-color: #0087ff\">Dense</span>)                   │ (<span style=\"color: #00d7ff; text-decoration-color: #00d7ff\">None</span>, <span style=\"color: #00af00; text-decoration-color: #00af00\">8</span>)              │            <span style=\"color: #00af00; text-decoration-color: #00af00\">72</span> │\n",
       "├─────────────────────────────────┼────────────────────────┼───────────────┤\n",
       "│ dense_1 (<span style=\"color: #0087ff; text-decoration-color: #0087ff\">Dense</span>)                 │ (<span style=\"color: #00d7ff; text-decoration-color: #00d7ff\">None</span>, <span style=\"color: #00af00; text-decoration-color: #00af00\">128</span>)            │         <span style=\"color: #00af00; text-decoration-color: #00af00\">1,152</span> │\n",
       "├─────────────────────────────────┼────────────────────────┼───────────────┤\n",
       "│ dropout (<span style=\"color: #0087ff; text-decoration-color: #0087ff\">Dropout</span>)               │ (<span style=\"color: #00d7ff; text-decoration-color: #00d7ff\">None</span>, <span style=\"color: #00af00; text-decoration-color: #00af00\">128</span>)            │             <span style=\"color: #00af00; text-decoration-color: #00af00\">0</span> │\n",
       "├─────────────────────────────────┼────────────────────────┼───────────────┤\n",
       "│ dense_2 (<span style=\"color: #0087ff; text-decoration-color: #0087ff\">Dense</span>)                 │ (<span style=\"color: #00d7ff; text-decoration-color: #00d7ff\">None</span>, <span style=\"color: #00af00; text-decoration-color: #00af00\">64</span>)             │         <span style=\"color: #00af00; text-decoration-color: #00af00\">8,256</span> │\n",
       "├─────────────────────────────────┼────────────────────────┼───────────────┤\n",
       "│ dropout_1 (<span style=\"color: #0087ff; text-decoration-color: #0087ff\">Dropout</span>)             │ (<span style=\"color: #00d7ff; text-decoration-color: #00d7ff\">None</span>, <span style=\"color: #00af00; text-decoration-color: #00af00\">64</span>)             │             <span style=\"color: #00af00; text-decoration-color: #00af00\">0</span> │\n",
       "├─────────────────────────────────┼────────────────────────┼───────────────┤\n",
       "│ dense_3 (<span style=\"color: #0087ff; text-decoration-color: #0087ff\">Dense</span>)                 │ (<span style=\"color: #00d7ff; text-decoration-color: #00d7ff\">None</span>, <span style=\"color: #00af00; text-decoration-color: #00af00\">32</span>)             │         <span style=\"color: #00af00; text-decoration-color: #00af00\">2,080</span> │\n",
       "├─────────────────────────────────┼────────────────────────┼───────────────┤\n",
       "│ dropout_2 (<span style=\"color: #0087ff; text-decoration-color: #0087ff\">Dropout</span>)             │ (<span style=\"color: #00d7ff; text-decoration-color: #00d7ff\">None</span>, <span style=\"color: #00af00; text-decoration-color: #00af00\">32</span>)             │             <span style=\"color: #00af00; text-decoration-color: #00af00\">0</span> │\n",
       "├─────────────────────────────────┼────────────────────────┼───────────────┤\n",
       "│ dense_4 (<span style=\"color: #0087ff; text-decoration-color: #0087ff\">Dense</span>)                 │ (<span style=\"color: #00d7ff; text-decoration-color: #00d7ff\">None</span>, <span style=\"color: #00af00; text-decoration-color: #00af00\">16</span>)             │           <span style=\"color: #00af00; text-decoration-color: #00af00\">528</span> │\n",
       "├─────────────────────────────────┼────────────────────────┼───────────────┤\n",
       "│ dense_5 (<span style=\"color: #0087ff; text-decoration-color: #0087ff\">Dense</span>)                 │ (<span style=\"color: #00d7ff; text-decoration-color: #00d7ff\">None</span>, <span style=\"color: #00af00; text-decoration-color: #00af00\">8</span>)              │           <span style=\"color: #00af00; text-decoration-color: #00af00\">136</span> │\n",
       "├─────────────────────────────────┼────────────────────────┼───────────────┤\n",
       "│ dense_6 (<span style=\"color: #0087ff; text-decoration-color: #0087ff\">Dense</span>)                 │ (<span style=\"color: #00d7ff; text-decoration-color: #00d7ff\">None</span>, <span style=\"color: #00af00; text-decoration-color: #00af00\">3</span>)              │            <span style=\"color: #00af00; text-decoration-color: #00af00\">27</span> │\n",
       "└─────────────────────────────────┴────────────────────────┴───────────────┘\n",
       "</pre>\n"
      ],
      "text/plain": [
       "┏━━━━━━━━━━━━━━━━━━━━━━━━━━━━━━━━━┳━━━━━━━━━━━━━━━━━━━━━━━━┳━━━━━━━━━━━━━━━┓\n",
       "┃\u001b[1m \u001b[0m\u001b[1mLayer (type)                   \u001b[0m\u001b[1m \u001b[0m┃\u001b[1m \u001b[0m\u001b[1mOutput Shape          \u001b[0m\u001b[1m \u001b[0m┃\u001b[1m \u001b[0m\u001b[1m      Param #\u001b[0m\u001b[1m \u001b[0m┃\n",
       "┡━━━━━━━━━━━━━━━━━━━━━━━━━━━━━━━━━╇━━━━━━━━━━━━━━━━━━━━━━━━╇━━━━━━━━━━━━━━━┩\n",
       "│ dense (\u001b[38;5;33mDense\u001b[0m)                   │ (\u001b[38;5;45mNone\u001b[0m, \u001b[38;5;34m8\u001b[0m)              │            \u001b[38;5;34m72\u001b[0m │\n",
       "├─────────────────────────────────┼────────────────────────┼───────────────┤\n",
       "│ dense_1 (\u001b[38;5;33mDense\u001b[0m)                 │ (\u001b[38;5;45mNone\u001b[0m, \u001b[38;5;34m128\u001b[0m)            │         \u001b[38;5;34m1,152\u001b[0m │\n",
       "├─────────────────────────────────┼────────────────────────┼───────────────┤\n",
       "│ dropout (\u001b[38;5;33mDropout\u001b[0m)               │ (\u001b[38;5;45mNone\u001b[0m, \u001b[38;5;34m128\u001b[0m)            │             \u001b[38;5;34m0\u001b[0m │\n",
       "├─────────────────────────────────┼────────────────────────┼───────────────┤\n",
       "│ dense_2 (\u001b[38;5;33mDense\u001b[0m)                 │ (\u001b[38;5;45mNone\u001b[0m, \u001b[38;5;34m64\u001b[0m)             │         \u001b[38;5;34m8,256\u001b[0m │\n",
       "├─────────────────────────────────┼────────────────────────┼───────────────┤\n",
       "│ dropout_1 (\u001b[38;5;33mDropout\u001b[0m)             │ (\u001b[38;5;45mNone\u001b[0m, \u001b[38;5;34m64\u001b[0m)             │             \u001b[38;5;34m0\u001b[0m │\n",
       "├─────────────────────────────────┼────────────────────────┼───────────────┤\n",
       "│ dense_3 (\u001b[38;5;33mDense\u001b[0m)                 │ (\u001b[38;5;45mNone\u001b[0m, \u001b[38;5;34m32\u001b[0m)             │         \u001b[38;5;34m2,080\u001b[0m │\n",
       "├─────────────────────────────────┼────────────────────────┼───────────────┤\n",
       "│ dropout_2 (\u001b[38;5;33mDropout\u001b[0m)             │ (\u001b[38;5;45mNone\u001b[0m, \u001b[38;5;34m32\u001b[0m)             │             \u001b[38;5;34m0\u001b[0m │\n",
       "├─────────────────────────────────┼────────────────────────┼───────────────┤\n",
       "│ dense_4 (\u001b[38;5;33mDense\u001b[0m)                 │ (\u001b[38;5;45mNone\u001b[0m, \u001b[38;5;34m16\u001b[0m)             │           \u001b[38;5;34m528\u001b[0m │\n",
       "├─────────────────────────────────┼────────────────────────┼───────────────┤\n",
       "│ dense_5 (\u001b[38;5;33mDense\u001b[0m)                 │ (\u001b[38;5;45mNone\u001b[0m, \u001b[38;5;34m8\u001b[0m)              │           \u001b[38;5;34m136\u001b[0m │\n",
       "├─────────────────────────────────┼────────────────────────┼───────────────┤\n",
       "│ dense_6 (\u001b[38;5;33mDense\u001b[0m)                 │ (\u001b[38;5;45mNone\u001b[0m, \u001b[38;5;34m3\u001b[0m)              │            \u001b[38;5;34m27\u001b[0m │\n",
       "└─────────────────────────────────┴────────────────────────┴───────────────┘\n"
      ]
     },
     "metadata": {},
     "output_type": "display_data"
    },
    {
     "data": {
      "text/html": [
       "<pre style=\"white-space:pre;overflow-x:auto;line-height:normal;font-family:Menlo,'DejaVu Sans Mono',consolas,'Courier New',monospace\"><span style=\"font-weight: bold\"> Total params: </span><span style=\"color: #00af00; text-decoration-color: #00af00\">36,755</span> (143.58 KB)\n",
       "</pre>\n"
      ],
      "text/plain": [
       "\u001b[1m Total params: \u001b[0m\u001b[38;5;34m36,755\u001b[0m (143.58 KB)\n"
      ]
     },
     "metadata": {},
     "output_type": "display_data"
    },
    {
     "data": {
      "text/html": [
       "<pre style=\"white-space:pre;overflow-x:auto;line-height:normal;font-family:Menlo,'DejaVu Sans Mono',consolas,'Courier New',monospace\"><span style=\"font-weight: bold\"> Trainable params: </span><span style=\"color: #00af00; text-decoration-color: #00af00\">12,251</span> (47.86 KB)\n",
       "</pre>\n"
      ],
      "text/plain": [
       "\u001b[1m Trainable params: \u001b[0m\u001b[38;5;34m12,251\u001b[0m (47.86 KB)\n"
      ]
     },
     "metadata": {},
     "output_type": "display_data"
    },
    {
     "data": {
      "text/html": [
       "<pre style=\"white-space:pre;overflow-x:auto;line-height:normal;font-family:Menlo,'DejaVu Sans Mono',consolas,'Courier New',monospace\"><span style=\"font-weight: bold\"> Non-trainable params: </span><span style=\"color: #00af00; text-decoration-color: #00af00\">0</span> (0.00 B)\n",
       "</pre>\n"
      ],
      "text/plain": [
       "\u001b[1m Non-trainable params: \u001b[0m\u001b[38;5;34m0\u001b[0m (0.00 B)\n"
      ]
     },
     "metadata": {},
     "output_type": "display_data"
    },
    {
     "data": {
      "text/html": [
       "<pre style=\"white-space:pre;overflow-x:auto;line-height:normal;font-family:Menlo,'DejaVu Sans Mono',consolas,'Courier New',monospace\"><span style=\"font-weight: bold\"> Optimizer params: </span><span style=\"color: #00af00; text-decoration-color: #00af00\">24,504</span> (95.72 KB)\n",
       "</pre>\n"
      ],
      "text/plain": [
       "\u001b[1m Optimizer params: \u001b[0m\u001b[38;5;34m24,504\u001b[0m (95.72 KB)\n"
      ]
     },
     "metadata": {},
     "output_type": "display_data"
    }
   ],
   "source": [
    "model.summary()"
   ]
  },
  {
   "cell_type": "code",
   "execution_count": 67,
   "id": "07f4d559",
   "metadata": {
    "execution": {
     "iopub.execute_input": "2024-08-16T15:13:49.497822Z",
     "iopub.status.busy": "2024-08-16T15:13:49.496871Z",
     "iopub.status.idle": "2024-08-16T15:13:50.020019Z",
     "shell.execute_reply": "2024-08-16T15:13:50.018114Z"
    },
    "papermill": {
     "duration": 0.900442,
     "end_time": "2024-08-16T15:13:50.023635",
     "exception": false,
     "start_time": "2024-08-16T15:13:49.123193",
     "status": "completed"
    },
    "tags": []
   },
   "outputs": [
    {
     "data": {
      "image/png": "[encoded data removed]",
      "text/plain": [
       "<Figure size 1200x600 with 1 Axes>"
      ]
     },
     "metadata": {},
     "output_type": "display_data"
    }
   ],
   "source": [
    "#Accuracy curve\n",
    "plt.figure(figsize=(12, 6))\n",
    "\n",
    "plt.plot(history.history['accuracy'], label='Train Accuracy')\n",
    "plt.plot(history.history['val_accuracy'], label='Validation Accuracy')\n",
    "plt.title('Model Accuracy')\n",
    "plt.ylabel('Accuracy')\n",
    "plt.xlabel('Epoch')\n",
    "plt.legend(loc='upper left')\n",
    "\n",
    "plt.show()\n"
   ]
  },
  {
   "cell_type": "code",
   "execution_count": 68,
   "id": "95ff01f8",
   "metadata": {
    "execution": {
     "iopub.execute_input": "2024-08-16T15:13:50.815176Z",
     "iopub.status.busy": "2024-08-16T15:13:50.813946Z",
     "iopub.status.idle": "2024-08-16T15:13:51.320413Z",
     "shell.execute_reply": "2024-08-16T15:13:51.318681Z"
    },
    "papermill": {
     "duration": 0.89339,
     "end_time": "2024-08-16T15:13:51.323105",
     "exception": false,
     "start_time": "2024-08-16T15:13:50.429715",
     "status": "completed"
    },
    "tags": []
   },
   "outputs": [
    {
     "data": {
      "image/png": "[encoded data removed]",
      "text/plain": [
       "<Figure size 640x480 with 1 Axes>"
      ]
     },
     "metadata": {},
     "output_type": "display_data"
    }
   ],
   "source": [
    "# Loss curve\n",
    "\n",
    "plt.plot(history.history['loss'], label='Train Loss')\n",
    "plt.plot(history.history['val_loss'], label='Validation Loss')\n",
    "plt.title('Model Loss')\n",
    "plt.ylabel('Loss')\n",
    "plt.xlabel('Epoch')\n",
    "plt.legend(loc='upper right')\n",
    "plt.show()"
   ]
  },
  {
   "cell_type": "code",
   "execution_count": 69,
   "id": "f12ea0f2",
   "metadata": {
    "execution": {
     "iopub.execute_input": "2024-08-16T15:13:52.080103Z",
     "iopub.status.busy": "2024-08-16T15:13:52.079547Z",
     "iopub.status.idle": "2024-08-16T15:13:55.877065Z",
     "shell.execute_reply": "2024-08-16T15:13:55.875703Z"
    },
    "papermill": {
     "duration": 4.184252,
     "end_time": "2024-08-16T15:13:55.880410",
     "exception": false,
     "start_time": "2024-08-16T15:13:51.696158",
     "status": "completed"
    },
    "tags": []
   },
   "outputs": [
    {
     "name": "stdout",
     "output_type": "stream",
     "text": [
      "\u001b[1m1743/1743\u001b[0m \u001b[32m━━━━━━━━━━━━━━━━━━━━\u001b[0m\u001b[37m\u001b[0m \u001b[1m3s\u001b[0m 2ms/step\n"
     ]
    }
   ],
   "source": [
    "predictions = model.predict(x_test)"
   ]
  },
  {
   "cell_type": "code",
   "execution_count": 70,
   "id": "6ed8fe1a",
   "metadata": {
    "execution": {
     "iopub.execute_input": "2024-08-16T15:13:56.795767Z",
     "iopub.status.busy": "2024-08-16T15:13:56.795225Z",
     "iopub.status.idle": "2024-08-16T15:13:56.802735Z",
     "shell.execute_reply": "2024-08-16T15:13:56.801116Z"
    },
    "papermill": {
     "duration": 0.520784,
     "end_time": "2024-08-16T15:13:56.805947",
     "exception": false,
     "start_time": "2024-08-16T15:13:56.285163",
     "status": "completed"
    },
    "tags": []
   },
   "outputs": [
    {
     "name": "stdout",
     "output_type": "stream",
     "text": [
      "predictions shape is  (55770, 3)\n"
     ]
    }
   ],
   "source": [
    "print(\"predictions shape is \",format(predictions.shape))"
   ]
  },
  {
   "cell_type": "markdown",
   "id": "5380dcb8",
   "metadata": {
    "papermill": {
     "duration": 0.39135,
     "end_time": "2024-08-16T15:13:57.584558",
     "exception": false,
     "start_time": "2024-08-16T15:13:57.193208",
     "status": "completed"
    },
    "tags": []
   },
   "source": [
    "another way"
   ]
  },
  {
   "cell_type": "code",
   "execution_count": 71,
   "id": "7d663835",
   "metadata": {
    "execution": {
     "iopub.execute_input": "2024-08-16T15:13:58.362630Z",
     "iopub.status.busy": "2024-08-16T15:13:58.362079Z",
     "iopub.status.idle": "2024-08-16T15:13:58.387611Z",
     "shell.execute_reply": "2024-08-16T15:13:58.385939Z"
    },
    "papermill": {
     "duration": 0.418868,
     "end_time": "2024-08-16T15:13:58.390579",
     "exception": false,
     "start_time": "2024-08-16T15:13:57.971711",
     "status": "completed"
    },
    "tags": []
   },
   "outputs": [
    {
     "data": {
      "text/html": [
       "<div>\n",
       "<style scoped>\n",
       "    .dataframe tbody tr th:only-of-type {\n",
       "        vertical-align: middle;\n",
       "    }\n",
       "\n",
       "    .dataframe tbody tr th {\n",
       "        vertical-align: top;\n",
       "    }\n",
       "\n",
       "    .dataframe thead th {\n",
       "        text-align: right;\n",
       "    }\n",
       "</style>\n",
       "<table border=\"1\" class=\"dataframe\">\n",
       "  <thead>\n",
       "    <tr style=\"text-align: right;\">\n",
       "      <th></th>\n",
       "      <th>Ind_ID</th>\n",
       "      <th>Test_date</th>\n",
       "      <th>Cough_symptoms</th>\n",
       "      <th>Fever</th>\n",
       "      <th>Sore_throat</th>\n",
       "      <th>Shortness_of_breath</th>\n",
       "      <th>Headache</th>\n",
       "      <th>Corona</th>\n",
       "      <th>Age_60_above</th>\n",
       "      <th>Sex</th>\n",
       "      <th>Known_contact</th>\n",
       "    </tr>\n",
       "  </thead>\n",
       "  <tbody>\n",
       "    <tr>\n",
       "      <th>0</th>\n",
       "      <td>1</td>\n",
       "      <td>11-03-2020</td>\n",
       "      <td>True</td>\n",
       "      <td>False</td>\n",
       "      <td>True</td>\n",
       "      <td>False</td>\n",
       "      <td>False</td>\n",
       "      <td>negative</td>\n",
       "      <td>NaN</td>\n",
       "      <td>NaN</td>\n",
       "      <td>Abroad</td>\n",
       "    </tr>\n",
       "    <tr>\n",
       "      <th>1</th>\n",
       "      <td>2</td>\n",
       "      <td>11-03-2020</td>\n",
       "      <td>False</td>\n",
       "      <td>True</td>\n",
       "      <td>False</td>\n",
       "      <td>False</td>\n",
       "      <td>False</td>\n",
       "      <td>positive</td>\n",
       "      <td>NaN</td>\n",
       "      <td>NaN</td>\n",
       "      <td>Abroad</td>\n",
       "    </tr>\n",
       "    <tr>\n",
       "      <th>2</th>\n",
       "      <td>3</td>\n",
       "      <td>11-03-2020</td>\n",
       "      <td>False</td>\n",
       "      <td>True</td>\n",
       "      <td>False</td>\n",
       "      <td>False</td>\n",
       "      <td>False</td>\n",
       "      <td>positive</td>\n",
       "      <td>NaN</td>\n",
       "      <td>NaN</td>\n",
       "      <td>Abroad</td>\n",
       "    </tr>\n",
       "    <tr>\n",
       "      <th>3</th>\n",
       "      <td>4</td>\n",
       "      <td>11-03-2020</td>\n",
       "      <td>True</td>\n",
       "      <td>False</td>\n",
       "      <td>False</td>\n",
       "      <td>False</td>\n",
       "      <td>False</td>\n",
       "      <td>negative</td>\n",
       "      <td>NaN</td>\n",
       "      <td>NaN</td>\n",
       "      <td>Abroad</td>\n",
       "    </tr>\n",
       "    <tr>\n",
       "      <th>4</th>\n",
       "      <td>5</td>\n",
       "      <td>11-03-2020</td>\n",
       "      <td>True</td>\n",
       "      <td>False</td>\n",
       "      <td>False</td>\n",
       "      <td>False</td>\n",
       "      <td>False</td>\n",
       "      <td>negative</td>\n",
       "      <td>NaN</td>\n",
       "      <td>NaN</td>\n",
       "      <td>Contact with confirmed</td>\n",
       "    </tr>\n",
       "    <tr>\n",
       "      <th>...</th>\n",
       "      <td>...</td>\n",
       "      <td>...</td>\n",
       "      <td>...</td>\n",
       "      <td>...</td>\n",
       "      <td>...</td>\n",
       "      <td>...</td>\n",
       "      <td>...</td>\n",
       "      <td>...</td>\n",
       "      <td>...</td>\n",
       "      <td>...</td>\n",
       "      <td>...</td>\n",
       "    </tr>\n",
       "    <tr>\n",
       "      <th>278843</th>\n",
       "      <td>278844</td>\n",
       "      <td>30-04-2020</td>\n",
       "      <td>False</td>\n",
       "      <td>False</td>\n",
       "      <td>False</td>\n",
       "      <td>False</td>\n",
       "      <td>False</td>\n",
       "      <td>positive</td>\n",
       "      <td>NaN</td>\n",
       "      <td>male</td>\n",
       "      <td>Other</td>\n",
       "    </tr>\n",
       "    <tr>\n",
       "      <th>278844</th>\n",
       "      <td>278845</td>\n",
       "      <td>30-04-2020</td>\n",
       "      <td>False</td>\n",
       "      <td>False</td>\n",
       "      <td>False</td>\n",
       "      <td>False</td>\n",
       "      <td>False</td>\n",
       "      <td>negative</td>\n",
       "      <td>NaN</td>\n",
       "      <td>female</td>\n",
       "      <td>Other</td>\n",
       "    </tr>\n",
       "    <tr>\n",
       "      <th>278845</th>\n",
       "      <td>278846</td>\n",
       "      <td>30-04-2020</td>\n",
       "      <td>False</td>\n",
       "      <td>False</td>\n",
       "      <td>False</td>\n",
       "      <td>False</td>\n",
       "      <td>False</td>\n",
       "      <td>negative</td>\n",
       "      <td>NaN</td>\n",
       "      <td>male</td>\n",
       "      <td>Other</td>\n",
       "    </tr>\n",
       "    <tr>\n",
       "      <th>278846</th>\n",
       "      <td>278847</td>\n",
       "      <td>30-04-2020</td>\n",
       "      <td>False</td>\n",
       "      <td>False</td>\n",
       "      <td>False</td>\n",
       "      <td>False</td>\n",
       "      <td>False</td>\n",
       "      <td>negative</td>\n",
       "      <td>NaN</td>\n",
       "      <td>male</td>\n",
       "      <td>Other</td>\n",
       "    </tr>\n",
       "    <tr>\n",
       "      <th>278847</th>\n",
       "      <td>278848</td>\n",
       "      <td>30-04-2020</td>\n",
       "      <td>False</td>\n",
       "      <td>False</td>\n",
       "      <td>False</td>\n",
       "      <td>False</td>\n",
       "      <td>False</td>\n",
       "      <td>negative</td>\n",
       "      <td>NaN</td>\n",
       "      <td>female</td>\n",
       "      <td>Other</td>\n",
       "    </tr>\n",
       "  </tbody>\n",
       "</table>\n",
       "<p>278848 rows × 11 columns</p>\n",
       "</div>"
      ],
      "text/plain": [
       "        Ind_ID   Test_date Cough_symptoms  Fever Sore_throat  \\\n",
       "0            1  11-03-2020           True  False        True   \n",
       "1            2  11-03-2020          False   True       False   \n",
       "2            3  11-03-2020          False   True       False   \n",
       "3            4  11-03-2020           True  False       False   \n",
       "4            5  11-03-2020           True  False       False   \n",
       "...        ...         ...            ...    ...         ...   \n",
       "278843  278844  30-04-2020          False  False       False   \n",
       "278844  278845  30-04-2020          False  False       False   \n",
       "278845  278846  30-04-2020          False  False       False   \n",
       "278846  278847  30-04-2020          False  False       False   \n",
       "278847  278848  30-04-2020          False  False       False   \n",
       "\n",
       "       Shortness_of_breath Headache    Corona Age_60_above     Sex  \\\n",
       "0                    False    False  negative          NaN     NaN   \n",
       "1                    False    False  positive          NaN     NaN   \n",
       "2                    False    False  positive          NaN     NaN   \n",
       "3                    False    False  negative          NaN     NaN   \n",
       "4                    False    False  negative          NaN     NaN   \n",
       "...                    ...      ...       ...          ...     ...   \n",
       "278843               False    False  positive          NaN    male   \n",
       "278844               False    False  negative          NaN  female   \n",
       "278845               False    False  negative          NaN    male   \n",
       "278846               False    False  negative          NaN    male   \n",
       "278847               False    False  negative          NaN  female   \n",
       "\n",
       "                 Known_contact  \n",
       "0                       Abroad  \n",
       "1                       Abroad  \n",
       "2                       Abroad  \n",
       "3                       Abroad  \n",
       "4       Contact with confirmed  \n",
       "...                        ...  \n",
       "278843                   Other  \n",
       "278844                   Other  \n",
       "278845                   Other  \n",
       "278846                   Other  \n",
       "278847                   Other  \n",
       "\n",
       "[278848 rows x 11 columns]"
      ]
     },
     "execution_count": 71,
     "metadata": {},
     "output_type": "execute_result"
    }
   ],
   "source": [
    "df"
   ]
  },
  {
   "cell_type": "code",
   "execution_count": 72,
   "id": "742507fc",
   "metadata": {
    "execution": {
     "iopub.execute_input": "2024-08-16T15:13:59.172108Z",
     "iopub.status.busy": "2024-08-16T15:13:59.171660Z",
     "iopub.status.idle": "2024-08-16T15:13:59.480022Z",
     "shell.execute_reply": "2024-08-16T15:13:59.478418Z"
    },
    "papermill": {
     "duration": 0.701716,
     "end_time": "2024-08-16T15:13:59.482985",
     "exception": false,
     "start_time": "2024-08-16T15:13:58.781269",
     "status": "completed"
    },
    "tags": []
   },
   "outputs": [
    {
     "data": {
      "text/plain": [
       "Ind_ID                      0\n",
       "Test_date                   0\n",
       "Cough_symptoms            252\n",
       "Fever                     252\n",
       "Sore_throat                 1\n",
       "Shortness_of_breath         1\n",
       "Headache                    1\n",
       "Corona                      0\n",
       "Age_60_above           127320\n",
       "Sex                     19563\n",
       "Known_contact               0\n",
       "dtype: int64"
      ]
     },
     "execution_count": 72,
     "metadata": {},
     "output_type": "execute_result"
    }
   ],
   "source": [
    "df.isnull().sum()"
   ]
  },
  {
   "cell_type": "code",
   "execution_count": 73,
   "id": "45daa34f",
   "metadata": {
    "execution": {
     "iopub.execute_input": "2024-08-16T15:14:00.330864Z",
     "iopub.status.busy": "2024-08-16T15:14:00.330373Z",
     "iopub.status.idle": "2024-08-16T15:14:00.667045Z",
     "shell.execute_reply": "2024-08-16T15:14:00.665512Z"
    },
    "papermill": {
     "duration": 0.724488,
     "end_time": "2024-08-16T15:14:00.669902",
     "exception": false,
     "start_time": "2024-08-16T15:13:59.945414",
     "status": "completed"
    },
    "tags": []
   },
   "outputs": [
    {
     "data": {
      "text/html": [
       "<div>\n",
       "<style scoped>\n",
       "    .dataframe tbody tr th:only-of-type {\n",
       "        vertical-align: middle;\n",
       "    }\n",
       "\n",
       "    .dataframe tbody tr th {\n",
       "        vertical-align: top;\n",
       "    }\n",
       "\n",
       "    .dataframe thead th {\n",
       "        text-align: right;\n",
       "    }\n",
       "</style>\n",
       "<table border=\"1\" class=\"dataframe\">\n",
       "  <thead>\n",
       "    <tr style=\"text-align: right;\">\n",
       "      <th></th>\n",
       "      <th>Ind_ID</th>\n",
       "      <th>Test_date</th>\n",
       "      <th>Cough_symptoms</th>\n",
       "      <th>Fever</th>\n",
       "      <th>Sore_throat</th>\n",
       "      <th>Shortness_of_breath</th>\n",
       "      <th>Headache</th>\n",
       "      <th>Corona</th>\n",
       "      <th>Age_60_above</th>\n",
       "      <th>Sex</th>\n",
       "      <th>Known_contact</th>\n",
       "    </tr>\n",
       "  </thead>\n",
       "  <tbody>\n",
       "    <tr>\n",
       "      <th>13727</th>\n",
       "      <td>13728</td>\n",
       "      <td>22-03-2020</td>\n",
       "      <td>True</td>\n",
       "      <td>False</td>\n",
       "      <td>False</td>\n",
       "      <td>False</td>\n",
       "      <td>False</td>\n",
       "      <td>negative</td>\n",
       "      <td>No</td>\n",
       "      <td>male</td>\n",
       "      <td>Abroad</td>\n",
       "    </tr>\n",
       "    <tr>\n",
       "      <th>13728</th>\n",
       "      <td>13729</td>\n",
       "      <td>22-03-2020</td>\n",
       "      <td>True</td>\n",
       "      <td>False</td>\n",
       "      <td>False</td>\n",
       "      <td>False</td>\n",
       "      <td>False</td>\n",
       "      <td>negative</td>\n",
       "      <td>No</td>\n",
       "      <td>female</td>\n",
       "      <td>Abroad</td>\n",
       "    </tr>\n",
       "    <tr>\n",
       "      <th>13730</th>\n",
       "      <td>13731</td>\n",
       "      <td>22-03-2020</td>\n",
       "      <td>True</td>\n",
       "      <td>True</td>\n",
       "      <td>False</td>\n",
       "      <td>False</td>\n",
       "      <td>False</td>\n",
       "      <td>positive</td>\n",
       "      <td>Yes</td>\n",
       "      <td>female</td>\n",
       "      <td>Other</td>\n",
       "    </tr>\n",
       "    <tr>\n",
       "      <th>13731</th>\n",
       "      <td>13732</td>\n",
       "      <td>22-03-2020</td>\n",
       "      <td>False</td>\n",
       "      <td>False</td>\n",
       "      <td>False</td>\n",
       "      <td>False</td>\n",
       "      <td>False</td>\n",
       "      <td>other</td>\n",
       "      <td>No</td>\n",
       "      <td>female</td>\n",
       "      <td>Other</td>\n",
       "    </tr>\n",
       "    <tr>\n",
       "      <th>13732</th>\n",
       "      <td>13733</td>\n",
       "      <td>22-03-2020</td>\n",
       "      <td>False</td>\n",
       "      <td>False</td>\n",
       "      <td>False</td>\n",
       "      <td>False</td>\n",
       "      <td>False</td>\n",
       "      <td>other</td>\n",
       "      <td>No</td>\n",
       "      <td>female</td>\n",
       "      <td>Other</td>\n",
       "    </tr>\n",
       "    <tr>\n",
       "      <th>...</th>\n",
       "      <td>...</td>\n",
       "      <td>...</td>\n",
       "      <td>...</td>\n",
       "      <td>...</td>\n",
       "      <td>...</td>\n",
       "      <td>...</td>\n",
       "      <td>...</td>\n",
       "      <td>...</td>\n",
       "      <td>...</td>\n",
       "      <td>...</td>\n",
       "      <td>...</td>\n",
       "    </tr>\n",
       "    <tr>\n",
       "      <th>156035</th>\n",
       "      <td>156036</td>\n",
       "      <td>14-04-2020</td>\n",
       "      <td>True</td>\n",
       "      <td>False</td>\n",
       "      <td>True</td>\n",
       "      <td>False</td>\n",
       "      <td>False</td>\n",
       "      <td>negative</td>\n",
       "      <td>Yes</td>\n",
       "      <td>male</td>\n",
       "      <td>Abroad</td>\n",
       "    </tr>\n",
       "    <tr>\n",
       "      <th>156036</th>\n",
       "      <td>156037</td>\n",
       "      <td>14-04-2020</td>\n",
       "      <td>True</td>\n",
       "      <td>False</td>\n",
       "      <td>True</td>\n",
       "      <td>True</td>\n",
       "      <td>False</td>\n",
       "      <td>negative</td>\n",
       "      <td>No</td>\n",
       "      <td>male</td>\n",
       "      <td>Abroad</td>\n",
       "    </tr>\n",
       "    <tr>\n",
       "      <th>156037</th>\n",
       "      <td>156038</td>\n",
       "      <td>14-04-2020</td>\n",
       "      <td>True</td>\n",
       "      <td>True</td>\n",
       "      <td>False</td>\n",
       "      <td>False</td>\n",
       "      <td>False</td>\n",
       "      <td>negative</td>\n",
       "      <td>No</td>\n",
       "      <td>female</td>\n",
       "      <td>Abroad</td>\n",
       "    </tr>\n",
       "    <tr>\n",
       "      <th>156038</th>\n",
       "      <td>156039</td>\n",
       "      <td>14-04-2020</td>\n",
       "      <td>False</td>\n",
       "      <td>False</td>\n",
       "      <td>False</td>\n",
       "      <td>False</td>\n",
       "      <td>False</td>\n",
       "      <td>negative</td>\n",
       "      <td>No</td>\n",
       "      <td>male</td>\n",
       "      <td>Other</td>\n",
       "    </tr>\n",
       "    <tr>\n",
       "      <th>156039</th>\n",
       "      <td>156040</td>\n",
       "      <td>14-04-2020</td>\n",
       "      <td>False</td>\n",
       "      <td>False</td>\n",
       "      <td>False</td>\n",
       "      <td>False</td>\n",
       "      <td>False</td>\n",
       "      <td>negative</td>\n",
       "      <td>No</td>\n",
       "      <td>female</td>\n",
       "      <td>Other</td>\n",
       "    </tr>\n",
       "  </tbody>\n",
       "</table>\n",
       "<p>138172 rows × 11 columns</p>\n",
       "</div>"
      ],
      "text/plain": [
       "        Ind_ID   Test_date Cough_symptoms  Fever Sore_throat  \\\n",
       "13727    13728  22-03-2020           True  False       False   \n",
       "13728    13729  22-03-2020           True  False       False   \n",
       "13730    13731  22-03-2020           True   True       False   \n",
       "13731    13732  22-03-2020          False  False       False   \n",
       "13732    13733  22-03-2020          False  False       False   \n",
       "...        ...         ...            ...    ...         ...   \n",
       "156035  156036  14-04-2020           True  False        True   \n",
       "156036  156037  14-04-2020           True  False        True   \n",
       "156037  156038  14-04-2020           True   True       False   \n",
       "156038  156039  14-04-2020          False  False       False   \n",
       "156039  156040  14-04-2020          False  False       False   \n",
       "\n",
       "       Shortness_of_breath Headache    Corona Age_60_above     Sex  \\\n",
       "13727                False    False  negative           No    male   \n",
       "13728                False    False  negative           No  female   \n",
       "13730                False    False  positive          Yes  female   \n",
       "13731                False    False     other           No  female   \n",
       "13732                False    False     other           No  female   \n",
       "...                    ...      ...       ...          ...     ...   \n",
       "156035               False    False  negative          Yes    male   \n",
       "156036                True    False  negative           No    male   \n",
       "156037               False    False  negative           No  female   \n",
       "156038               False    False  negative           No    male   \n",
       "156039               False    False  negative           No  female   \n",
       "\n",
       "       Known_contact  \n",
       "13727         Abroad  \n",
       "13728         Abroad  \n",
       "13730          Other  \n",
       "13731          Other  \n",
       "13732          Other  \n",
       "...              ...  \n",
       "156035        Abroad  \n",
       "156036        Abroad  \n",
       "156037        Abroad  \n",
       "156038         Other  \n",
       "156039         Other  \n",
       "\n",
       "[138172 rows x 11 columns]"
      ]
     },
     "execution_count": 73,
     "metadata": {},
     "output_type": "execute_result"
    }
   ],
   "source": [
    "df = df.dropna(how=\"any\")\n",
    "df"
   ]
  },
  {
   "cell_type": "code",
   "execution_count": 74,
   "id": "ed35aa07",
   "metadata": {
    "execution": {
     "iopub.execute_input": "2024-08-16T15:14:01.460276Z",
     "iopub.status.busy": "2024-08-16T15:14:01.459759Z",
     "iopub.status.idle": "2024-08-16T15:14:01.500974Z",
     "shell.execute_reply": "2024-08-16T15:14:01.499492Z"
    },
    "papermill": {
     "duration": 0.443904,
     "end_time": "2024-08-16T15:14:01.503931",
     "exception": false,
     "start_time": "2024-08-16T15:14:01.060027",
     "status": "completed"
    },
    "tags": []
   },
   "outputs": [],
   "source": [
    "df.reset_index(inplace=True)\n",
    "df.drop([\"index\",\"Ind_ID\",\"Test_date\"],axis=1,inplace=True)"
   ]
  },
  {
   "cell_type": "code",
   "execution_count": 75,
   "id": "c4156fef",
   "metadata": {
    "execution": {
     "iopub.execute_input": "2024-08-16T15:14:02.288098Z",
     "iopub.status.busy": "2024-08-16T15:14:02.287630Z",
     "iopub.status.idle": "2024-08-16T15:14:02.309882Z",
     "shell.execute_reply": "2024-08-16T15:14:02.308522Z"
    },
    "papermill": {
     "duration": 0.429488,
     "end_time": "2024-08-16T15:14:02.313627",
     "exception": false,
     "start_time": "2024-08-16T15:14:01.884139",
     "status": "completed"
    },
    "tags": []
   },
   "outputs": [
    {
     "data": {
      "text/html": [
       "<div>\n",
       "<style scoped>\n",
       "    .dataframe tbody tr th:only-of-type {\n",
       "        vertical-align: middle;\n",
       "    }\n",
       "\n",
       "    .dataframe tbody tr th {\n",
       "        vertical-align: top;\n",
       "    }\n",
       "\n",
       "    .dataframe thead th {\n",
       "        text-align: right;\n",
       "    }\n",
       "</style>\n",
       "<table border=\"1\" class=\"dataframe\">\n",
       "  <thead>\n",
       "    <tr style=\"text-align: right;\">\n",
       "      <th></th>\n",
       "      <th>Cough_symptoms</th>\n",
       "      <th>Fever</th>\n",
       "      <th>Sore_throat</th>\n",
       "      <th>Shortness_of_breath</th>\n",
       "      <th>Headache</th>\n",
       "      <th>Corona</th>\n",
       "      <th>Age_60_above</th>\n",
       "      <th>Sex</th>\n",
       "      <th>Known_contact</th>\n",
       "    </tr>\n",
       "  </thead>\n",
       "  <tbody>\n",
       "    <tr>\n",
       "      <th>0</th>\n",
       "      <td>True</td>\n",
       "      <td>False</td>\n",
       "      <td>False</td>\n",
       "      <td>False</td>\n",
       "      <td>False</td>\n",
       "      <td>negative</td>\n",
       "      <td>No</td>\n",
       "      <td>male</td>\n",
       "      <td>Abroad</td>\n",
       "    </tr>\n",
       "    <tr>\n",
       "      <th>1</th>\n",
       "      <td>True</td>\n",
       "      <td>False</td>\n",
       "      <td>False</td>\n",
       "      <td>False</td>\n",
       "      <td>False</td>\n",
       "      <td>negative</td>\n",
       "      <td>No</td>\n",
       "      <td>female</td>\n",
       "      <td>Abroad</td>\n",
       "    </tr>\n",
       "    <tr>\n",
       "      <th>2</th>\n",
       "      <td>True</td>\n",
       "      <td>True</td>\n",
       "      <td>False</td>\n",
       "      <td>False</td>\n",
       "      <td>False</td>\n",
       "      <td>positive</td>\n",
       "      <td>Yes</td>\n",
       "      <td>female</td>\n",
       "      <td>Other</td>\n",
       "    </tr>\n",
       "    <tr>\n",
       "      <th>3</th>\n",
       "      <td>False</td>\n",
       "      <td>False</td>\n",
       "      <td>False</td>\n",
       "      <td>False</td>\n",
       "      <td>False</td>\n",
       "      <td>other</td>\n",
       "      <td>No</td>\n",
       "      <td>female</td>\n",
       "      <td>Other</td>\n",
       "    </tr>\n",
       "    <tr>\n",
       "      <th>4</th>\n",
       "      <td>False</td>\n",
       "      <td>False</td>\n",
       "      <td>False</td>\n",
       "      <td>False</td>\n",
       "      <td>False</td>\n",
       "      <td>other</td>\n",
       "      <td>No</td>\n",
       "      <td>female</td>\n",
       "      <td>Other</td>\n",
       "    </tr>\n",
       "    <tr>\n",
       "      <th>...</th>\n",
       "      <td>...</td>\n",
       "      <td>...</td>\n",
       "      <td>...</td>\n",
       "      <td>...</td>\n",
       "      <td>...</td>\n",
       "      <td>...</td>\n",
       "      <td>...</td>\n",
       "      <td>...</td>\n",
       "      <td>...</td>\n",
       "    </tr>\n",
       "    <tr>\n",
       "      <th>138167</th>\n",
       "      <td>True</td>\n",
       "      <td>False</td>\n",
       "      <td>True</td>\n",
       "      <td>False</td>\n",
       "      <td>False</td>\n",
       "      <td>negative</td>\n",
       "      <td>Yes</td>\n",
       "      <td>male</td>\n",
       "      <td>Abroad</td>\n",
       "    </tr>\n",
       "    <tr>\n",
       "      <th>138168</th>\n",
       "      <td>True</td>\n",
       "      <td>False</td>\n",
       "      <td>True</td>\n",
       "      <td>True</td>\n",
       "      <td>False</td>\n",
       "      <td>negative</td>\n",
       "      <td>No</td>\n",
       "      <td>male</td>\n",
       "      <td>Abroad</td>\n",
       "    </tr>\n",
       "    <tr>\n",
       "      <th>138169</th>\n",
       "      <td>True</td>\n",
       "      <td>True</td>\n",
       "      <td>False</td>\n",
       "      <td>False</td>\n",
       "      <td>False</td>\n",
       "      <td>negative</td>\n",
       "      <td>No</td>\n",
       "      <td>female</td>\n",
       "      <td>Abroad</td>\n",
       "    </tr>\n",
       "    <tr>\n",
       "      <th>138170</th>\n",
       "      <td>False</td>\n",
       "      <td>False</td>\n",
       "      <td>False</td>\n",
       "      <td>False</td>\n",
       "      <td>False</td>\n",
       "      <td>negative</td>\n",
       "      <td>No</td>\n",
       "      <td>male</td>\n",
       "      <td>Other</td>\n",
       "    </tr>\n",
       "    <tr>\n",
       "      <th>138171</th>\n",
       "      <td>False</td>\n",
       "      <td>False</td>\n",
       "      <td>False</td>\n",
       "      <td>False</td>\n",
       "      <td>False</td>\n",
       "      <td>negative</td>\n",
       "      <td>No</td>\n",
       "      <td>female</td>\n",
       "      <td>Other</td>\n",
       "    </tr>\n",
       "  </tbody>\n",
       "</table>\n",
       "<p>138172 rows × 9 columns</p>\n",
       "</div>"
      ],
      "text/plain": [
       "       Cough_symptoms  Fever Sore_throat Shortness_of_breath Headache  \\\n",
       "0                True  False       False               False    False   \n",
       "1                True  False       False               False    False   \n",
       "2                True   True       False               False    False   \n",
       "3               False  False       False               False    False   \n",
       "4               False  False       False               False    False   \n",
       "...               ...    ...         ...                 ...      ...   \n",
       "138167           True  False        True               False    False   \n",
       "138168           True  False        True                True    False   \n",
       "138169           True   True       False               False    False   \n",
       "138170          False  False       False               False    False   \n",
       "138171          False  False       False               False    False   \n",
       "\n",
       "          Corona Age_60_above     Sex Known_contact  \n",
       "0       negative           No    male        Abroad  \n",
       "1       negative           No  female        Abroad  \n",
       "2       positive          Yes  female         Other  \n",
       "3          other           No  female         Other  \n",
       "4          other           No  female         Other  \n",
       "...          ...          ...     ...           ...  \n",
       "138167  negative          Yes    male        Abroad  \n",
       "138168  negative           No    male        Abroad  \n",
       "138169  negative           No  female        Abroad  \n",
       "138170  negative           No    male         Other  \n",
       "138171  negative           No  female         Other  \n",
       "\n",
       "[138172 rows x 9 columns]"
      ]
     },
     "execution_count": 75,
     "metadata": {},
     "output_type": "execute_result"
    }
   ],
   "source": [
    "df"
   ]
  },
  {
   "cell_type": "code",
   "execution_count": 76,
   "id": "d4e18f12",
   "metadata": {
    "execution": {
     "iopub.execute_input": "2024-08-16T15:14:03.123817Z",
     "iopub.status.busy": "2024-08-16T15:14:03.123347Z",
     "iopub.status.idle": "2024-08-16T15:14:03.490897Z",
     "shell.execute_reply": "2024-08-16T15:14:03.489290Z"
    },
    "papermill": {
     "duration": 0.778221,
     "end_time": "2024-08-16T15:14:03.494159",
     "exception": false,
     "start_time": "2024-08-16T15:14:02.715938",
     "status": "completed"
    },
    "tags": []
   },
   "outputs": [
    {
     "data": {
      "text/html": [
       "<div>\n",
       "<style scoped>\n",
       "    .dataframe tbody tr th:only-of-type {\n",
       "        vertical-align: middle;\n",
       "    }\n",
       "\n",
       "    .dataframe tbody tr th {\n",
       "        vertical-align: top;\n",
       "    }\n",
       "\n",
       "    .dataframe thead th {\n",
       "        text-align: right;\n",
       "    }\n",
       "</style>\n",
       "<table border=\"1\" class=\"dataframe\">\n",
       "  <thead>\n",
       "    <tr style=\"text-align: right;\">\n",
       "      <th></th>\n",
       "      <th>Cough_symptoms</th>\n",
       "      <th>Fever</th>\n",
       "      <th>Sore_throat</th>\n",
       "      <th>Shortness_of_breath</th>\n",
       "      <th>Headache</th>\n",
       "      <th>Corona</th>\n",
       "      <th>Age_60_above</th>\n",
       "      <th>Sex</th>\n",
       "      <th>Known_contact</th>\n",
       "    </tr>\n",
       "  </thead>\n",
       "  <tbody>\n",
       "    <tr>\n",
       "      <th>0</th>\n",
       "      <td>1</td>\n",
       "      <td>0</td>\n",
       "      <td>0</td>\n",
       "      <td>0</td>\n",
       "      <td>0</td>\n",
       "      <td>0</td>\n",
       "      <td>0</td>\n",
       "      <td>1</td>\n",
       "      <td>0</td>\n",
       "    </tr>\n",
       "    <tr>\n",
       "      <th>1</th>\n",
       "      <td>1</td>\n",
       "      <td>0</td>\n",
       "      <td>0</td>\n",
       "      <td>0</td>\n",
       "      <td>0</td>\n",
       "      <td>0</td>\n",
       "      <td>0</td>\n",
       "      <td>0</td>\n",
       "      <td>0</td>\n",
       "    </tr>\n",
       "    <tr>\n",
       "      <th>2</th>\n",
       "      <td>1</td>\n",
       "      <td>1</td>\n",
       "      <td>0</td>\n",
       "      <td>0</td>\n",
       "      <td>0</td>\n",
       "      <td>2</td>\n",
       "      <td>1</td>\n",
       "      <td>0</td>\n",
       "      <td>2</td>\n",
       "    </tr>\n",
       "    <tr>\n",
       "      <th>3</th>\n",
       "      <td>0</td>\n",
       "      <td>0</td>\n",
       "      <td>0</td>\n",
       "      <td>0</td>\n",
       "      <td>0</td>\n",
       "      <td>1</td>\n",
       "      <td>0</td>\n",
       "      <td>0</td>\n",
       "      <td>2</td>\n",
       "    </tr>\n",
       "    <tr>\n",
       "      <th>4</th>\n",
       "      <td>0</td>\n",
       "      <td>0</td>\n",
       "      <td>0</td>\n",
       "      <td>0</td>\n",
       "      <td>0</td>\n",
       "      <td>1</td>\n",
       "      <td>0</td>\n",
       "      <td>0</td>\n",
       "      <td>2</td>\n",
       "    </tr>\n",
       "    <tr>\n",
       "      <th>...</th>\n",
       "      <td>...</td>\n",
       "      <td>...</td>\n",
       "      <td>...</td>\n",
       "      <td>...</td>\n",
       "      <td>...</td>\n",
       "      <td>...</td>\n",
       "      <td>...</td>\n",
       "      <td>...</td>\n",
       "      <td>...</td>\n",
       "    </tr>\n",
       "    <tr>\n",
       "      <th>138167</th>\n",
       "      <td>1</td>\n",
       "      <td>0</td>\n",
       "      <td>1</td>\n",
       "      <td>0</td>\n",
       "      <td>0</td>\n",
       "      <td>0</td>\n",
       "      <td>1</td>\n",
       "      <td>1</td>\n",
       "      <td>0</td>\n",
       "    </tr>\n",
       "    <tr>\n",
       "      <th>138168</th>\n",
       "      <td>1</td>\n",
       "      <td>0</td>\n",
       "      <td>1</td>\n",
       "      <td>1</td>\n",
       "      <td>0</td>\n",
       "      <td>0</td>\n",
       "      <td>0</td>\n",
       "      <td>1</td>\n",
       "      <td>0</td>\n",
       "    </tr>\n",
       "    <tr>\n",
       "      <th>138169</th>\n",
       "      <td>1</td>\n",
       "      <td>1</td>\n",
       "      <td>0</td>\n",
       "      <td>0</td>\n",
       "      <td>0</td>\n",
       "      <td>0</td>\n",
       "      <td>0</td>\n",
       "      <td>0</td>\n",
       "      <td>0</td>\n",
       "    </tr>\n",
       "    <tr>\n",
       "      <th>138170</th>\n",
       "      <td>0</td>\n",
       "      <td>0</td>\n",
       "      <td>0</td>\n",
       "      <td>0</td>\n",
       "      <td>0</td>\n",
       "      <td>0</td>\n",
       "      <td>0</td>\n",
       "      <td>1</td>\n",
       "      <td>2</td>\n",
       "    </tr>\n",
       "    <tr>\n",
       "      <th>138171</th>\n",
       "      <td>0</td>\n",
       "      <td>0</td>\n",
       "      <td>0</td>\n",
       "      <td>0</td>\n",
       "      <td>0</td>\n",
       "      <td>0</td>\n",
       "      <td>0</td>\n",
       "      <td>0</td>\n",
       "      <td>2</td>\n",
       "    </tr>\n",
       "  </tbody>\n",
       "</table>\n",
       "<p>138172 rows × 9 columns</p>\n",
       "</div>"
      ],
      "text/plain": [
       "        Cough_symptoms  Fever  Sore_throat  Shortness_of_breath  Headache  \\\n",
       "0                    1      0            0                    0         0   \n",
       "1                    1      0            0                    0         0   \n",
       "2                    1      1            0                    0         0   \n",
       "3                    0      0            0                    0         0   \n",
       "4                    0      0            0                    0         0   \n",
       "...                ...    ...          ...                  ...       ...   \n",
       "138167               1      0            1                    0         0   \n",
       "138168               1      0            1                    1         0   \n",
       "138169               1      1            0                    0         0   \n",
       "138170               0      0            0                    0         0   \n",
       "138171               0      0            0                    0         0   \n",
       "\n",
       "        Corona  Age_60_above  Sex  Known_contact  \n",
       "0            0             0    1              0  \n",
       "1            0             0    0              0  \n",
       "2            2             1    0              2  \n",
       "3            1             0    0              2  \n",
       "4            1             0    0              2  \n",
       "...        ...           ...  ...            ...  \n",
       "138167       0             1    1              0  \n",
       "138168       0             0    1              0  \n",
       "138169       0             0    0              0  \n",
       "138170       0             0    1              2  \n",
       "138171       0             0    0              2  \n",
       "\n",
       "[138172 rows x 9 columns]"
      ]
     },
     "execution_count": 76,
     "metadata": {},
     "output_type": "execute_result"
    }
   ],
   "source": [
    "df_covid=df.apply(LabelEncoder().fit_transform)\n",
    "df_covid"
   ]
  },
  {
   "cell_type": "code",
   "execution_count": 77,
   "id": "a0df5194",
   "metadata": {
    "execution": {
     "iopub.execute_input": "2024-08-16T15:14:04.394532Z",
     "iopub.status.busy": "2024-08-16T15:14:04.394047Z",
     "iopub.status.idle": "2024-08-16T15:14:04.402780Z",
     "shell.execute_reply": "2024-08-16T15:14:04.401292Z"
    },
    "papermill": {
     "duration": 0.403429,
     "end_time": "2024-08-16T15:14:04.405669",
     "exception": false,
     "start_time": "2024-08-16T15:14:04.002240",
     "status": "completed"
    },
    "tags": []
   },
   "outputs": [],
   "source": [
    "x = df_covid.drop(columns=\"Corona\",axis = 1)  #features\n",
    "y = df_covid[\"Corona\"]   # target"
   ]
  },
  {
   "cell_type": "code",
   "execution_count": 78,
   "id": "d8eb9354",
   "metadata": {
    "execution": {
     "iopub.execute_input": "2024-08-16T15:14:05.201413Z",
     "iopub.status.busy": "2024-08-16T15:14:05.200896Z",
     "iopub.status.idle": "2024-08-16T15:14:05.235222Z",
     "shell.execute_reply": "2024-08-16T15:14:05.233377Z"
    },
    "papermill": {
     "duration": 0.439627,
     "end_time": "2024-08-16T15:14:05.238882",
     "exception": false,
     "start_time": "2024-08-16T15:14:04.799255",
     "status": "completed"
    },
    "tags": []
   },
   "outputs": [],
   "source": [
    "x_train,x_test,y_train,y_test = train_test_split(x,y,train_size= 0.75 , random_state = 42,shuffle=True)\n"
   ]
  },
  {
   "cell_type": "code",
   "execution_count": 79,
   "id": "dadd52ed",
   "metadata": {
    "execution": {
     "iopub.execute_input": "2024-08-16T15:14:06.030661Z",
     "iopub.status.busy": "2024-08-16T15:14:06.030104Z",
     "iopub.status.idle": "2024-08-16T15:14:06.052319Z",
     "shell.execute_reply": "2024-08-16T15:14:06.050720Z"
    },
    "papermill": {
     "duration": 0.423944,
     "end_time": "2024-08-16T15:14:06.056859",
     "exception": false,
     "start_time": "2024-08-16T15:14:05.632915",
     "status": "completed"
    },
    "tags": []
   },
   "outputs": [
    {
     "data": {
      "text/html": [
       "<div>\n",
       "<style scoped>\n",
       "    .dataframe tbody tr th:only-of-type {\n",
       "        vertical-align: middle;\n",
       "    }\n",
       "\n",
       "    .dataframe tbody tr th {\n",
       "        vertical-align: top;\n",
       "    }\n",
       "\n",
       "    .dataframe thead th {\n",
       "        text-align: right;\n",
       "    }\n",
       "</style>\n",
       "<table border=\"1\" class=\"dataframe\">\n",
       "  <thead>\n",
       "    <tr style=\"text-align: right;\">\n",
       "      <th></th>\n",
       "      <th>Cough_symptoms</th>\n",
       "      <th>Fever</th>\n",
       "      <th>Sore_throat</th>\n",
       "      <th>Shortness_of_breath</th>\n",
       "      <th>Headache</th>\n",
       "      <th>Age_60_above</th>\n",
       "      <th>Sex</th>\n",
       "      <th>Known_contact</th>\n",
       "    </tr>\n",
       "  </thead>\n",
       "  <tbody>\n",
       "    <tr>\n",
       "      <th>33558</th>\n",
       "      <td>0</td>\n",
       "      <td>0</td>\n",
       "      <td>0</td>\n",
       "      <td>0</td>\n",
       "      <td>0</td>\n",
       "      <td>0</td>\n",
       "      <td>0</td>\n",
       "      <td>2</td>\n",
       "    </tr>\n",
       "    <tr>\n",
       "      <th>100861</th>\n",
       "      <td>0</td>\n",
       "      <td>0</td>\n",
       "      <td>0</td>\n",
       "      <td>0</td>\n",
       "      <td>0</td>\n",
       "      <td>0</td>\n",
       "      <td>1</td>\n",
       "      <td>2</td>\n",
       "    </tr>\n",
       "    <tr>\n",
       "      <th>61845</th>\n",
       "      <td>0</td>\n",
       "      <td>0</td>\n",
       "      <td>0</td>\n",
       "      <td>0</td>\n",
       "      <td>0</td>\n",
       "      <td>0</td>\n",
       "      <td>0</td>\n",
       "      <td>2</td>\n",
       "    </tr>\n",
       "    <tr>\n",
       "      <th>79666</th>\n",
       "      <td>0</td>\n",
       "      <td>0</td>\n",
       "      <td>0</td>\n",
       "      <td>0</td>\n",
       "      <td>1</td>\n",
       "      <td>0</td>\n",
       "      <td>0</td>\n",
       "      <td>1</td>\n",
       "    </tr>\n",
       "    <tr>\n",
       "      <th>35871</th>\n",
       "      <td>0</td>\n",
       "      <td>0</td>\n",
       "      <td>0</td>\n",
       "      <td>0</td>\n",
       "      <td>0</td>\n",
       "      <td>1</td>\n",
       "      <td>1</td>\n",
       "      <td>2</td>\n",
       "    </tr>\n",
       "    <tr>\n",
       "      <th>...</th>\n",
       "      <td>...</td>\n",
       "      <td>...</td>\n",
       "      <td>...</td>\n",
       "      <td>...</td>\n",
       "      <td>...</td>\n",
       "      <td>...</td>\n",
       "      <td>...</td>\n",
       "      <td>...</td>\n",
       "    </tr>\n",
       "    <tr>\n",
       "      <th>110268</th>\n",
       "      <td>0</td>\n",
       "      <td>0</td>\n",
       "      <td>0</td>\n",
       "      <td>0</td>\n",
       "      <td>0</td>\n",
       "      <td>0</td>\n",
       "      <td>0</td>\n",
       "      <td>2</td>\n",
       "    </tr>\n",
       "    <tr>\n",
       "      <th>119879</th>\n",
       "      <td>0</td>\n",
       "      <td>0</td>\n",
       "      <td>0</td>\n",
       "      <td>0</td>\n",
       "      <td>0</td>\n",
       "      <td>0</td>\n",
       "      <td>1</td>\n",
       "      <td>2</td>\n",
       "    </tr>\n",
       "    <tr>\n",
       "      <th>103694</th>\n",
       "      <td>1</td>\n",
       "      <td>0</td>\n",
       "      <td>0</td>\n",
       "      <td>0</td>\n",
       "      <td>0</td>\n",
       "      <td>0</td>\n",
       "      <td>1</td>\n",
       "      <td>2</td>\n",
       "    </tr>\n",
       "    <tr>\n",
       "      <th>131932</th>\n",
       "      <td>1</td>\n",
       "      <td>0</td>\n",
       "      <td>0</td>\n",
       "      <td>0</td>\n",
       "      <td>0</td>\n",
       "      <td>0</td>\n",
       "      <td>0</td>\n",
       "      <td>0</td>\n",
       "    </tr>\n",
       "    <tr>\n",
       "      <th>121958</th>\n",
       "      <td>1</td>\n",
       "      <td>1</td>\n",
       "      <td>0</td>\n",
       "      <td>0</td>\n",
       "      <td>0</td>\n",
       "      <td>0</td>\n",
       "      <td>1</td>\n",
       "      <td>0</td>\n",
       "    </tr>\n",
       "  </tbody>\n",
       "</table>\n",
       "<p>103629 rows × 8 columns</p>\n",
       "</div>"
      ],
      "text/plain": [
       "        Cough_symptoms  Fever  Sore_throat  Shortness_of_breath  Headache  \\\n",
       "33558                0      0            0                    0         0   \n",
       "100861               0      0            0                    0         0   \n",
       "61845                0      0            0                    0         0   \n",
       "79666                0      0            0                    0         1   \n",
       "35871                0      0            0                    0         0   \n",
       "...                ...    ...          ...                  ...       ...   \n",
       "110268               0      0            0                    0         0   \n",
       "119879               0      0            0                    0         0   \n",
       "103694               1      0            0                    0         0   \n",
       "131932               1      0            0                    0         0   \n",
       "121958               1      1            0                    0         0   \n",
       "\n",
       "        Age_60_above  Sex  Known_contact  \n",
       "33558              0    0              2  \n",
       "100861             0    1              2  \n",
       "61845              0    0              2  \n",
       "79666              0    0              1  \n",
       "35871              1    1              2  \n",
       "...              ...  ...            ...  \n",
       "110268             0    0              2  \n",
       "119879             0    1              2  \n",
       "103694             0    1              2  \n",
       "131932             0    0              0  \n",
       "121958             0    1              0  \n",
       "\n",
       "[103629 rows x 8 columns]"
      ]
     },
     "execution_count": 79,
     "metadata": {},
     "output_type": "execute_result"
    }
   ],
   "source": [
    "x_train"
   ]
  },
  {
   "cell_type": "code",
   "execution_count": 80,
   "id": "d4862502",
   "metadata": {
    "execution": {
     "iopub.execute_input": "2024-08-16T15:14:06.939752Z",
     "iopub.status.busy": "2024-08-16T15:14:06.939224Z",
     "iopub.status.idle": "2024-08-16T15:14:06.957226Z",
     "shell.execute_reply": "2024-08-16T15:14:06.955706Z"
    },
    "papermill": {
     "duration": 0.485693,
     "end_time": "2024-08-16T15:14:06.960059",
     "exception": false,
     "start_time": "2024-08-16T15:14:06.474366",
     "status": "completed"
    },
    "tags": []
   },
   "outputs": [
    {
     "data": {
      "text/html": [
       "<div>\n",
       "<style scoped>\n",
       "    .dataframe tbody tr th:only-of-type {\n",
       "        vertical-align: middle;\n",
       "    }\n",
       "\n",
       "    .dataframe tbody tr th {\n",
       "        vertical-align: top;\n",
       "    }\n",
       "\n",
       "    .dataframe thead th {\n",
       "        text-align: right;\n",
       "    }\n",
       "</style>\n",
       "<table border=\"1\" class=\"dataframe\">\n",
       "  <thead>\n",
       "    <tr style=\"text-align: right;\">\n",
       "      <th></th>\n",
       "      <th>Cough_symptoms</th>\n",
       "      <th>Fever</th>\n",
       "      <th>Sore_throat</th>\n",
       "      <th>Shortness_of_breath</th>\n",
       "      <th>Headache</th>\n",
       "      <th>Age_60_above</th>\n",
       "      <th>Sex</th>\n",
       "      <th>Known_contact</th>\n",
       "    </tr>\n",
       "  </thead>\n",
       "  <tbody>\n",
       "    <tr>\n",
       "      <th>1441</th>\n",
       "      <td>0</td>\n",
       "      <td>0</td>\n",
       "      <td>0</td>\n",
       "      <td>0</td>\n",
       "      <td>0</td>\n",
       "      <td>1</td>\n",
       "      <td>1</td>\n",
       "      <td>2</td>\n",
       "    </tr>\n",
       "    <tr>\n",
       "      <th>92168</th>\n",
       "      <td>0</td>\n",
       "      <td>0</td>\n",
       "      <td>0</td>\n",
       "      <td>0</td>\n",
       "      <td>0</td>\n",
       "      <td>0</td>\n",
       "      <td>0</td>\n",
       "      <td>2</td>\n",
       "    </tr>\n",
       "    <tr>\n",
       "      <th>77172</th>\n",
       "      <td>0</td>\n",
       "      <td>0</td>\n",
       "      <td>0</td>\n",
       "      <td>0</td>\n",
       "      <td>0</td>\n",
       "      <td>0</td>\n",
       "      <td>0</td>\n",
       "      <td>2</td>\n",
       "    </tr>\n",
       "    <tr>\n",
       "      <th>75556</th>\n",
       "      <td>1</td>\n",
       "      <td>1</td>\n",
       "      <td>0</td>\n",
       "      <td>1</td>\n",
       "      <td>1</td>\n",
       "      <td>0</td>\n",
       "      <td>0</td>\n",
       "      <td>1</td>\n",
       "    </tr>\n",
       "    <tr>\n",
       "      <th>65070</th>\n",
       "      <td>0</td>\n",
       "      <td>0</td>\n",
       "      <td>0</td>\n",
       "      <td>0</td>\n",
       "      <td>0</td>\n",
       "      <td>0</td>\n",
       "      <td>1</td>\n",
       "      <td>2</td>\n",
       "    </tr>\n",
       "    <tr>\n",
       "      <th>...</th>\n",
       "      <td>...</td>\n",
       "      <td>...</td>\n",
       "      <td>...</td>\n",
       "      <td>...</td>\n",
       "      <td>...</td>\n",
       "      <td>...</td>\n",
       "      <td>...</td>\n",
       "      <td>...</td>\n",
       "    </tr>\n",
       "    <tr>\n",
       "      <th>110476</th>\n",
       "      <td>0</td>\n",
       "      <td>0</td>\n",
       "      <td>0</td>\n",
       "      <td>0</td>\n",
       "      <td>0</td>\n",
       "      <td>0</td>\n",
       "      <td>0</td>\n",
       "      <td>2</td>\n",
       "    </tr>\n",
       "    <tr>\n",
       "      <th>87055</th>\n",
       "      <td>1</td>\n",
       "      <td>0</td>\n",
       "      <td>0</td>\n",
       "      <td>0</td>\n",
       "      <td>0</td>\n",
       "      <td>0</td>\n",
       "      <td>1</td>\n",
       "      <td>2</td>\n",
       "    </tr>\n",
       "    <tr>\n",
       "      <th>130906</th>\n",
       "      <td>1</td>\n",
       "      <td>1</td>\n",
       "      <td>0</td>\n",
       "      <td>0</td>\n",
       "      <td>0</td>\n",
       "      <td>0</td>\n",
       "      <td>0</td>\n",
       "      <td>0</td>\n",
       "    </tr>\n",
       "    <tr>\n",
       "      <th>122525</th>\n",
       "      <td>0</td>\n",
       "      <td>0</td>\n",
       "      <td>0</td>\n",
       "      <td>0</td>\n",
       "      <td>0</td>\n",
       "      <td>0</td>\n",
       "      <td>1</td>\n",
       "      <td>2</td>\n",
       "    </tr>\n",
       "    <tr>\n",
       "      <th>120710</th>\n",
       "      <td>0</td>\n",
       "      <td>0</td>\n",
       "      <td>0</td>\n",
       "      <td>0</td>\n",
       "      <td>0</td>\n",
       "      <td>1</td>\n",
       "      <td>1</td>\n",
       "      <td>1</td>\n",
       "    </tr>\n",
       "  </tbody>\n",
       "</table>\n",
       "<p>34543 rows × 8 columns</p>\n",
       "</div>"
      ],
      "text/plain": [
       "        Cough_symptoms  Fever  Sore_throat  Shortness_of_breath  Headache  \\\n",
       "1441                 0      0            0                    0         0   \n",
       "92168                0      0            0                    0         0   \n",
       "77172                0      0            0                    0         0   \n",
       "75556                1      1            0                    1         1   \n",
       "65070                0      0            0                    0         0   \n",
       "...                ...    ...          ...                  ...       ...   \n",
       "110476               0      0            0                    0         0   \n",
       "87055                1      0            0                    0         0   \n",
       "130906               1      1            0                    0         0   \n",
       "122525               0      0            0                    0         0   \n",
       "120710               0      0            0                    0         0   \n",
       "\n",
       "        Age_60_above  Sex  Known_contact  \n",
       "1441               1    1              2  \n",
       "92168              0    0              2  \n",
       "77172              0    0              2  \n",
       "75556              0    0              1  \n",
       "65070              0    1              2  \n",
       "...              ...  ...            ...  \n",
       "110476             0    0              2  \n",
       "87055              0    1              2  \n",
       "130906             0    0              0  \n",
       "122525             0    1              2  \n",
       "120710             1    1              1  \n",
       "\n",
       "[34543 rows x 8 columns]"
      ]
     },
     "execution_count": 80,
     "metadata": {},
     "output_type": "execute_result"
    }
   ],
   "source": [
    "pd.DataFrame(x_test)"
   ]
  },
  {
   "cell_type": "code",
   "execution_count": 81,
   "id": "cfed7cd0",
   "metadata": {
    "execution": {
     "iopub.execute_input": "2024-08-16T15:14:07.757010Z",
     "iopub.status.busy": "2024-08-16T15:14:07.756542Z",
     "iopub.status.idle": "2024-08-16T15:14:07.771005Z",
     "shell.execute_reply": "2024-08-16T15:14:07.769662Z"
    },
    "papermill": {
     "duration": 0.41595,
     "end_time": "2024-08-16T15:14:07.773746",
     "exception": false,
     "start_time": "2024-08-16T15:14:07.357796",
     "status": "completed"
    },
    "tags": []
   },
   "outputs": [
    {
     "data": {
      "text/html": [
       "<div>\n",
       "<style scoped>\n",
       "    .dataframe tbody tr th:only-of-type {\n",
       "        vertical-align: middle;\n",
       "    }\n",
       "\n",
       "    .dataframe tbody tr th {\n",
       "        vertical-align: top;\n",
       "    }\n",
       "\n",
       "    .dataframe thead th {\n",
       "        text-align: right;\n",
       "    }\n",
       "</style>\n",
       "<table border=\"1\" class=\"dataframe\">\n",
       "  <thead>\n",
       "    <tr style=\"text-align: right;\">\n",
       "      <th></th>\n",
       "      <th>Corona</th>\n",
       "    </tr>\n",
       "  </thead>\n",
       "  <tbody>\n",
       "    <tr>\n",
       "      <th>33558</th>\n",
       "      <td>0</td>\n",
       "    </tr>\n",
       "    <tr>\n",
       "      <th>100861</th>\n",
       "      <td>0</td>\n",
       "    </tr>\n",
       "    <tr>\n",
       "      <th>61845</th>\n",
       "      <td>0</td>\n",
       "    </tr>\n",
       "    <tr>\n",
       "      <th>79666</th>\n",
       "      <td>2</td>\n",
       "    </tr>\n",
       "    <tr>\n",
       "      <th>35871</th>\n",
       "      <td>0</td>\n",
       "    </tr>\n",
       "    <tr>\n",
       "      <th>...</th>\n",
       "      <td>...</td>\n",
       "    </tr>\n",
       "    <tr>\n",
       "      <th>110268</th>\n",
       "      <td>0</td>\n",
       "    </tr>\n",
       "    <tr>\n",
       "      <th>119879</th>\n",
       "      <td>0</td>\n",
       "    </tr>\n",
       "    <tr>\n",
       "      <th>103694</th>\n",
       "      <td>0</td>\n",
       "    </tr>\n",
       "    <tr>\n",
       "      <th>131932</th>\n",
       "      <td>0</td>\n",
       "    </tr>\n",
       "    <tr>\n",
       "      <th>121958</th>\n",
       "      <td>0</td>\n",
       "    </tr>\n",
       "  </tbody>\n",
       "</table>\n",
       "<p>103629 rows × 1 columns</p>\n",
       "</div>"
      ],
      "text/plain": [
       "        Corona\n",
       "33558        0\n",
       "100861       0\n",
       "61845        0\n",
       "79666        2\n",
       "35871        0\n",
       "...        ...\n",
       "110268       0\n",
       "119879       0\n",
       "103694       0\n",
       "131932       0\n",
       "121958       0\n",
       "\n",
       "[103629 rows x 1 columns]"
      ]
     },
     "execution_count": 81,
     "metadata": {},
     "output_type": "execute_result"
    }
   ],
   "source": [
    "pd.DataFrame(y_train)"
   ]
  },
  {
   "cell_type": "code",
   "execution_count": 82,
   "id": "5873d350",
   "metadata": {
    "execution": {
     "iopub.execute_input": "2024-08-16T15:14:08.557250Z",
     "iopub.status.busy": "2024-08-16T15:14:08.556794Z",
     "iopub.status.idle": "2024-08-16T15:14:08.570703Z",
     "shell.execute_reply": "2024-08-16T15:14:08.569199Z"
    },
    "papermill": {
     "duration": 0.411918,
     "end_time": "2024-08-16T15:14:08.573739",
     "exception": false,
     "start_time": "2024-08-16T15:14:08.161821",
     "status": "completed"
    },
    "tags": []
   },
   "outputs": [
    {
     "data": {
      "text/html": [
       "<div>\n",
       "<style scoped>\n",
       "    .dataframe tbody tr th:only-of-type {\n",
       "        vertical-align: middle;\n",
       "    }\n",
       "\n",
       "    .dataframe tbody tr th {\n",
       "        vertical-align: top;\n",
       "    }\n",
       "\n",
       "    .dataframe thead th {\n",
       "        text-align: right;\n",
       "    }\n",
       "</style>\n",
       "<table border=\"1\" class=\"dataframe\">\n",
       "  <thead>\n",
       "    <tr style=\"text-align: right;\">\n",
       "      <th></th>\n",
       "      <th>Corona</th>\n",
       "    </tr>\n",
       "  </thead>\n",
       "  <tbody>\n",
       "    <tr>\n",
       "      <th>1441</th>\n",
       "      <td>0</td>\n",
       "    </tr>\n",
       "    <tr>\n",
       "      <th>92168</th>\n",
       "      <td>0</td>\n",
       "    </tr>\n",
       "    <tr>\n",
       "      <th>77172</th>\n",
       "      <td>0</td>\n",
       "    </tr>\n",
       "    <tr>\n",
       "      <th>75556</th>\n",
       "      <td>2</td>\n",
       "    </tr>\n",
       "    <tr>\n",
       "      <th>65070</th>\n",
       "      <td>0</td>\n",
       "    </tr>\n",
       "    <tr>\n",
       "      <th>...</th>\n",
       "      <td>...</td>\n",
       "    </tr>\n",
       "    <tr>\n",
       "      <th>110476</th>\n",
       "      <td>0</td>\n",
       "    </tr>\n",
       "    <tr>\n",
       "      <th>87055</th>\n",
       "      <td>0</td>\n",
       "    </tr>\n",
       "    <tr>\n",
       "      <th>130906</th>\n",
       "      <td>0</td>\n",
       "    </tr>\n",
       "    <tr>\n",
       "      <th>122525</th>\n",
       "      <td>0</td>\n",
       "    </tr>\n",
       "    <tr>\n",
       "      <th>120710</th>\n",
       "      <td>2</td>\n",
       "    </tr>\n",
       "  </tbody>\n",
       "</table>\n",
       "<p>34543 rows × 1 columns</p>\n",
       "</div>"
      ],
      "text/plain": [
       "        Corona\n",
       "1441         0\n",
       "92168        0\n",
       "77172        0\n",
       "75556        2\n",
       "65070        0\n",
       "...        ...\n",
       "110476       0\n",
       "87055        0\n",
       "130906       0\n",
       "122525       0\n",
       "120710       2\n",
       "\n",
       "[34543 rows x 1 columns]"
      ]
     },
     "execution_count": 82,
     "metadata": {},
     "output_type": "execute_result"
    }
   ],
   "source": [
    "pd.DataFrame(y_test)"
   ]
  },
  {
   "cell_type": "markdown",
   "id": "41db93db",
   "metadata": {
    "papermill": {
     "duration": 0.395073,
     "end_time": "2024-08-16T15:14:09.358194",
     "exception": false,
     "start_time": "2024-08-16T15:14:08.963121",
     "status": "completed"
    },
    "tags": []
   },
   "source": [
    "Create ANN Model and Evaluation"
   ]
  },
  {
   "cell_type": "code",
   "execution_count": 83,
   "id": "7e7e9b5a",
   "metadata": {
    "execution": {
     "iopub.execute_input": "2024-08-16T15:14:10.254739Z",
     "iopub.status.busy": "2024-08-16T15:14:10.254220Z",
     "iopub.status.idle": "2024-08-16T15:15:05.578257Z",
     "shell.execute_reply": "2024-08-16T15:15:05.576299Z"
    },
    "papermill": {
     "duration": 55.723682,
     "end_time": "2024-08-16T15:15:05.581457",
     "exception": false,
     "start_time": "2024-08-16T15:14:09.857775",
     "status": "completed"
    },
    "tags": []
   },
   "outputs": [
    {
     "name": "stdout",
     "output_type": "stream",
     "text": [
      "Epoch 1/30\n",
      "\u001b[1m346/346\u001b[0m \u001b[32m━━━━━━━━━━━━━━━━━━━━\u001b[0m\u001b[37m\u001b[0m \u001b[1m4s\u001b[0m 5ms/step - accuracy: 0.9077 - loss: 0.3620 - val_accuracy: 0.9357 - val_loss: 0.2217\n",
      "Epoch 2/30\n",
      "\u001b[1m346/346\u001b[0m \u001b[32m━━━━━━━━━━━━━━━━━━━━\u001b[0m\u001b[37m\u001b[0m \u001b[1m2s\u001b[0m 4ms/step - accuracy: 0.9341 - loss: 0.2265 - val_accuracy: 0.9418 - val_loss: 0.2096\n",
      "Epoch 3/30\n",
      "\u001b[1m346/346\u001b[0m \u001b[32m━━━━━━━━━━━━━━━━━━━━\u001b[0m\u001b[37m\u001b[0m \u001b[1m2s\u001b[0m 5ms/step - accuracy: 0.9413 - loss: 0.2145 - val_accuracy: 0.9449 - val_loss: 0.2057\n",
      "Epoch 4/30\n",
      "\u001b[1m346/346\u001b[0m \u001b[32m━━━━━━━━━━━━━━━━━━━━\u001b[0m\u001b[37m\u001b[0m \u001b[1m2s\u001b[0m 5ms/step - accuracy: 0.9425 - loss: 0.2084 - val_accuracy: 0.9455 - val_loss: 0.2050\n",
      "Epoch 5/30\n",
      "\u001b[1m346/346\u001b[0m \u001b[32m━━━━━━━━━━━━━━━━━━━━\u001b[0m\u001b[37m\u001b[0m \u001b[1m2s\u001b[0m 5ms/step - accuracy: 0.9433 - loss: 0.2097 - val_accuracy: 0.9454 - val_loss: 0.2050\n",
      "Epoch 6/30\n",
      "\u001b[1m346/346\u001b[0m \u001b[32m━━━━━━━━━━━━━━━━━━━━\u001b[0m\u001b[37m\u001b[0m \u001b[1m2s\u001b[0m 5ms/step - accuracy: 0.9432 - loss: 0.2085 - val_accuracy: 0.9454 - val_loss: 0.2047\n",
      "Epoch 7/30\n",
      "\u001b[1m346/346\u001b[0m \u001b[32m━━━━━━━━━━━━━━━━━━━━\u001b[0m\u001b[37m\u001b[0m \u001b[1m2s\u001b[0m 5ms/step - accuracy: 0.9439 - loss: 0.2092 - val_accuracy: 0.9454 - val_loss: 0.2058\n",
      "Epoch 8/30\n",
      "\u001b[1m346/346\u001b[0m \u001b[32m━━━━━━━━━━━━━━━━━━━━\u001b[0m\u001b[37m\u001b[0m \u001b[1m2s\u001b[0m 5ms/step - accuracy: 0.9441 - loss: 0.2072 - val_accuracy: 0.9454 - val_loss: 0.2048\n",
      "Epoch 9/30\n",
      "\u001b[1m346/346\u001b[0m \u001b[32m━━━━━━━━━━━━━━━━━━━━\u001b[0m\u001b[37m\u001b[0m \u001b[1m2s\u001b[0m 5ms/step - accuracy: 0.9435 - loss: 0.2078 - val_accuracy: 0.9454 - val_loss: 0.2049\n",
      "Epoch 10/30\n",
      "\u001b[1m346/346\u001b[0m \u001b[32m━━━━━━━━━━━━━━━━━━━━\u001b[0m\u001b[37m\u001b[0m \u001b[1m2s\u001b[0m 5ms/step - accuracy: 0.9434 - loss: 0.2088 - val_accuracy: 0.9457 - val_loss: 0.2046\n",
      "Epoch 11/30\n",
      "\u001b[1m346/346\u001b[0m \u001b[32m━━━━━━━━━━━━━━━━━━━━\u001b[0m\u001b[37m\u001b[0m \u001b[1m2s\u001b[0m 5ms/step - accuracy: 0.9443 - loss: 0.2057 - val_accuracy: 0.9457 - val_loss: 0.2043\n",
      "Epoch 12/30\n",
      "\u001b[1m346/346\u001b[0m \u001b[32m━━━━━━━━━━━━━━━━━━━━\u001b[0m\u001b[37m\u001b[0m \u001b[1m2s\u001b[0m 5ms/step - accuracy: 0.9444 - loss: 0.2048 - val_accuracy: 0.9455 - val_loss: 0.2045\n",
      "Epoch 13/30\n",
      "\u001b[1m346/346\u001b[0m \u001b[32m━━━━━━━━━━━━━━━━━━━━\u001b[0m\u001b[37m\u001b[0m \u001b[1m2s\u001b[0m 5ms/step - accuracy: 0.9439 - loss: 0.2081 - val_accuracy: 0.9456 - val_loss: 0.2046\n",
      "Epoch 14/30\n",
      "\u001b[1m346/346\u001b[0m \u001b[32m━━━━━━━━━━━━━━━━━━━━\u001b[0m\u001b[37m\u001b[0m \u001b[1m2s\u001b[0m 5ms/step - accuracy: 0.9446 - loss: 0.2082 - val_accuracy: 0.9456 - val_loss: 0.2043\n",
      "Epoch 15/30\n",
      "\u001b[1m346/346\u001b[0m \u001b[32m━━━━━━━━━━━━━━━━━━━━\u001b[0m\u001b[37m\u001b[0m \u001b[1m2s\u001b[0m 5ms/step - accuracy: 0.9434 - loss: 0.2103 - val_accuracy: 0.9457 - val_loss: 0.2041\n",
      "Epoch 16/30\n",
      "\u001b[1m346/346\u001b[0m \u001b[32m━━━━━━━━━━━━━━━━━━━━\u001b[0m\u001b[37m\u001b[0m \u001b[1m2s\u001b[0m 5ms/step - accuracy: 0.9437 - loss: 0.2092 - val_accuracy: 0.9457 - val_loss: 0.2044\n",
      "Epoch 17/30\n",
      "\u001b[1m346/346\u001b[0m \u001b[32m━━━━━━━━━━━━━━━━━━━━\u001b[0m\u001b[37m\u001b[0m \u001b[1m2s\u001b[0m 4ms/step - accuracy: 0.9441 - loss: 0.2071 - val_accuracy: 0.9456 - val_loss: 0.2041\n",
      "Epoch 18/30\n",
      "\u001b[1m346/346\u001b[0m \u001b[32m━━━━━━━━━━━━━━━━━━━━\u001b[0m\u001b[37m\u001b[0m \u001b[1m2s\u001b[0m 4ms/step - accuracy: 0.9444 - loss: 0.2090 - val_accuracy: 0.9457 - val_loss: 0.2045\n",
      "Epoch 19/30\n",
      "\u001b[1m346/346\u001b[0m \u001b[32m━━━━━━━━━━━━━━━━━━━━\u001b[0m\u001b[37m\u001b[0m \u001b[1m2s\u001b[0m 4ms/step - accuracy: 0.9458 - loss: 0.2042 - val_accuracy: 0.9456 - val_loss: 0.2043\n",
      "Epoch 20/30\n",
      "\u001b[1m346/346\u001b[0m \u001b[32m━━━━━━━━━━━━━━━━━━━━\u001b[0m\u001b[37m\u001b[0m \u001b[1m2s\u001b[0m 4ms/step - accuracy: 0.9444 - loss: 0.2057 - val_accuracy: 0.9457 - val_loss: 0.2046\n",
      "Epoch 21/30\n",
      "\u001b[1m346/346\u001b[0m \u001b[32m━━━━━━━━━━━━━━━━━━━━\u001b[0m\u001b[37m\u001b[0m \u001b[1m2s\u001b[0m 5ms/step - accuracy: 0.9436 - loss: 0.2088 - val_accuracy: 0.9457 - val_loss: 0.2044\n",
      "Epoch 22/30\n",
      "\u001b[1m346/346\u001b[0m \u001b[32m━━━━━━━━━━━━━━━━━━━━\u001b[0m\u001b[37m\u001b[0m \u001b[1m2s\u001b[0m 4ms/step - accuracy: 0.9426 - loss: 0.2106 - val_accuracy: 0.9455 - val_loss: 0.2046\n",
      "Epoch 23/30\n",
      "\u001b[1m346/346\u001b[0m \u001b[32m━━━━━━━━━━━━━━━━━━━━\u001b[0m\u001b[37m\u001b[0m \u001b[1m2s\u001b[0m 4ms/step - accuracy: 0.9457 - loss: 0.2058 - val_accuracy: 0.9457 - val_loss: 0.2043\n",
      "Epoch 24/30\n",
      "\u001b[1m346/346\u001b[0m \u001b[32m━━━━━━━━━━━━━━━━━━━━\u001b[0m\u001b[37m\u001b[0m \u001b[1m2s\u001b[0m 5ms/step - accuracy: 0.9444 - loss: 0.2072 - val_accuracy: 0.9456 - val_loss: 0.2043\n",
      "Epoch 25/30\n",
      "\u001b[1m346/346\u001b[0m \u001b[32m━━━━━━━━━━━━━━━━━━━━\u001b[0m\u001b[37m\u001b[0m \u001b[1m2s\u001b[0m 5ms/step - accuracy: 0.9436 - loss: 0.2081 - val_accuracy: 0.9457 - val_loss: 0.2042\n",
      "Epoch 26/30\n",
      "\u001b[1m346/346\u001b[0m \u001b[32m━━━━━━━━━━━━━━━━━━━━\u001b[0m\u001b[37m\u001b[0m \u001b[1m3s\u001b[0m 5ms/step - accuracy: 0.9450 - loss: 0.2045 - val_accuracy: 0.9457 - val_loss: 0.2048\n",
      "Epoch 27/30\n",
      "\u001b[1m346/346\u001b[0m \u001b[32m━━━━━━━━━━━━━━━━━━━━\u001b[0m\u001b[37m\u001b[0m \u001b[1m2s\u001b[0m 5ms/step - accuracy: 0.9451 - loss: 0.2065 - val_accuracy: 0.9456 - val_loss: 0.2042\n",
      "Epoch 28/30\n",
      "\u001b[1m346/346\u001b[0m \u001b[32m━━━━━━━━━━━━━━━━━━━━\u001b[0m\u001b[37m\u001b[0m \u001b[1m2s\u001b[0m 5ms/step - accuracy: 0.9455 - loss: 0.2044 - val_accuracy: 0.9457 - val_loss: 0.2043\n",
      "Epoch 29/30\n",
      "\u001b[1m346/346\u001b[0m \u001b[32m━━━━━━━━━━━━━━━━━━━━\u001b[0m\u001b[37m\u001b[0m \u001b[1m2s\u001b[0m 5ms/step - accuracy: 0.9451 - loss: 0.2055 - val_accuracy: 0.9457 - val_loss: 0.2045\n",
      "Epoch 30/30\n",
      "\u001b[1m346/346\u001b[0m \u001b[32m━━━━━━━━━━━━━━━━━━━━\u001b[0m\u001b[37m\u001b[0m \u001b[1m2s\u001b[0m 5ms/step - accuracy: 0.9446 - loss: 0.2063 - val_accuracy: 0.9456 - val_loss: 0.2040\n",
      "\u001b[1m1080/1080\u001b[0m \u001b[32m━━━━━━━━━━━━━━━━━━━━\u001b[0m\u001b[37m\u001b[0m \u001b[1m2s\u001b[0m 2ms/step - accuracy: 0.9473 - loss: 0.1985\n",
      "Test Accuracy:  0.9456040263175964\n"
     ]
    }
   ],
   "source": [
    "model = Sequential()\n",
    "model.add(Dense(8,input_dim=8, activation=\"relu\"))\n",
    "model.add(Dense(64,activation=\"relu\"))\n",
    "model.add(Dropout(0.2))\n",
    "model.add(Dense(32,activation=\"sigmoid\"))\n",
    "model.add(Dropout(0.3))\n",
    "model.add(Dense(16,activation=\"tanh\"))\n",
    "model.add(Dense(8,activation=\"tanh\"))\n",
    "model.add(Dense(3,activation=\"softmax\"))\n",
    "\n",
    "model.compile(loss=\"sparse_categorical_crossentropy\", optimizer=\"adam\", metrics=[\"accuracy\"])\n",
    "\n",
    "history1 = model.fit(x_train,y_train,epochs=30,batch_size=300,shuffle=True,verbose=1,validation_data=(x_test,y_test))\n",
    "\n",
    "loss, accuracy = model.evaluate(x_test,y_test)\n",
    "print(\"Test Accuracy: \", accuracy)"
   ]
  },
  {
   "cell_type": "code",
   "execution_count": 84,
   "id": "879718ae",
   "metadata": {
    "execution": {
     "iopub.execute_input": "2024-08-16T15:15:06.585554Z",
     "iopub.status.busy": "2024-08-16T15:15:06.584984Z",
     "iopub.status.idle": "2024-08-16T15:15:07.064993Z",
     "shell.execute_reply": "2024-08-16T15:15:07.063708Z"
    },
    "papermill": {
     "duration": 0.996919,
     "end_time": "2024-08-16T15:15:07.068380",
     "exception": false,
     "start_time": "2024-08-16T15:15:06.071461",
     "status": "completed"
    },
    "tags": []
   },
   "outputs": [
    {
     "data": {
      "image/png": "[encoded data removed]",
      "text/plain": [
       "<Figure size 1200x600 with 1 Axes>"
      ]
     },
     "metadata": {},
     "output_type": "display_data"
    }
   ],
   "source": [
    "#Accuracy curve\n",
    "plt.figure(figsize=(12, 6))\n",
    "\n",
    "plt.plot(history1.history['accuracy'], label='Train Accuracy')\n",
    "plt.plot(history1.history['val_accuracy'], label='Validation Accuracy')\n",
    "plt.title('Model Accuracy')\n",
    "plt.ylabel('Accuracy')\n",
    "plt.xlabel('Epoch')\n",
    "plt.legend(loc='upper left')\n",
    "\n",
    "plt.show()\n"
   ]
  },
  {
   "cell_type": "code",
   "execution_count": 85,
   "id": "fed9ef76",
   "metadata": {
    "execution": {
     "iopub.execute_input": "2024-08-16T15:15:08.151641Z",
     "iopub.status.busy": "2024-08-16T15:15:08.149836Z",
     "iopub.status.idle": "2024-08-16T15:15:08.580719Z",
     "shell.execute_reply": "2024-08-16T15:15:08.578982Z"
    },
    "papermill": {
     "duration": 1.022704,
     "end_time": "2024-08-16T15:15:08.583793",
     "exception": false,
     "start_time": "2024-08-16T15:15:07.561089",
     "status": "completed"
    },
    "tags": []
   },
   "outputs": [
    {
     "data": {
      "image/png": "[encoded data removed]",
      "text/plain": [
       "<Figure size 640x480 with 1 Axes>"
      ]
     },
     "metadata": {},
     "output_type": "display_data"
    }
   ],
   "source": [
    "# Loss curve\n",
    "\n",
    "plt.plot(history1.history['loss'], label='Train Loss')\n",
    "plt.plot(history1.history['val_loss'], label='Validation Loss')\n",
    "plt.title('Model Loss')\n",
    "plt.ylabel('Loss')\n",
    "plt.xlabel('Epoch')\n",
    "plt.legend(loc='upper right')\n",
    "plt.show()"
   ]
  },
  {
   "cell_type": "markdown",
   "id": "b965ffc4",
   "metadata": {
    "papermill": {
     "duration": 0.481585,
     "end_time": "2024-08-16T15:15:09.548325",
     "exception": false,
     "start_time": "2024-08-16T15:15:09.066740",
     "status": "completed"
    },
    "tags": []
   },
   "source": [
    "THANK YOU"
   ]
  }
 ],
 "metadata": {
  "kaggle": {
   "accelerator": "none",
   "dataSources": [
    {
     "datasetId": 5465317,
     "sourceId": 9062638,
     "sourceType": "datasetVersion"
    }
   ],
   "dockerImageVersionId": 30746,
   "isGpuEnabled": false,
   "isInternetEnabled": true,
   "language": "python",
   "sourceType": "notebook"
  },
  "kernelspec": {
   "display_name": "Python 3",
   "language": "python",
   "name": "python3"
  },
  "language_info": {
   "codemirror_mode": {
    "name": "ipython",
    "version": 3
   },
   "file_extension": ".py",
   "mimetype": "text/x-python",
   "name": "python",
   "nbconvert_exporter": "python",
   "pygments_lexer": "ipython3",
   "version": "3.10.13"
  },
  "papermill": {
   "default_parameters": {},
   "duration": 333.43865,
   "end_time": "2024-08-16T15:15:13.165215",
   "environment_variables": {},
   "exception": null,
   "input_path": "__notebook__.ipynb",
   "output_path": "__notebook__.ipynb",
   "parameters": {},
   "start_time": "2024-08-16T15:09:39.726565",
   "version": "2.5.0"
  }
 },
 "nbformat": 4,
 "nbformat_minor": 5
}
