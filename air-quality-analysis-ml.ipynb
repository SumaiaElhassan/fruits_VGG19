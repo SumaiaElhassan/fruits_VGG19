{
 "cells": [
  {
   "cell_type": "code",
   "execution_count": 1,
   "id": "dc92c05c",
   "metadata": {
    "_cell_guid": "b1076dfc-b9ad-4769-8c92-a6c4dae69d19",
    "_uuid": "8f2839f25d086af736a60e9eeb907d3b93b6e0e5",
    "execution": {
     "iopub.execute_input": "2024-09-26T15:47:49.848191Z",
     "iopub.status.busy": "2024-09-26T15:47:49.847771Z",
     "iopub.status.idle": "2024-09-26T15:47:50.741664Z",
     "shell.execute_reply": "2024-09-26T15:47:50.740399Z"
    },
    "papermill": {
     "duration": 0.910397,
     "end_time": "2024-09-26T15:47:50.744331",
     "exception": false,
     "start_time": "2024-09-26T15:47:49.833934",
     "status": "completed"
    },
    "tags": []
   },
   "outputs": [
    {
     "name": "stdout",
     "output_type": "stream",
     "text": [
      "/kaggle/input/air-quality-data-in-india/air-quality-india.csv\n"
     ]
    }
   ],
   "source": [
    "# This Python 3 environment comes with many helpful analytics libraries installed\n",
    "# It is defined by the kaggle/python Docker image: https://github.com/kaggle/docker-python\n",
    "# For example, here's several helpful packages to load\n",
    "\n",
    "import numpy as np # linear algebra\n",
    "import pandas as pd # data processing, CSV file I/O (e.g. pd.read_csv)\n",
    "\n",
    "# Input data files are available in the read-only \"../input/\" directory\n",
    "# For example, running this (by clicking run or pressing Shift+Enter) will list all files under the input directory\n",
    "\n",
    "import os\n",
    "for dirname, _, filenames in os.walk('/kaggle/input'):\n",
    "    for filename in filenames:\n",
    "        print(os.path.join(dirname, filename))\n",
    "\n",
    "# You can write up to 20GB to the current directory (/kaggle/working/) that gets preserved as output when you create a version using \"Save & Run All\" \n",
    "# You can also write temporary files to /kaggle/temp/, but they won't be saved outside of the current session"
   ]
  },
  {
   "cell_type": "markdown",
   "id": "a116c2d3",
   "metadata": {
    "papermill": {
     "duration": 0.014217,
     "end_time": "2024-09-26T15:47:50.770847",
     "exception": false,
     "start_time": "2024-09-26T15:47:50.756630",
     "status": "completed"
    },
    "tags": []
   },
   "source": [
    "**Importing Libraries**"
   ]
  },
  {
   "cell_type": "code",
   "execution_count": 2,
   "id": "c258566f",
   "metadata": {
    "execution": {
     "iopub.execute_input": "2024-09-26T15:47:50.797465Z",
     "iopub.status.busy": "2024-09-26T15:47:50.796910Z",
     "iopub.status.idle": "2024-09-26T15:47:53.098413Z",
     "shell.execute_reply": "2024-09-26T15:47:53.097245Z"
    },
    "papermill": {
     "duration": 2.317955,
     "end_time": "2024-09-26T15:47:53.101146",
     "exception": false,
     "start_time": "2024-09-26T15:47:50.783191",
     "status": "completed"
    },
    "tags": []
   },
   "outputs": [],
   "source": [
    "import numpy as np\n",
    "import pandas as pd\n",
    "import matplotlib.pyplot as plt\n",
    "import seaborn as sns\n",
    "import plotly.express as px\n",
    "%matplotlib inline\n",
    "sns.set()"
   ]
  },
  {
   "cell_type": "markdown",
   "id": "d350a9ac",
   "metadata": {
    "papermill": {
     "duration": 0.01163,
     "end_time": "2024-09-26T15:47:53.124830",
     "exception": false,
     "start_time": "2024-09-26T15:47:53.113200",
     "status": "completed"
    },
    "tags": []
   },
   "source": [
    "**Import Data and Analysis**"
   ]
  },
  {
   "cell_type": "code",
   "execution_count": 3,
   "id": "f82f4012",
   "metadata": {
    "execution": {
     "iopub.execute_input": "2024-09-26T15:47:53.150355Z",
     "iopub.status.busy": "2024-09-26T15:47:53.149611Z",
     "iopub.status.idle": "2024-09-26T15:47:53.249377Z",
     "shell.execute_reply": "2024-09-26T15:47:53.248243Z"
    },
    "papermill": {
     "duration": 0.115363,
     "end_time": "2024-09-26T15:47:53.251939",
     "exception": false,
     "start_time": "2024-09-26T15:47:53.136576",
     "status": "completed"
    },
    "tags": []
   },
   "outputs": [
    {
     "data": {
      "text/html": [
       "<div>\n",
       "<style scoped>\n",
       "    .dataframe tbody tr th:only-of-type {\n",
       "        vertical-align: middle;\n",
       "    }\n",
       "\n",
       "    .dataframe tbody tr th {\n",
       "        vertical-align: top;\n",
       "    }\n",
       "\n",
       "    .dataframe thead th {\n",
       "        text-align: right;\n",
       "    }\n",
       "</style>\n",
       "<table border=\"1\" class=\"dataframe\">\n",
       "  <thead>\n",
       "    <tr style=\"text-align: right;\">\n",
       "      <th></th>\n",
       "      <th>Timestamp</th>\n",
       "      <th>Year</th>\n",
       "      <th>Month</th>\n",
       "      <th>Day</th>\n",
       "      <th>Hour</th>\n",
       "      <th>PM2.5</th>\n",
       "    </tr>\n",
       "  </thead>\n",
       "  <tbody>\n",
       "    <tr>\n",
       "      <th>0</th>\n",
       "      <td>2017-11-07 12:00:00</td>\n",
       "      <td>2017</td>\n",
       "      <td>11</td>\n",
       "      <td>7</td>\n",
       "      <td>12</td>\n",
       "      <td>64.51</td>\n",
       "    </tr>\n",
       "    <tr>\n",
       "      <th>1</th>\n",
       "      <td>2017-11-07 13:00:00</td>\n",
       "      <td>2017</td>\n",
       "      <td>11</td>\n",
       "      <td>7</td>\n",
       "      <td>13</td>\n",
       "      <td>69.95</td>\n",
       "    </tr>\n",
       "    <tr>\n",
       "      <th>2</th>\n",
       "      <td>2017-11-07 14:00:00</td>\n",
       "      <td>2017</td>\n",
       "      <td>11</td>\n",
       "      <td>7</td>\n",
       "      <td>14</td>\n",
       "      <td>92.79</td>\n",
       "    </tr>\n",
       "    <tr>\n",
       "      <th>3</th>\n",
       "      <td>2017-11-07 15:00:00</td>\n",
       "      <td>2017</td>\n",
       "      <td>11</td>\n",
       "      <td>7</td>\n",
       "      <td>15</td>\n",
       "      <td>109.66</td>\n",
       "    </tr>\n",
       "    <tr>\n",
       "      <th>4</th>\n",
       "      <td>2017-11-07 16:00:00</td>\n",
       "      <td>2017</td>\n",
       "      <td>11</td>\n",
       "      <td>7</td>\n",
       "      <td>16</td>\n",
       "      <td>116.50</td>\n",
       "    </tr>\n",
       "    <tr>\n",
       "      <th>...</th>\n",
       "      <td>...</td>\n",
       "      <td>...</td>\n",
       "      <td>...</td>\n",
       "      <td>...</td>\n",
       "      <td>...</td>\n",
       "      <td>...</td>\n",
       "    </tr>\n",
       "    <tr>\n",
       "      <th>36187</th>\n",
       "      <td>2022-06-04 11:00:00</td>\n",
       "      <td>2022</td>\n",
       "      <td>6</td>\n",
       "      <td>4</td>\n",
       "      <td>11</td>\n",
       "      <td>35.89</td>\n",
       "    </tr>\n",
       "    <tr>\n",
       "      <th>36188</th>\n",
       "      <td>2022-06-04 12:00:00</td>\n",
       "      <td>2022</td>\n",
       "      <td>6</td>\n",
       "      <td>4</td>\n",
       "      <td>12</td>\n",
       "      <td>33.83</td>\n",
       "    </tr>\n",
       "    <tr>\n",
       "      <th>36189</th>\n",
       "      <td>2022-06-04 13:00:00</td>\n",
       "      <td>2022</td>\n",
       "      <td>6</td>\n",
       "      <td>4</td>\n",
       "      <td>13</td>\n",
       "      <td>33.05</td>\n",
       "    </tr>\n",
       "    <tr>\n",
       "      <th>36190</th>\n",
       "      <td>2022-06-04 14:00:00</td>\n",
       "      <td>2022</td>\n",
       "      <td>6</td>\n",
       "      <td>4</td>\n",
       "      <td>14</td>\n",
       "      <td>35.29</td>\n",
       "    </tr>\n",
       "    <tr>\n",
       "      <th>36191</th>\n",
       "      <td>2022-06-04 15:00:00</td>\n",
       "      <td>2022</td>\n",
       "      <td>6</td>\n",
       "      <td>4</td>\n",
       "      <td>15</td>\n",
       "      <td>40.67</td>\n",
       "    </tr>\n",
       "  </tbody>\n",
       "</table>\n",
       "<p>36192 rows × 6 columns</p>\n",
       "</div>"
      ],
      "text/plain": [
       "                 Timestamp  Year  Month  Day  Hour   PM2.5\n",
       "0      2017-11-07 12:00:00  2017     11    7    12   64.51\n",
       "1      2017-11-07 13:00:00  2017     11    7    13   69.95\n",
       "2      2017-11-07 14:00:00  2017     11    7    14   92.79\n",
       "3      2017-11-07 15:00:00  2017     11    7    15  109.66\n",
       "4      2017-11-07 16:00:00  2017     11    7    16  116.50\n",
       "...                    ...   ...    ...  ...   ...     ...\n",
       "36187  2022-06-04 11:00:00  2022      6    4    11   35.89\n",
       "36188  2022-06-04 12:00:00  2022      6    4    12   33.83\n",
       "36189  2022-06-04 13:00:00  2022      6    4    13   33.05\n",
       "36190  2022-06-04 14:00:00  2022      6    4    14   35.29\n",
       "36191  2022-06-04 15:00:00  2022      6    4    15   40.67\n",
       "\n",
       "[36192 rows x 6 columns]"
      ]
     },
     "execution_count": 3,
     "metadata": {},
     "output_type": "execute_result"
    }
   ],
   "source": [
    "df=pd.read_csv(\"/kaggle/input/air-quality-data-in-india/air-quality-india.csv\")\n",
    "df"
   ]
  },
  {
   "cell_type": "code",
   "execution_count": 4,
   "id": "1717c226",
   "metadata": {
    "execution": {
     "iopub.execute_input": "2024-09-26T15:47:53.278514Z",
     "iopub.status.busy": "2024-09-26T15:47:53.278074Z",
     "iopub.status.idle": "2024-09-26T15:47:53.292794Z",
     "shell.execute_reply": "2024-09-26T15:47:53.291321Z"
    },
    "papermill": {
     "duration": 0.03086,
     "end_time": "2024-09-26T15:47:53.295192",
     "exception": false,
     "start_time": "2024-09-26T15:47:53.264332",
     "status": "completed"
    },
    "tags": []
   },
   "outputs": [
    {
     "data": {
      "text/html": [
       "<div>\n",
       "<style scoped>\n",
       "    .dataframe tbody tr th:only-of-type {\n",
       "        vertical-align: middle;\n",
       "    }\n",
       "\n",
       "    .dataframe tbody tr th {\n",
       "        vertical-align: top;\n",
       "    }\n",
       "\n",
       "    .dataframe thead th {\n",
       "        text-align: right;\n",
       "    }\n",
       "</style>\n",
       "<table border=\"1\" class=\"dataframe\">\n",
       "  <thead>\n",
       "    <tr style=\"text-align: right;\">\n",
       "      <th></th>\n",
       "      <th>Timestamp</th>\n",
       "      <th>Year</th>\n",
       "      <th>Month</th>\n",
       "      <th>Day</th>\n",
       "      <th>Hour</th>\n",
       "      <th>PM2.5</th>\n",
       "    </tr>\n",
       "  </thead>\n",
       "  <tbody>\n",
       "    <tr>\n",
       "      <th>0</th>\n",
       "      <td>2017-11-07 12:00:00</td>\n",
       "      <td>2017</td>\n",
       "      <td>11</td>\n",
       "      <td>7</td>\n",
       "      <td>12</td>\n",
       "      <td>64.51</td>\n",
       "    </tr>\n",
       "    <tr>\n",
       "      <th>1</th>\n",
       "      <td>2017-11-07 13:00:00</td>\n",
       "      <td>2017</td>\n",
       "      <td>11</td>\n",
       "      <td>7</td>\n",
       "      <td>13</td>\n",
       "      <td>69.95</td>\n",
       "    </tr>\n",
       "    <tr>\n",
       "      <th>2</th>\n",
       "      <td>2017-11-07 14:00:00</td>\n",
       "      <td>2017</td>\n",
       "      <td>11</td>\n",
       "      <td>7</td>\n",
       "      <td>14</td>\n",
       "      <td>92.79</td>\n",
       "    </tr>\n",
       "    <tr>\n",
       "      <th>3</th>\n",
       "      <td>2017-11-07 15:00:00</td>\n",
       "      <td>2017</td>\n",
       "      <td>11</td>\n",
       "      <td>7</td>\n",
       "      <td>15</td>\n",
       "      <td>109.66</td>\n",
       "    </tr>\n",
       "    <tr>\n",
       "      <th>4</th>\n",
       "      <td>2017-11-07 16:00:00</td>\n",
       "      <td>2017</td>\n",
       "      <td>11</td>\n",
       "      <td>7</td>\n",
       "      <td>16</td>\n",
       "      <td>116.50</td>\n",
       "    </tr>\n",
       "  </tbody>\n",
       "</table>\n",
       "</div>"
      ],
      "text/plain": [
       "             Timestamp  Year  Month  Day  Hour   PM2.5\n",
       "0  2017-11-07 12:00:00  2017     11    7    12   64.51\n",
       "1  2017-11-07 13:00:00  2017     11    7    13   69.95\n",
       "2  2017-11-07 14:00:00  2017     11    7    14   92.79\n",
       "3  2017-11-07 15:00:00  2017     11    7    15  109.66\n",
       "4  2017-11-07 16:00:00  2017     11    7    16  116.50"
      ]
     },
     "execution_count": 4,
     "metadata": {},
     "output_type": "execute_result"
    }
   ],
   "source": [
    "df.head()"
   ]
  },
  {
   "cell_type": "code",
   "execution_count": 5,
   "id": "acc5d305",
   "metadata": {
    "execution": {
     "iopub.execute_input": "2024-09-26T15:47:53.322792Z",
     "iopub.status.busy": "2024-09-26T15:47:53.322357Z",
     "iopub.status.idle": "2024-09-26T15:47:53.335013Z",
     "shell.execute_reply": "2024-09-26T15:47:53.333892Z"
    },
    "papermill": {
     "duration": 0.028909,
     "end_time": "2024-09-26T15:47:53.337281",
     "exception": false,
     "start_time": "2024-09-26T15:47:53.308372",
     "status": "completed"
    },
    "tags": []
   },
   "outputs": [
    {
     "data": {
      "text/html": [
       "<div>\n",
       "<style scoped>\n",
       "    .dataframe tbody tr th:only-of-type {\n",
       "        vertical-align: middle;\n",
       "    }\n",
       "\n",
       "    .dataframe tbody tr th {\n",
       "        vertical-align: top;\n",
       "    }\n",
       "\n",
       "    .dataframe thead th {\n",
       "        text-align: right;\n",
       "    }\n",
       "</style>\n",
       "<table border=\"1\" class=\"dataframe\">\n",
       "  <thead>\n",
       "    <tr style=\"text-align: right;\">\n",
       "      <th></th>\n",
       "      <th>Timestamp</th>\n",
       "      <th>Year</th>\n",
       "      <th>Month</th>\n",
       "      <th>Day</th>\n",
       "      <th>Hour</th>\n",
       "      <th>PM2.5</th>\n",
       "    </tr>\n",
       "  </thead>\n",
       "  <tbody>\n",
       "    <tr>\n",
       "      <th>36187</th>\n",
       "      <td>2022-06-04 11:00:00</td>\n",
       "      <td>2022</td>\n",
       "      <td>6</td>\n",
       "      <td>4</td>\n",
       "      <td>11</td>\n",
       "      <td>35.89</td>\n",
       "    </tr>\n",
       "    <tr>\n",
       "      <th>36188</th>\n",
       "      <td>2022-06-04 12:00:00</td>\n",
       "      <td>2022</td>\n",
       "      <td>6</td>\n",
       "      <td>4</td>\n",
       "      <td>12</td>\n",
       "      <td>33.83</td>\n",
       "    </tr>\n",
       "    <tr>\n",
       "      <th>36189</th>\n",
       "      <td>2022-06-04 13:00:00</td>\n",
       "      <td>2022</td>\n",
       "      <td>6</td>\n",
       "      <td>4</td>\n",
       "      <td>13</td>\n",
       "      <td>33.05</td>\n",
       "    </tr>\n",
       "    <tr>\n",
       "      <th>36190</th>\n",
       "      <td>2022-06-04 14:00:00</td>\n",
       "      <td>2022</td>\n",
       "      <td>6</td>\n",
       "      <td>4</td>\n",
       "      <td>14</td>\n",
       "      <td>35.29</td>\n",
       "    </tr>\n",
       "    <tr>\n",
       "      <th>36191</th>\n",
       "      <td>2022-06-04 15:00:00</td>\n",
       "      <td>2022</td>\n",
       "      <td>6</td>\n",
       "      <td>4</td>\n",
       "      <td>15</td>\n",
       "      <td>40.67</td>\n",
       "    </tr>\n",
       "  </tbody>\n",
       "</table>\n",
       "</div>"
      ],
      "text/plain": [
       "                 Timestamp  Year  Month  Day  Hour  PM2.5\n",
       "36187  2022-06-04 11:00:00  2022      6    4    11  35.89\n",
       "36188  2022-06-04 12:00:00  2022      6    4    12  33.83\n",
       "36189  2022-06-04 13:00:00  2022      6    4    13  33.05\n",
       "36190  2022-06-04 14:00:00  2022      6    4    14  35.29\n",
       "36191  2022-06-04 15:00:00  2022      6    4    15  40.67"
      ]
     },
     "execution_count": 5,
     "metadata": {},
     "output_type": "execute_result"
    }
   ],
   "source": [
    "df.tail()"
   ]
  },
  {
   "cell_type": "code",
   "execution_count": 6,
   "id": "837de4d1",
   "metadata": {
    "execution": {
     "iopub.execute_input": "2024-09-26T15:47:53.364851Z",
     "iopub.status.busy": "2024-09-26T15:47:53.364453Z",
     "iopub.status.idle": "2024-09-26T15:47:53.371509Z",
     "shell.execute_reply": "2024-09-26T15:47:53.370206Z"
    },
    "papermill": {
     "duration": 0.023671,
     "end_time": "2024-09-26T15:47:53.373761",
     "exception": false,
     "start_time": "2024-09-26T15:47:53.350090",
     "status": "completed"
    },
    "tags": []
   },
   "outputs": [
    {
     "data": {
      "text/plain": [
       "(36192, 6)"
      ]
     },
     "execution_count": 6,
     "metadata": {},
     "output_type": "execute_result"
    }
   ],
   "source": [
    "df.shape"
   ]
  },
  {
   "cell_type": "code",
   "execution_count": 7,
   "id": "1c38fdfa",
   "metadata": {
    "execution": {
     "iopub.execute_input": "2024-09-26T15:47:53.401950Z",
     "iopub.status.busy": "2024-09-26T15:47:53.401542Z",
     "iopub.status.idle": "2024-09-26T15:47:53.428226Z",
     "shell.execute_reply": "2024-09-26T15:47:53.426996Z"
    },
    "papermill": {
     "duration": 0.043712,
     "end_time": "2024-09-26T15:47:53.430860",
     "exception": false,
     "start_time": "2024-09-26T15:47:53.387148",
     "status": "completed"
    },
    "tags": []
   },
   "outputs": [
    {
     "name": "stdout",
     "output_type": "stream",
     "text": [
      "<class 'pandas.core.frame.DataFrame'>\n",
      "RangeIndex: 36192 entries, 0 to 36191\n",
      "Data columns (total 6 columns):\n",
      " #   Column     Non-Null Count  Dtype  \n",
      "---  ------     --------------  -----  \n",
      " 0   Timestamp  36192 non-null  object \n",
      " 1   Year       36192 non-null  int64  \n",
      " 2   Month      36192 non-null  int64  \n",
      " 3   Day        36192 non-null  int64  \n",
      " 4   Hour       36192 non-null  int64  \n",
      " 5   PM2.5      36192 non-null  float64\n",
      "dtypes: float64(1), int64(4), object(1)\n",
      "memory usage: 1.7+ MB\n"
     ]
    }
   ],
   "source": [
    "df.info()"
   ]
  },
  {
   "cell_type": "code",
   "execution_count": 8,
   "id": "3f1c876f",
   "metadata": {
    "execution": {
     "iopub.execute_input": "2024-09-26T15:47:53.458351Z",
     "iopub.status.busy": "2024-09-26T15:47:53.457936Z",
     "iopub.status.idle": "2024-09-26T15:47:53.468931Z",
     "shell.execute_reply": "2024-09-26T15:47:53.467732Z"
    },
    "papermill": {
     "duration": 0.027624,
     "end_time": "2024-09-26T15:47:53.471324",
     "exception": false,
     "start_time": "2024-09-26T15:47:53.443700",
     "status": "completed"
    },
    "tags": []
   },
   "outputs": [
    {
     "data": {
      "text/plain": [
       "Timestamp    0\n",
       "Year         0\n",
       "Month        0\n",
       "Day          0\n",
       "Hour         0\n",
       "PM2.5        0\n",
       "dtype: int64"
      ]
     },
     "execution_count": 8,
     "metadata": {},
     "output_type": "execute_result"
    }
   ],
   "source": [
    "df.isnull().sum()"
   ]
  },
  {
   "cell_type": "code",
   "execution_count": 9,
   "id": "1a71c365",
   "metadata": {
    "execution": {
     "iopub.execute_input": "2024-09-26T15:47:53.498913Z",
     "iopub.status.busy": "2024-09-26T15:47:53.498439Z",
     "iopub.status.idle": "2024-09-26T15:47:53.617467Z",
     "shell.execute_reply": "2024-09-26T15:47:53.616402Z"
    },
    "papermill": {
     "duration": 0.135646,
     "end_time": "2024-09-26T15:47:53.619861",
     "exception": false,
     "start_time": "2024-09-26T15:47:53.484215",
     "status": "completed"
    },
    "tags": []
   },
   "outputs": [
    {
     "data": {
      "text/html": [
       "<style type=\"text/css\">\n",
       "#T_6fb88_row0_col0, #T_6fb88_row0_col2, #T_6fb88_row1_col0, #T_6fb88_row1_col1, #T_6fb88_row1_col3, #T_6fb88_row1_col4, #T_6fb88_row1_col5, #T_6fb88_row1_col6, #T_6fb88_row1_col7, #T_6fb88_row2_col0, #T_6fb88_row2_col3, #T_6fb88_row2_col4, #T_6fb88_row3_col0, #T_6fb88_row3_col1, #T_6fb88_row3_col3, #T_6fb88_row3_col4, #T_6fb88_row3_col5, #T_6fb88_row3_col6, #T_6fb88_row4_col0, #T_6fb88_row4_col3 {\n",
       "  background-color: #f7fbff;\n",
       "  color: #000000;\n",
       "}\n",
       "#T_6fb88_row0_col1, #T_6fb88_row0_col3, #T_6fb88_row0_col4, #T_6fb88_row0_col5, #T_6fb88_row0_col6, #T_6fb88_row0_col7, #T_6fb88_row4_col2 {\n",
       "  background-color: #08306b;\n",
       "  color: #f1f1f1;\n",
       "}\n",
       "#T_6fb88_row1_col2 {\n",
       "  background-color: #e4eff9;\n",
       "  color: #000000;\n",
       "}\n",
       "#T_6fb88_row2_col1, #T_6fb88_row2_col5, #T_6fb88_row2_col6, #T_6fb88_row3_col7 {\n",
       "  background-color: #f6faff;\n",
       "  color: #000000;\n",
       "}\n",
       "#T_6fb88_row2_col2 {\n",
       "  background-color: #b0d2e7;\n",
       "  color: #000000;\n",
       "}\n",
       "#T_6fb88_row2_col7 {\n",
       "  background-color: #f5fafe;\n",
       "  color: #000000;\n",
       "}\n",
       "#T_6fb88_row3_col2 {\n",
       "  background-color: #c9ddf0;\n",
       "  color: #000000;\n",
       "}\n",
       "#T_6fb88_row4_col1, #T_6fb88_row4_col5 {\n",
       "  background-color: #f3f8fe;\n",
       "  color: #000000;\n",
       "}\n",
       "#T_6fb88_row4_col4 {\n",
       "  background-color: #f5f9fe;\n",
       "  color: #000000;\n",
       "}\n",
       "#T_6fb88_row4_col6 {\n",
       "  background-color: #f2f8fd;\n",
       "  color: #000000;\n",
       "}\n",
       "#T_6fb88_row4_col7 {\n",
       "  background-color: #e0ecf8;\n",
       "  color: #000000;\n",
       "}\n",
       "</style>\n",
       "<table id=\"T_6fb88\">\n",
       "  <thead>\n",
       "    <tr>\n",
       "      <th class=\"blank level0\" >&nbsp;</th>\n",
       "      <th id=\"T_6fb88_level0_col0\" class=\"col_heading level0 col0\" >count</th>\n",
       "      <th id=\"T_6fb88_level0_col1\" class=\"col_heading level0 col1\" >mean</th>\n",
       "      <th id=\"T_6fb88_level0_col2\" class=\"col_heading level0 col2\" >std</th>\n",
       "      <th id=\"T_6fb88_level0_col3\" class=\"col_heading level0 col3\" >min</th>\n",
       "      <th id=\"T_6fb88_level0_col4\" class=\"col_heading level0 col4\" >25%</th>\n",
       "      <th id=\"T_6fb88_level0_col5\" class=\"col_heading level0 col5\" >50%</th>\n",
       "      <th id=\"T_6fb88_level0_col6\" class=\"col_heading level0 col6\" >75%</th>\n",
       "      <th id=\"T_6fb88_level0_col7\" class=\"col_heading level0 col7\" >max</th>\n",
       "    </tr>\n",
       "  </thead>\n",
       "  <tbody>\n",
       "    <tr>\n",
       "      <th id=\"T_6fb88_level0_row0\" class=\"row_heading level0 row0\" >Year</th>\n",
       "      <td id=\"T_6fb88_row0_col0\" class=\"data row0 col0\" >36192.000000</td>\n",
       "      <td id=\"T_6fb88_row0_col1\" class=\"data row0 col1\" >2019.682278</td>\n",
       "      <td id=\"T_6fb88_row0_col2\" class=\"data row0 col2\" >1.345011</td>\n",
       "      <td id=\"T_6fb88_row0_col3\" class=\"data row0 col3\" >2017.000000</td>\n",
       "      <td id=\"T_6fb88_row0_col4\" class=\"data row0 col4\" >2019.000000</td>\n",
       "      <td id=\"T_6fb88_row0_col5\" class=\"data row0 col5\" >2020.000000</td>\n",
       "      <td id=\"T_6fb88_row0_col6\" class=\"data row0 col6\" >2021.000000</td>\n",
       "      <td id=\"T_6fb88_row0_col7\" class=\"data row0 col7\" >2022.000000</td>\n",
       "    </tr>\n",
       "    <tr>\n",
       "      <th id=\"T_6fb88_level0_row1\" class=\"row_heading level0 row1\" >Month</th>\n",
       "      <td id=\"T_6fb88_row1_col0\" class=\"data row1 col0\" >36192.000000</td>\n",
       "      <td id=\"T_6fb88_row1_col1\" class=\"data row1 col1\" >6.331841</td>\n",
       "      <td id=\"T_6fb88_row1_col2\" class=\"data row1 col2\" >3.593321</td>\n",
       "      <td id=\"T_6fb88_row1_col3\" class=\"data row1 col3\" >1.000000</td>\n",
       "      <td id=\"T_6fb88_row1_col4\" class=\"data row1 col4\" >3.000000</td>\n",
       "      <td id=\"T_6fb88_row1_col5\" class=\"data row1 col5\" >6.000000</td>\n",
       "      <td id=\"T_6fb88_row1_col6\" class=\"data row1 col6\" >10.000000</td>\n",
       "      <td id=\"T_6fb88_row1_col7\" class=\"data row1 col7\" >12.000000</td>\n",
       "    </tr>\n",
       "    <tr>\n",
       "      <th id=\"T_6fb88_level0_row2\" class=\"row_heading level0 row2\" >Day</th>\n",
       "      <td id=\"T_6fb88_row2_col0\" class=\"data row2 col0\" >36192.000000</td>\n",
       "      <td id=\"T_6fb88_row2_col1\" class=\"data row2 col1\" >15.716401</td>\n",
       "      <td id=\"T_6fb88_row2_col2\" class=\"data row2 col2\" >8.859769</td>\n",
       "      <td id=\"T_6fb88_row2_col3\" class=\"data row2 col3\" >1.000000</td>\n",
       "      <td id=\"T_6fb88_row2_col4\" class=\"data row2 col4\" >8.000000</td>\n",
       "      <td id=\"T_6fb88_row2_col5\" class=\"data row2 col5\" >16.000000</td>\n",
       "      <td id=\"T_6fb88_row2_col6\" class=\"data row2 col6\" >23.000000</td>\n",
       "      <td id=\"T_6fb88_row2_col7\" class=\"data row2 col7\" >31.000000</td>\n",
       "    </tr>\n",
       "    <tr>\n",
       "      <th id=\"T_6fb88_level0_row3\" class=\"row_heading level0 row3\" >Hour</th>\n",
       "      <td id=\"T_6fb88_row3_col0\" class=\"data row3 col0\" >36192.000000</td>\n",
       "      <td id=\"T_6fb88_row3_col1\" class=\"data row3 col1\" >11.477840</td>\n",
       "      <td id=\"T_6fb88_row3_col2\" class=\"data row3 col2\" >6.925088</td>\n",
       "      <td id=\"T_6fb88_row3_col3\" class=\"data row3 col3\" >0.000000</td>\n",
       "      <td id=\"T_6fb88_row3_col4\" class=\"data row3 col4\" >5.000000</td>\n",
       "      <td id=\"T_6fb88_row3_col5\" class=\"data row3 col5\" >11.000000</td>\n",
       "      <td id=\"T_6fb88_row3_col6\" class=\"data row3 col6\" >17.000000</td>\n",
       "      <td id=\"T_6fb88_row3_col7\" class=\"data row3 col7\" >23.000000</td>\n",
       "    </tr>\n",
       "    <tr>\n",
       "      <th id=\"T_6fb88_level0_row4\" class=\"row_heading level0 row4\" >PM2.5</th>\n",
       "      <td id=\"T_6fb88_row4_col0\" class=\"data row4 col0\" >36192.000000</td>\n",
       "      <td id=\"T_6fb88_row4_col1\" class=\"data row4 col1\" >49.308429</td>\n",
       "      <td id=\"T_6fb88_row4_col2\" class=\"data row4 col2\" >24.863511</td>\n",
       "      <td id=\"T_6fb88_row4_col3\" class=\"data row4 col3\" >7.020000</td>\n",
       "      <td id=\"T_6fb88_row4_col4\" class=\"data row4 col4\" >28.080000</td>\n",
       "      <td id=\"T_6fb88_row4_col5\" class=\"data row4 col5\" >45.730000</td>\n",
       "      <td id=\"T_6fb88_row4_col6\" class=\"data row4 col6\" >64.520000</td>\n",
       "      <td id=\"T_6fb88_row4_col7\" class=\"data row4 col7\" >245.630000</td>\n",
       "    </tr>\n",
       "  </tbody>\n",
       "</table>\n"
      ],
      "text/plain": [
       "<pandas.io.formats.style.Styler at 0x7acbf9176d70>"
      ]
     },
     "execution_count": 9,
     "metadata": {},
     "output_type": "execute_result"
    }
   ],
   "source": [
    "df.describe().T.style.background_gradient(cmap=\"Blues\")"
   ]
  },
  {
   "cell_type": "code",
   "execution_count": 10,
   "id": "b12680ca",
   "metadata": {
    "execution": {
     "iopub.execute_input": "2024-09-26T15:47:53.648098Z",
     "iopub.status.busy": "2024-09-26T15:47:53.647503Z",
     "iopub.status.idle": "2024-09-26T15:47:53.658696Z",
     "shell.execute_reply": "2024-09-26T15:47:53.657460Z"
    },
    "papermill": {
     "duration": 0.0277,
     "end_time": "2024-09-26T15:47:53.660940",
     "exception": false,
     "start_time": "2024-09-26T15:47:53.633240",
     "status": "completed"
    },
    "tags": []
   },
   "outputs": [
    {
     "name": "stdout",
     "output_type": "stream",
     "text": [
      "count    36192.000000\n",
      "mean        49.308429\n",
      "std         24.863511\n",
      "min          7.020000\n",
      "25%         28.080000\n",
      "50%         45.730000\n",
      "75%         64.520000\n",
      "max        245.630000\n",
      "Name: PM2.5, dtype: float64\n"
     ]
    }
   ],
   "source": [
    "print(df[\"PM2.5\"].describe())"
   ]
  },
  {
   "cell_type": "code",
   "execution_count": 11,
   "id": "e1850bd8",
   "metadata": {
    "execution": {
     "iopub.execute_input": "2024-09-26T15:47:53.688593Z",
     "iopub.status.busy": "2024-09-26T15:47:53.688172Z",
     "iopub.status.idle": "2024-09-26T15:47:53.708463Z",
     "shell.execute_reply": "2024-09-26T15:47:53.707286Z"
    },
    "papermill": {
     "duration": 0.03705,
     "end_time": "2024-09-26T15:47:53.710945",
     "exception": false,
     "start_time": "2024-09-26T15:47:53.673895",
     "status": "completed"
    },
    "tags": []
   },
   "outputs": [
    {
     "data": {
      "text/plain": [
       "Timestamp    36192\n",
       "Year             6\n",
       "Month           12\n",
       "Day             31\n",
       "Hour            24\n",
       "PM2.5         9202\n",
       "dtype: int64"
      ]
     },
     "execution_count": 11,
     "metadata": {},
     "output_type": "execute_result"
    }
   ],
   "source": [
    "df.nunique()"
   ]
  },
  {
   "cell_type": "code",
   "execution_count": 12,
   "id": "f556fe47",
   "metadata": {
    "execution": {
     "iopub.execute_input": "2024-09-26T15:47:53.739277Z",
     "iopub.status.busy": "2024-09-26T15:47:53.738888Z",
     "iopub.status.idle": "2024-09-26T15:47:53.749301Z",
     "shell.execute_reply": "2024-09-26T15:47:53.748335Z"
    },
    "papermill": {
     "duration": 0.026906,
     "end_time": "2024-09-26T15:47:53.751347",
     "exception": false,
     "start_time": "2024-09-26T15:47:53.724441",
     "status": "completed"
    },
    "tags": []
   },
   "outputs": [
    {
     "data": {
      "text/html": [
       "<div>\n",
       "<style scoped>\n",
       "    .dataframe tbody tr th:only-of-type {\n",
       "        vertical-align: middle;\n",
       "    }\n",
       "\n",
       "    .dataframe tbody tr th {\n",
       "        vertical-align: top;\n",
       "    }\n",
       "\n",
       "    .dataframe thead th {\n",
       "        text-align: right;\n",
       "    }\n",
       "</style>\n",
       "<table border=\"1\" class=\"dataframe\">\n",
       "  <thead>\n",
       "    <tr style=\"text-align: right;\">\n",
       "      <th></th>\n",
       "      <th>count</th>\n",
       "    </tr>\n",
       "    <tr>\n",
       "      <th>Year</th>\n",
       "      <th></th>\n",
       "    </tr>\n",
       "  </thead>\n",
       "  <tbody>\n",
       "    <tr>\n",
       "      <th>2020</th>\n",
       "      <td>8356</td>\n",
       "    </tr>\n",
       "    <tr>\n",
       "      <th>2021</th>\n",
       "      <td>8283</td>\n",
       "    </tr>\n",
       "    <tr>\n",
       "      <th>2019</th>\n",
       "      <td>7685</td>\n",
       "    </tr>\n",
       "    <tr>\n",
       "      <th>2018</th>\n",
       "      <td>7537</td>\n",
       "    </tr>\n",
       "    <tr>\n",
       "      <th>2022</th>\n",
       "      <td>3194</td>\n",
       "    </tr>\n",
       "    <tr>\n",
       "      <th>2017</th>\n",
       "      <td>1137</td>\n",
       "    </tr>\n",
       "  </tbody>\n",
       "</table>\n",
       "</div>"
      ],
      "text/plain": [
       "      count\n",
       "Year       \n",
       "2020   8356\n",
       "2021   8283\n",
       "2019   7685\n",
       "2018   7537\n",
       "2022   3194\n",
       "2017   1137"
      ]
     },
     "execution_count": 12,
     "metadata": {},
     "output_type": "execute_result"
    }
   ],
   "source": [
    "pd.DataFrame(df[\"Year\"].value_counts())"
   ]
  },
  {
   "cell_type": "code",
   "execution_count": 13,
   "id": "acb186d0",
   "metadata": {
    "execution": {
     "iopub.execute_input": "2024-09-26T15:47:53.781704Z",
     "iopub.status.busy": "2024-09-26T15:47:53.781272Z",
     "iopub.status.idle": "2024-09-26T15:47:53.794240Z",
     "shell.execute_reply": "2024-09-26T15:47:53.793195Z"
    },
    "papermill": {
     "duration": 0.031456,
     "end_time": "2024-09-26T15:47:53.796374",
     "exception": false,
     "start_time": "2024-09-26T15:47:53.764918",
     "status": "completed"
    },
    "tags": []
   },
   "outputs": [
    {
     "data": {
      "text/html": [
       "<div>\n",
       "<style scoped>\n",
       "    .dataframe tbody tr th:only-of-type {\n",
       "        vertical-align: middle;\n",
       "    }\n",
       "\n",
       "    .dataframe tbody tr th {\n",
       "        vertical-align: top;\n",
       "    }\n",
       "\n",
       "    .dataframe thead th {\n",
       "        text-align: right;\n",
       "    }\n",
       "</style>\n",
       "<table border=\"1\" class=\"dataframe\">\n",
       "  <thead>\n",
       "    <tr style=\"text-align: right;\">\n",
       "      <th></th>\n",
       "      <th>count</th>\n",
       "    </tr>\n",
       "    <tr>\n",
       "      <th>Month</th>\n",
       "      <th></th>\n",
       "    </tr>\n",
       "  </thead>\n",
       "  <tbody>\n",
       "    <tr>\n",
       "      <th>1</th>\n",
       "      <td>3546</td>\n",
       "    </tr>\n",
       "    <tr>\n",
       "      <th>2</th>\n",
       "      <td>3250</td>\n",
       "    </tr>\n",
       "    <tr>\n",
       "      <th>3</th>\n",
       "      <td>3529</td>\n",
       "    </tr>\n",
       "    <tr>\n",
       "      <th>4</th>\n",
       "      <td>3083</td>\n",
       "    </tr>\n",
       "    <tr>\n",
       "      <th>5</th>\n",
       "      <td>3212</td>\n",
       "    </tr>\n",
       "    <tr>\n",
       "      <th>6</th>\n",
       "      <td>2743</td>\n",
       "    </tr>\n",
       "    <tr>\n",
       "      <th>7</th>\n",
       "      <td>2397</td>\n",
       "    </tr>\n",
       "    <tr>\n",
       "      <th>8</th>\n",
       "      <td>2492</td>\n",
       "    </tr>\n",
       "    <tr>\n",
       "      <th>9</th>\n",
       "      <td>2495</td>\n",
       "    </tr>\n",
       "    <tr>\n",
       "      <th>10</th>\n",
       "      <td>2814</td>\n",
       "    </tr>\n",
       "    <tr>\n",
       "      <th>11</th>\n",
       "      <td>3203</td>\n",
       "    </tr>\n",
       "    <tr>\n",
       "      <th>12</th>\n",
       "      <td>3428</td>\n",
       "    </tr>\n",
       "  </tbody>\n",
       "</table>\n",
       "</div>"
      ],
      "text/plain": [
       "       count\n",
       "Month       \n",
       "1       3546\n",
       "2       3250\n",
       "3       3529\n",
       "4       3083\n",
       "5       3212\n",
       "6       2743\n",
       "7       2397\n",
       "8       2492\n",
       "9       2495\n",
       "10      2814\n",
       "11      3203\n",
       "12      3428"
      ]
     },
     "execution_count": 13,
     "metadata": {},
     "output_type": "execute_result"
    }
   ],
   "source": [
    "pd.DataFrame(df[\"Month\"].value_counts().sort_index(ascending=True))"
   ]
  },
  {
   "cell_type": "code",
   "execution_count": 14,
   "id": "b39e4ddf",
   "metadata": {
    "execution": {
     "iopub.execute_input": "2024-09-26T15:47:53.825527Z",
     "iopub.status.busy": "2024-09-26T15:47:53.824688Z",
     "iopub.status.idle": "2024-09-26T15:47:53.836468Z",
     "shell.execute_reply": "2024-09-26T15:47:53.835211Z"
    },
    "papermill": {
     "duration": 0.028904,
     "end_time": "2024-09-26T15:47:53.838788",
     "exception": false,
     "start_time": "2024-09-26T15:47:53.809884",
     "status": "completed"
    },
    "tags": []
   },
   "outputs": [
    {
     "data": {
      "text/html": [
       "<div>\n",
       "<style scoped>\n",
       "    .dataframe tbody tr th:only-of-type {\n",
       "        vertical-align: middle;\n",
       "    }\n",
       "\n",
       "    .dataframe tbody tr th {\n",
       "        vertical-align: top;\n",
       "    }\n",
       "\n",
       "    .dataframe thead th {\n",
       "        text-align: right;\n",
       "    }\n",
       "</style>\n",
       "<table border=\"1\" class=\"dataframe\">\n",
       "  <thead>\n",
       "    <tr style=\"text-align: right;\">\n",
       "      <th></th>\n",
       "      <th>count</th>\n",
       "    </tr>\n",
       "    <tr>\n",
       "      <th>Hour</th>\n",
       "      <th></th>\n",
       "    </tr>\n",
       "  </thead>\n",
       "  <tbody>\n",
       "    <tr>\n",
       "      <th>8</th>\n",
       "      <td>1524</td>\n",
       "    </tr>\n",
       "    <tr>\n",
       "      <th>6</th>\n",
       "      <td>1523</td>\n",
       "    </tr>\n",
       "    <tr>\n",
       "      <th>5</th>\n",
       "      <td>1519</td>\n",
       "    </tr>\n",
       "    <tr>\n",
       "      <th>1</th>\n",
       "      <td>1518</td>\n",
       "    </tr>\n",
       "    <tr>\n",
       "      <th>23</th>\n",
       "      <td>1517</td>\n",
       "    </tr>\n",
       "    <tr>\n",
       "      <th>2</th>\n",
       "      <td>1515</td>\n",
       "    </tr>\n",
       "    <tr>\n",
       "      <th>9</th>\n",
       "      <td>1514</td>\n",
       "    </tr>\n",
       "    <tr>\n",
       "      <th>4</th>\n",
       "      <td>1514</td>\n",
       "    </tr>\n",
       "    <tr>\n",
       "      <th>7</th>\n",
       "      <td>1512</td>\n",
       "    </tr>\n",
       "    <tr>\n",
       "      <th>20</th>\n",
       "      <td>1512</td>\n",
       "    </tr>\n",
       "    <tr>\n",
       "      <th>10</th>\n",
       "      <td>1511</td>\n",
       "    </tr>\n",
       "    <tr>\n",
       "      <th>3</th>\n",
       "      <td>1510</td>\n",
       "    </tr>\n",
       "    <tr>\n",
       "      <th>22</th>\n",
       "      <td>1509</td>\n",
       "    </tr>\n",
       "    <tr>\n",
       "      <th>0</th>\n",
       "      <td>1506</td>\n",
       "    </tr>\n",
       "    <tr>\n",
       "      <th>11</th>\n",
       "      <td>1506</td>\n",
       "    </tr>\n",
       "    <tr>\n",
       "      <th>14</th>\n",
       "      <td>1504</td>\n",
       "    </tr>\n",
       "    <tr>\n",
       "      <th>12</th>\n",
       "      <td>1502</td>\n",
       "    </tr>\n",
       "    <tr>\n",
       "      <th>13</th>\n",
       "      <td>1501</td>\n",
       "    </tr>\n",
       "    <tr>\n",
       "      <th>19</th>\n",
       "      <td>1499</td>\n",
       "    </tr>\n",
       "    <tr>\n",
       "      <th>17</th>\n",
       "      <td>1499</td>\n",
       "    </tr>\n",
       "    <tr>\n",
       "      <th>15</th>\n",
       "      <td>1499</td>\n",
       "    </tr>\n",
       "    <tr>\n",
       "      <th>16</th>\n",
       "      <td>1495</td>\n",
       "    </tr>\n",
       "    <tr>\n",
       "      <th>21</th>\n",
       "      <td>1492</td>\n",
       "    </tr>\n",
       "    <tr>\n",
       "      <th>18</th>\n",
       "      <td>1491</td>\n",
       "    </tr>\n",
       "  </tbody>\n",
       "</table>\n",
       "</div>"
      ],
      "text/plain": [
       "      count\n",
       "Hour       \n",
       "8      1524\n",
       "6      1523\n",
       "5      1519\n",
       "1      1518\n",
       "23     1517\n",
       "2      1515\n",
       "9      1514\n",
       "4      1514\n",
       "7      1512\n",
       "20     1512\n",
       "10     1511\n",
       "3      1510\n",
       "22     1509\n",
       "0      1506\n",
       "11     1506\n",
       "14     1504\n",
       "12     1502\n",
       "13     1501\n",
       "19     1499\n",
       "17     1499\n",
       "15     1499\n",
       "16     1495\n",
       "21     1492\n",
       "18     1491"
      ]
     },
     "execution_count": 14,
     "metadata": {},
     "output_type": "execute_result"
    }
   ],
   "source": [
    "pd.DataFrame(df[\"Hour\"].value_counts().sort_values(ascending=False))"
   ]
  },
  {
   "cell_type": "code",
   "execution_count": 15,
   "id": "3c29ac5e",
   "metadata": {
    "execution": {
     "iopub.execute_input": "2024-09-26T15:47:53.868674Z",
     "iopub.status.busy": "2024-09-26T15:47:53.868273Z",
     "iopub.status.idle": "2024-09-26T15:47:53.884137Z",
     "shell.execute_reply": "2024-09-26T15:47:53.883055Z"
    },
    "papermill": {
     "duration": 0.03386,
     "end_time": "2024-09-26T15:47:53.886593",
     "exception": false,
     "start_time": "2024-09-26T15:47:53.852733",
     "status": "completed"
    },
    "tags": []
   },
   "outputs": [
    {
     "data": {
      "text/html": [
       "<div>\n",
       "<style scoped>\n",
       "    .dataframe tbody tr th:only-of-type {\n",
       "        vertical-align: middle;\n",
       "    }\n",
       "\n",
       "    .dataframe tbody tr th {\n",
       "        vertical-align: top;\n",
       "    }\n",
       "\n",
       "    .dataframe thead th {\n",
       "        text-align: right;\n",
       "    }\n",
       "</style>\n",
       "<table border=\"1\" class=\"dataframe\">\n",
       "  <thead>\n",
       "    <tr style=\"text-align: right;\">\n",
       "      <th></th>\n",
       "      <th>PM2.5</th>\n",
       "    </tr>\n",
       "  </thead>\n",
       "  <tbody>\n",
       "    <tr>\n",
       "      <th>7649</th>\n",
       "      <td>245.63</td>\n",
       "    </tr>\n",
       "    <tr>\n",
       "      <th>14836</th>\n",
       "      <td>234.83</td>\n",
       "    </tr>\n",
       "    <tr>\n",
       "      <th>7650</th>\n",
       "      <td>232.03</td>\n",
       "    </tr>\n",
       "    <tr>\n",
       "      <th>14837</th>\n",
       "      <td>230.05</td>\n",
       "    </tr>\n",
       "    <tr>\n",
       "      <th>7648</th>\n",
       "      <td>223.21</td>\n",
       "    </tr>\n",
       "    <tr>\n",
       "      <th>14835</th>\n",
       "      <td>219.07</td>\n",
       "    </tr>\n",
       "    <tr>\n",
       "      <th>7646</th>\n",
       "      <td>212.56</td>\n",
       "    </tr>\n",
       "    <tr>\n",
       "      <th>7647</th>\n",
       "      <td>207.41</td>\n",
       "    </tr>\n",
       "    <tr>\n",
       "      <th>23588</th>\n",
       "      <td>196.88</td>\n",
       "    </tr>\n",
       "    <tr>\n",
       "      <th>23593</th>\n",
       "      <td>193.80</td>\n",
       "    </tr>\n",
       "    <tr>\n",
       "      <th>23587</th>\n",
       "      <td>183.39</td>\n",
       "    </tr>\n",
       "    <tr>\n",
       "      <th>7645</th>\n",
       "      <td>183.19</td>\n",
       "    </tr>\n",
       "    <tr>\n",
       "      <th>23592</th>\n",
       "      <td>181.07</td>\n",
       "    </tr>\n",
       "    <tr>\n",
       "      <th>23589</th>\n",
       "      <td>178.61</td>\n",
       "    </tr>\n",
       "    <tr>\n",
       "      <th>1422</th>\n",
       "      <td>177.58</td>\n",
       "    </tr>\n",
       "  </tbody>\n",
       "</table>\n",
       "</div>"
      ],
      "text/plain": [
       "        PM2.5\n",
       "7649   245.63\n",
       "14836  234.83\n",
       "7650   232.03\n",
       "14837  230.05\n",
       "7648   223.21\n",
       "14835  219.07\n",
       "7646   212.56\n",
       "7647   207.41\n",
       "23588  196.88\n",
       "23593  193.80\n",
       "23587  183.39\n",
       "7645   183.19\n",
       "23592  181.07\n",
       "23589  178.61\n",
       "1422   177.58"
      ]
     },
     "execution_count": 15,
     "metadata": {},
     "output_type": "execute_result"
    }
   ],
   "source": [
    "pd.DataFrame(df[\"PM2.5\"].sort_values(ascending=False).head(15))"
   ]
  },
  {
   "cell_type": "code",
   "execution_count": 16,
   "id": "30c1f886",
   "metadata": {
    "execution": {
     "iopub.execute_input": "2024-09-26T15:47:53.916280Z",
     "iopub.status.busy": "2024-09-26T15:47:53.915903Z",
     "iopub.status.idle": "2024-09-26T15:47:53.956377Z",
     "shell.execute_reply": "2024-09-26T15:47:53.955094Z"
    },
    "papermill": {
     "duration": 0.058183,
     "end_time": "2024-09-26T15:47:53.958812",
     "exception": false,
     "start_time": "2024-09-26T15:47:53.900629",
     "status": "completed"
    },
    "tags": []
   },
   "outputs": [
    {
     "name": "stdout",
     "output_type": "stream",
     "text": [
      "            Timestamp  Year  Month  Day  Hour   PM2.5  Day_of_Week  Season\n",
      "0 2017-11-07 12:00:00  2017     11    7    12   64.51            1  Autumn\n",
      "1 2017-11-07 13:00:00  2017     11    7    13   69.95            1  Autumn\n",
      "2 2017-11-07 14:00:00  2017     11    7    14   92.79            1  Autumn\n",
      "3 2017-11-07 15:00:00  2017     11    7    15  109.66            1  Autumn\n",
      "4 2017-11-07 16:00:00  2017     11    7    16  116.50            1  Autumn\n"
     ]
    }
   ],
   "source": [
    "# Convert Timestamp to datetime\n",
    "df['Timestamp'] = pd.to_datetime(df['Timestamp'])\n",
    "\n",
    "# Extract new features\n",
    "df['Day_of_Week'] = df['Timestamp'].dt.dayofweek\n",
    "df['Season'] = df['Month'].apply(lambda x: 'Winter' if x in [12, 1, 2] \n",
    "                                                 else 'Summer' if x in [3, 4, 5] \n",
    "                                                 else 'Monsoon' if x in [6, 7, 8]\n",
    "                                                 else 'Autumn')\n",
    "\n",
    "print(df.head())  # Check the new features"
   ]
  },
  {
   "cell_type": "code",
   "execution_count": 17,
   "id": "921a37ca",
   "metadata": {
    "execution": {
     "iopub.execute_input": "2024-09-26T15:47:53.988997Z",
     "iopub.status.busy": "2024-09-26T15:47:53.988590Z",
     "iopub.status.idle": "2024-09-26T15:47:54.003918Z",
     "shell.execute_reply": "2024-09-26T15:47:54.002826Z"
    },
    "papermill": {
     "duration": 0.032713,
     "end_time": "2024-09-26T15:47:54.006106",
     "exception": false,
     "start_time": "2024-09-26T15:47:53.973393",
     "status": "completed"
    },
    "tags": []
   },
   "outputs": [
    {
     "data": {
      "text/html": [
       "<div>\n",
       "<style scoped>\n",
       "    .dataframe tbody tr th:only-of-type {\n",
       "        vertical-align: middle;\n",
       "    }\n",
       "\n",
       "    .dataframe tbody tr th {\n",
       "        vertical-align: top;\n",
       "    }\n",
       "\n",
       "    .dataframe thead th {\n",
       "        text-align: right;\n",
       "    }\n",
       "</style>\n",
       "<table border=\"1\" class=\"dataframe\">\n",
       "  <thead>\n",
       "    <tr style=\"text-align: right;\">\n",
       "      <th></th>\n",
       "      <th>Timestamp</th>\n",
       "      <th>Year</th>\n",
       "      <th>Month</th>\n",
       "      <th>Day</th>\n",
       "      <th>Hour</th>\n",
       "      <th>PM2.5</th>\n",
       "      <th>Day_of_Week</th>\n",
       "      <th>Season</th>\n",
       "    </tr>\n",
       "  </thead>\n",
       "  <tbody>\n",
       "    <tr>\n",
       "      <th>0</th>\n",
       "      <td>2017-11-07 12:00:00</td>\n",
       "      <td>2017</td>\n",
       "      <td>11</td>\n",
       "      <td>7</td>\n",
       "      <td>12</td>\n",
       "      <td>64.51</td>\n",
       "      <td>1</td>\n",
       "      <td>Autumn</td>\n",
       "    </tr>\n",
       "    <tr>\n",
       "      <th>1</th>\n",
       "      <td>2017-11-07 13:00:00</td>\n",
       "      <td>2017</td>\n",
       "      <td>11</td>\n",
       "      <td>7</td>\n",
       "      <td>13</td>\n",
       "      <td>69.95</td>\n",
       "      <td>1</td>\n",
       "      <td>Autumn</td>\n",
       "    </tr>\n",
       "    <tr>\n",
       "      <th>2</th>\n",
       "      <td>2017-11-07 14:00:00</td>\n",
       "      <td>2017</td>\n",
       "      <td>11</td>\n",
       "      <td>7</td>\n",
       "      <td>14</td>\n",
       "      <td>92.79</td>\n",
       "      <td>1</td>\n",
       "      <td>Autumn</td>\n",
       "    </tr>\n",
       "    <tr>\n",
       "      <th>3</th>\n",
       "      <td>2017-11-07 15:00:00</td>\n",
       "      <td>2017</td>\n",
       "      <td>11</td>\n",
       "      <td>7</td>\n",
       "      <td>15</td>\n",
       "      <td>109.66</td>\n",
       "      <td>1</td>\n",
       "      <td>Autumn</td>\n",
       "    </tr>\n",
       "    <tr>\n",
       "      <th>4</th>\n",
       "      <td>2017-11-07 16:00:00</td>\n",
       "      <td>2017</td>\n",
       "      <td>11</td>\n",
       "      <td>7</td>\n",
       "      <td>16</td>\n",
       "      <td>116.50</td>\n",
       "      <td>1</td>\n",
       "      <td>Autumn</td>\n",
       "    </tr>\n",
       "    <tr>\n",
       "      <th>...</th>\n",
       "      <td>...</td>\n",
       "      <td>...</td>\n",
       "      <td>...</td>\n",
       "      <td>...</td>\n",
       "      <td>...</td>\n",
       "      <td>...</td>\n",
       "      <td>...</td>\n",
       "      <td>...</td>\n",
       "    </tr>\n",
       "    <tr>\n",
       "      <th>36187</th>\n",
       "      <td>2022-06-04 11:00:00</td>\n",
       "      <td>2022</td>\n",
       "      <td>6</td>\n",
       "      <td>4</td>\n",
       "      <td>11</td>\n",
       "      <td>35.89</td>\n",
       "      <td>5</td>\n",
       "      <td>Monsoon</td>\n",
       "    </tr>\n",
       "    <tr>\n",
       "      <th>36188</th>\n",
       "      <td>2022-06-04 12:00:00</td>\n",
       "      <td>2022</td>\n",
       "      <td>6</td>\n",
       "      <td>4</td>\n",
       "      <td>12</td>\n",
       "      <td>33.83</td>\n",
       "      <td>5</td>\n",
       "      <td>Monsoon</td>\n",
       "    </tr>\n",
       "    <tr>\n",
       "      <th>36189</th>\n",
       "      <td>2022-06-04 13:00:00</td>\n",
       "      <td>2022</td>\n",
       "      <td>6</td>\n",
       "      <td>4</td>\n",
       "      <td>13</td>\n",
       "      <td>33.05</td>\n",
       "      <td>5</td>\n",
       "      <td>Monsoon</td>\n",
       "    </tr>\n",
       "    <tr>\n",
       "      <th>36190</th>\n",
       "      <td>2022-06-04 14:00:00</td>\n",
       "      <td>2022</td>\n",
       "      <td>6</td>\n",
       "      <td>4</td>\n",
       "      <td>14</td>\n",
       "      <td>35.29</td>\n",
       "      <td>5</td>\n",
       "      <td>Monsoon</td>\n",
       "    </tr>\n",
       "    <tr>\n",
       "      <th>36191</th>\n",
       "      <td>2022-06-04 15:00:00</td>\n",
       "      <td>2022</td>\n",
       "      <td>6</td>\n",
       "      <td>4</td>\n",
       "      <td>15</td>\n",
       "      <td>40.67</td>\n",
       "      <td>5</td>\n",
       "      <td>Monsoon</td>\n",
       "    </tr>\n",
       "  </tbody>\n",
       "</table>\n",
       "<p>36192 rows × 8 columns</p>\n",
       "</div>"
      ],
      "text/plain": [
       "                Timestamp  Year  Month  Day  Hour   PM2.5  Day_of_Week  \\\n",
       "0     2017-11-07 12:00:00  2017     11    7    12   64.51            1   \n",
       "1     2017-11-07 13:00:00  2017     11    7    13   69.95            1   \n",
       "2     2017-11-07 14:00:00  2017     11    7    14   92.79            1   \n",
       "3     2017-11-07 15:00:00  2017     11    7    15  109.66            1   \n",
       "4     2017-11-07 16:00:00  2017     11    7    16  116.50            1   \n",
       "...                   ...   ...    ...  ...   ...     ...          ...   \n",
       "36187 2022-06-04 11:00:00  2022      6    4    11   35.89            5   \n",
       "36188 2022-06-04 12:00:00  2022      6    4    12   33.83            5   \n",
       "36189 2022-06-04 13:00:00  2022      6    4    13   33.05            5   \n",
       "36190 2022-06-04 14:00:00  2022      6    4    14   35.29            5   \n",
       "36191 2022-06-04 15:00:00  2022      6    4    15   40.67            5   \n",
       "\n",
       "        Season  \n",
       "0       Autumn  \n",
       "1       Autumn  \n",
       "2       Autumn  \n",
       "3       Autumn  \n",
       "4       Autumn  \n",
       "...        ...  \n",
       "36187  Monsoon  \n",
       "36188  Monsoon  \n",
       "36189  Monsoon  \n",
       "36190  Monsoon  \n",
       "36191  Monsoon  \n",
       "\n",
       "[36192 rows x 8 columns]"
      ]
     },
     "execution_count": 17,
     "metadata": {},
     "output_type": "execute_result"
    }
   ],
   "source": [
    "df"
   ]
  },
  {
   "cell_type": "markdown",
   "id": "17a88902",
   "metadata": {
    "papermill": {
     "duration": 0.014092,
     "end_time": "2024-09-26T15:47:54.034498",
     "exception": false,
     "start_time": "2024-09-26T15:47:54.020406",
     "status": "completed"
    },
    "tags": []
   },
   "source": [
    "**Visulaization**"
   ]
  },
  {
   "cell_type": "code",
   "execution_count": 18,
   "id": "a2223b04",
   "metadata": {
    "execution": {
     "iopub.execute_input": "2024-09-26T15:47:54.064704Z",
     "iopub.status.busy": "2024-09-26T15:47:54.064285Z",
     "iopub.status.idle": "2024-09-26T15:47:54.614222Z",
     "shell.execute_reply": "2024-09-26T15:47:54.613130Z"
    },
    "papermill": {
     "duration": 0.567772,
     "end_time": "2024-09-26T15:47:54.616557",
     "exception": false,
     "start_time": "2024-09-26T15:47:54.048785",
     "status": "completed"
    },
    "tags": []
   },
   "outputs": [
    {
     "data": {
      "image/png": "[encoded data removed]",
      "text/plain": [
       "<Figure size 1000x600 with 1 Axes>"
      ]
     },
     "metadata": {},
     "output_type": "display_data"
    }
   ],
   "source": [
    "# Time series plot\n",
    "plt.figure(figsize=(10,6),facecolor=\"yellow\",\n",
    "    edgecolor=\"red\")\n",
    "plt.plot(df['Timestamp'], df['PM2.5'])\n",
    "plt.title('PM2.5 Levels Over Time')\n",
    "plt.xlabel('Time')\n",
    "plt.ylabel('PM2.5 Level')\n",
    "plt.show()"
   ]
  },
  {
   "cell_type": "code",
   "execution_count": 19,
   "id": "43258919",
   "metadata": {
    "execution": {
     "iopub.execute_input": "2024-09-26T15:47:54.649065Z",
     "iopub.status.busy": "2024-09-26T15:47:54.648624Z",
     "iopub.status.idle": "2024-09-26T15:47:55.366216Z",
     "shell.execute_reply": "2024-09-26T15:47:55.365132Z"
    },
    "papermill": {
     "duration": 0.736592,
     "end_time": "2024-09-26T15:47:55.368571",
     "exception": false,
     "start_time": "2024-09-26T15:47:54.631979",
     "status": "completed"
    },
    "tags": []
   },
   "outputs": [
    {
     "name": "stderr",
     "output_type": "stream",
     "text": [
      "/opt/conda/lib/python3.10/site-packages/seaborn/_oldcore.py:1119: FutureWarning: use_inf_as_na option is deprecated and will be removed in a future version. Convert inf values to NaN before operating instead.\n",
      "  with pd.option_context('mode.use_inf_as_na', True):\n"
     ]
    },
    {
     "data": {
      "image/png": "[encoded data removed]",
      "text/plain": [
       "<Figure size 800x600 with 1 Axes>"
      ]
     },
     "metadata": {},
     "output_type": "display_data"
    }
   ],
   "source": [
    "# Distribution plot\n",
    "plt.figure(figsize=(8,6))\n",
    "sns.histplot(df['PM2.5'], bins=50, kde=True)\n",
    "plt.title('Distribution of PM2.5 Levels')\n",
    "plt.xlabel('PM2.5 Level')\n",
    "plt.show()\n"
   ]
  },
  {
   "cell_type": "code",
   "execution_count": 20,
   "id": "47aa92e2",
   "metadata": {
    "execution": {
     "iopub.execute_input": "2024-09-26T15:47:55.403122Z",
     "iopub.status.busy": "2024-09-26T15:47:55.402675Z",
     "iopub.status.idle": "2024-09-26T15:47:55.721566Z",
     "shell.execute_reply": "2024-09-26T15:47:55.720495Z"
    },
    "papermill": {
     "duration": 0.339202,
     "end_time": "2024-09-26T15:47:55.723861",
     "exception": false,
     "start_time": "2024-09-26T15:47:55.384659",
     "status": "completed"
    },
    "tags": []
   },
   "outputs": [
    {
     "data": {
      "image/png": "[encoded data removed]",
      "text/plain": [
       "<Figure size 800x600 with 1 Axes>"
      ]
     },
     "metadata": {},
     "output_type": "display_data"
    }
   ],
   "source": [
    "# Box plot by season\n",
    "plt.figure(figsize=(8,6))\n",
    "sns.boxplot(x='Season', y='PM2.5', data=df)\n",
    "plt.title('PM2.5 Levels by Season')\n",
    "plt.show()\n"
   ]
  },
  {
   "cell_type": "markdown",
   "id": "19aa07a2",
   "metadata": {
    "papermill": {
     "duration": 0.016336,
     "end_time": "2024-09-26T15:47:55.756694",
     "exception": false,
     "start_time": "2024-09-26T15:47:55.740358",
     "status": "completed"
    },
    "tags": []
   },
   "source": [
    "* Winter and Autumn experience higher PM2.5 concentrations, with more frequent extreme pollution events (as seen by the outliers). Summer and Monsoon, especially Monsoon, experience cleaner air with fewer outliers and more consistent PM2.5 levels.\n",
    "\n",
    "* This plot indicates that the air quality in India is significantly worse during Winter and Autumn, possibly due to factors like lower temperatures, industrial activities, or seasonal agricultural burning."
   ]
  },
  {
   "cell_type": "code",
   "execution_count": 21,
   "id": "8c41a8c9",
   "metadata": {
    "execution": {
     "iopub.execute_input": "2024-09-26T15:47:55.793629Z",
     "iopub.status.busy": "2024-09-26T15:47:55.793188Z",
     "iopub.status.idle": "2024-09-26T15:47:56.189254Z",
     "shell.execute_reply": "2024-09-26T15:47:56.187980Z"
    },
    "papermill": {
     "duration": 0.417737,
     "end_time": "2024-09-26T15:47:56.191698",
     "exception": false,
     "start_time": "2024-09-26T15:47:55.773961",
     "status": "completed"
    },
    "tags": []
   },
   "outputs": [
    {
     "data": {
      "image/png": "[encoded data removed]",
      "text/plain": [
       "<Figure size 1000x600 with 1 Axes>"
      ]
     },
     "metadata": {},
     "output_type": "display_data"
    }
   ],
   "source": [
    "# Average PM2.5 by hour\n",
    "hourly_avg = df.groupby('Hour')['PM2.5'].mean()\n",
    "plt.figure(figsize=(10,6))\n",
    "hourly_avg.plot()\n",
    "plt.title('Average PM2.5 Levels by Hour')\n",
    "plt.xlabel('Hour of the Day')\n",
    "plt.ylabel('PM2.5 Level')\n",
    "plt.show()"
   ]
  },
  {
   "cell_type": "markdown",
   "id": "de73ca54",
   "metadata": {
    "papermill": {
     "duration": 0.017146,
     "end_time": "2024-09-26T15:47:56.226532",
     "exception": false,
     "start_time": "2024-09-26T15:47:56.209386",
     "status": "completed"
    },
    "tags": []
   },
   "source": [
    "PM2.5 levels increase during the early morning hours (around 5 a.m.), peaking around this time. This may be due to increased vehicle traffic, industrial activity, and cold weather trapping pollutants closer to the ground (inversion effect). Levels gradually decrease during the late morning and early afternoon, reaching their lowest point around noon (around 11 a.m. to 1 p.m.). This may be due to pollutants being dispersed as the atmosphere warms and traffic/industrial activity slows."
   ]
  },
  {
   "cell_type": "code",
   "execution_count": 22,
   "id": "eb454bc6",
   "metadata": {
    "execution": {
     "iopub.execute_input": "2024-09-26T15:47:56.263082Z",
     "iopub.status.busy": "2024-09-26T15:47:56.262623Z",
     "iopub.status.idle": "2024-09-26T15:47:56.503818Z",
     "shell.execute_reply": "2024-09-26T15:47:56.502630Z"
    },
    "papermill": {
     "duration": 0.262902,
     "end_time": "2024-09-26T15:47:56.506707",
     "exception": false,
     "start_time": "2024-09-26T15:47:56.243805",
     "status": "completed"
    },
    "tags": []
   },
   "outputs": [
    {
     "data": {
      "image/png": "[encoded data removed]",
      "text/plain": [
       "<Figure size 640x480 with 1 Axes>"
      ]
     },
     "metadata": {},
     "output_type": "display_data"
    }
   ],
   "source": [
    "#count plot to season\n",
    "\n",
    "sns.countplot(data =df ,x = \"Season\")\n",
    "plt.title('count the season')\n",
    "plt.xlabel('Season')\n",
    "plt.ylabel('Count')\n",
    "plt.show()"
   ]
  },
  {
   "cell_type": "code",
   "execution_count": 23,
   "id": "282720a0",
   "metadata": {
    "execution": {
     "iopub.execute_input": "2024-09-26T15:47:56.545472Z",
     "iopub.status.busy": "2024-09-26T15:47:56.545034Z",
     "iopub.status.idle": "2024-09-26T15:47:57.113304Z",
     "shell.execute_reply": "2024-09-26T15:47:57.111825Z"
    },
    "papermill": {
     "duration": 0.590581,
     "end_time": "2024-09-26T15:47:57.116121",
     "exception": false,
     "start_time": "2024-09-26T15:47:56.525540",
     "status": "completed"
    },
    "tags": []
   },
   "outputs": [
    {
     "data": {
      "text/plain": [
       "<Axes: xlabel='Month', ylabel='count'>"
      ]
     },
     "execution_count": 23,
     "metadata": {},
     "output_type": "execute_result"
    },
    {
     "data": {
      "image/png": "[encoded data removed]",
      "text/plain": [
       "<Figure size 2000x500 with 1 Axes>"
      ]
     },
     "metadata": {},
     "output_type": "display_data"
    }
   ],
   "source": [
    "#count plot to month\n",
    "\n",
    "sns.set(rc={\"figure.figsize\":(20,5)})\n",
    "sns.countplot(data=df,x=\"Month\")"
   ]
  },
  {
   "cell_type": "code",
   "execution_count": 24,
   "id": "99c9e5fa",
   "metadata": {
    "execution": {
     "iopub.execute_input": "2024-09-26T15:47:57.165725Z",
     "iopub.status.busy": "2024-09-26T15:47:57.164665Z",
     "iopub.status.idle": "2024-09-26T15:47:57.520785Z",
     "shell.execute_reply": "2024-09-26T15:47:57.519675Z"
    },
    "papermill": {
     "duration": 0.385776,
     "end_time": "2024-09-26T15:47:57.523179",
     "exception": false,
     "start_time": "2024-09-26T15:47:57.137403",
     "status": "completed"
    },
    "tags": []
   },
   "outputs": [
    {
     "data": {
      "text/plain": [
       "<Axes: xlabel='Month', ylabel='PM2.5'>"
      ]
     },
     "execution_count": 24,
     "metadata": {},
     "output_type": "execute_result"
    },
    {
     "data": {
      "image/png": "[encoded data removed]",
      "text/plain": [
       "<Figure size 2000x500 with 1 Axes>"
      ]
     },
     "metadata": {},
     "output_type": "display_data"
    }
   ],
   "source": [
    "#This is a bar plot that displays the sum of PM2.5 levels for each month.\n",
    "air = df.groupby([\"Month\"], as_index = False)[\"PM2.5\"].sum().sort_values(by=\"PM2.5\",ascending = False).head(10)\n",
    "\n",
    "sns.set(rc={\"figure.figsize\":(20,5)})\n",
    "sns.barplot(data = air,x = \"Month\",y = \"PM2.5\" )"
   ]
  },
  {
   "cell_type": "markdown",
   "id": "69b617c2",
   "metadata": {
    "papermill": {
     "duration": 0.023562,
     "end_time": "2024-09-26T15:47:57.565674",
     "exception": false,
     "start_time": "2024-09-26T15:47:57.542112",
     "status": "completed"
    },
    "tags": []
   },
   "source": [
    "This plot provides an overview of the total PM2.5 pollution over each month. Winter months (January and December) appear to have higher PM2.5 levels, whereas monsoon or summer months likely have lower levels. This analysis could be valuable for understanding seasonal trends in air pollution and for planning interventions during months with higher pollution levels."
   ]
  },
  {
   "cell_type": "code",
   "execution_count": 25,
   "id": "bf28b9a8",
   "metadata": {
    "execution": {
     "iopub.execute_input": "2024-09-26T15:47:57.610383Z",
     "iopub.status.busy": "2024-09-26T15:47:57.609274Z",
     "iopub.status.idle": "2024-09-26T15:47:57.962974Z",
     "shell.execute_reply": "2024-09-26T15:47:57.961846Z"
    },
    "papermill": {
     "duration": 0.377891,
     "end_time": "2024-09-26T15:47:57.965511",
     "exception": false,
     "start_time": "2024-09-26T15:47:57.587620",
     "status": "completed"
    },
    "tags": []
   },
   "outputs": [
    {
     "data": {
      "text/plain": [
       "<Axes: xlabel='Day_of_Week', ylabel='PM2.5'>"
      ]
     },
     "execution_count": 25,
     "metadata": {},
     "output_type": "execute_result"
    },
    {
     "data": {
      "image/png": "[encoded data removed]",
      "text/plain": [
       "<Figure size 2000x500 with 1 Axes>"
      ]
     },
     "metadata": {},
     "output_type": "display_data"
    }
   ],
   "source": [
    "air = df.groupby([\"Day_of_Week\"], as_index = False)[\"PM2.5\"].sum().sort_values(by=\"PM2.5\",ascending = False).head(10)\n",
    "\n",
    "sns.set(rc={\"figure.figsize\":(20,5)})\n",
    "sns.barplot(data = air,x = \"Day_of_Week\",y = \"PM2.5\" )"
   ]
  },
  {
   "cell_type": "markdown",
   "id": "f9d4030e",
   "metadata": {
    "papermill": {
     "duration": 0.019108,
     "end_time": "2024-09-26T15:47:58.004204",
     "exception": false,
     "start_time": "2024-09-26T15:47:57.985096",
     "status": "completed"
    },
    "tags": []
   },
   "source": [
    "This graph provides an overview of total PM2.5 pollution over each day of the week. PM2.5 levels appear to be very similar as you can see from the figure."
   ]
  },
  {
   "cell_type": "markdown",
   "id": "bcb986c9",
   "metadata": {
    "papermill": {
     "duration": 0.019355,
     "end_time": "2024-09-26T15:47:58.043506",
     "exception": false,
     "start_time": "2024-09-26T15:47:58.024151",
     "status": "completed"
    },
    "tags": []
   },
   "source": [
    "**Outliers**"
   ]
  },
  {
   "cell_type": "code",
   "execution_count": 26,
   "id": "8bcf7e99",
   "metadata": {
    "execution": {
     "iopub.execute_input": "2024-09-26T15:47:58.085114Z",
     "iopub.status.busy": "2024-09-26T15:47:58.084697Z",
     "iopub.status.idle": "2024-09-26T15:47:58.567710Z",
     "shell.execute_reply": "2024-09-26T15:47:58.566603Z"
    },
    "papermill": {
     "duration": 0.506958,
     "end_time": "2024-09-26T15:47:58.570352",
     "exception": false,
     "start_time": "2024-09-26T15:47:58.063394",
     "status": "completed"
    },
    "tags": []
   },
   "outputs": [
    {
     "data": {
      "image/png": "[encoded data removed]",
      "text/plain": [
       "<Figure size 2000x500 with 1 Axes>"
      ]
     },
     "metadata": {},
     "output_type": "display_data"
    }
   ],
   "source": [
    "df.boxplot()\n",
    "plt.xticks(rotation=45)\n",
    "plt.show()"
   ]
  },
  {
   "cell_type": "code",
   "execution_count": 27,
   "id": "d2292681",
   "metadata": {
    "execution": {
     "iopub.execute_input": "2024-09-26T15:47:58.612367Z",
     "iopub.status.busy": "2024-09-26T15:47:58.611958Z",
     "iopub.status.idle": "2024-09-26T15:47:58.824871Z",
     "shell.execute_reply": "2024-09-26T15:47:58.823458Z"
    },
    "papermill": {
     "duration": 0.236899,
     "end_time": "2024-09-26T15:47:58.827278",
     "exception": false,
     "start_time": "2024-09-26T15:47:58.590379",
     "status": "completed"
    },
    "tags": []
   },
   "outputs": [
    {
     "data": {
      "text/plain": [
       "<Axes: >"
      ]
     },
     "execution_count": 27,
     "metadata": {},
     "output_type": "execute_result"
    },
    {
     "data": {
      "image/png": "[encoded data removed]",
      "text/plain": [
       "<Figure size 2000x500 with 1 Axes>"
      ]
     },
     "metadata": {},
     "output_type": "display_data"
    }
   ],
   "source": [
    "sns.boxplot(df[\"PM2.5\"])"
   ]
  },
  {
   "cell_type": "code",
   "execution_count": 28,
   "id": "993a983f",
   "metadata": {
    "execution": {
     "iopub.execute_input": "2024-09-26T15:47:58.870476Z",
     "iopub.status.busy": "2024-09-26T15:47:58.870050Z",
     "iopub.status.idle": "2024-09-26T15:47:58.882284Z",
     "shell.execute_reply": "2024-09-26T15:47:58.881164Z"
    },
    "papermill": {
     "duration": 0.036489,
     "end_time": "2024-09-26T15:47:58.884849",
     "exception": false,
     "start_time": "2024-09-26T15:47:58.848360",
     "status": "completed"
    },
    "tags": []
   },
   "outputs": [],
   "source": [
    "Q1 = df['PM2.5'].quantile(0.25)\n",
    "Q3 = df['PM2.5'].quantile(0.75)\n",
    "IQR = Q3 - Q1\n",
    "df_no_outliers = df[~((df['PM2.5'] < (Q1 - 1.5 * IQR)) | (df['PM2.5'] > (Q3 + 1.5 * IQR)))]"
   ]
  },
  {
   "cell_type": "code",
   "execution_count": 29,
   "id": "7ca95b64",
   "metadata": {
    "execution": {
     "iopub.execute_input": "2024-09-26T15:47:58.927605Z",
     "iopub.status.busy": "2024-09-26T15:47:58.927136Z",
     "iopub.status.idle": "2024-09-26T15:47:58.940854Z",
     "shell.execute_reply": "2024-09-26T15:47:58.939791Z"
    },
    "papermill": {
     "duration": 0.038005,
     "end_time": "2024-09-26T15:47:58.943244",
     "exception": false,
     "start_time": "2024-09-26T15:47:58.905239",
     "status": "completed"
    },
    "tags": []
   },
   "outputs": [
    {
     "data": {
      "text/html": [
       "<div>\n",
       "<style scoped>\n",
       "    .dataframe tbody tr th:only-of-type {\n",
       "        vertical-align: middle;\n",
       "    }\n",
       "\n",
       "    .dataframe tbody tr th {\n",
       "        vertical-align: top;\n",
       "    }\n",
       "\n",
       "    .dataframe thead th {\n",
       "        text-align: right;\n",
       "    }\n",
       "</style>\n",
       "<table border=\"1\" class=\"dataframe\">\n",
       "  <thead>\n",
       "    <tr style=\"text-align: right;\">\n",
       "      <th></th>\n",
       "      <th>Timestamp</th>\n",
       "      <th>Year</th>\n",
       "      <th>Month</th>\n",
       "      <th>Day</th>\n",
       "      <th>Hour</th>\n",
       "      <th>PM2.5</th>\n",
       "      <th>Day_of_Week</th>\n",
       "      <th>Season</th>\n",
       "    </tr>\n",
       "  </thead>\n",
       "  <tbody>\n",
       "    <tr>\n",
       "      <th>0</th>\n",
       "      <td>2017-11-07 12:00:00</td>\n",
       "      <td>2017</td>\n",
       "      <td>11</td>\n",
       "      <td>7</td>\n",
       "      <td>12</td>\n",
       "      <td>64.51</td>\n",
       "      <td>1</td>\n",
       "      <td>Autumn</td>\n",
       "    </tr>\n",
       "    <tr>\n",
       "      <th>1</th>\n",
       "      <td>2017-11-07 13:00:00</td>\n",
       "      <td>2017</td>\n",
       "      <td>11</td>\n",
       "      <td>7</td>\n",
       "      <td>13</td>\n",
       "      <td>69.95</td>\n",
       "      <td>1</td>\n",
       "      <td>Autumn</td>\n",
       "    </tr>\n",
       "  </tbody>\n",
       "</table>\n",
       "</div>"
      ],
      "text/plain": [
       "            Timestamp  Year  Month  Day  Hour  PM2.5  Day_of_Week  Season\n",
       "0 2017-11-07 12:00:00  2017     11    7    12  64.51            1  Autumn\n",
       "1 2017-11-07 13:00:00  2017     11    7    13  69.95            1  Autumn"
      ]
     },
     "execution_count": 29,
     "metadata": {},
     "output_type": "execute_result"
    }
   ],
   "source": [
    "df_no_outliers.head(2)"
   ]
  },
  {
   "cell_type": "markdown",
   "id": "58bf5705",
   "metadata": {
    "papermill": {
     "duration": 0.020558,
     "end_time": "2024-09-26T15:47:58.984712",
     "exception": false,
     "start_time": "2024-09-26T15:47:58.964154",
     "status": "completed"
    },
    "tags": []
   },
   "source": [
    "**Handling Outliers**"
   ]
  },
  {
   "cell_type": "code",
   "execution_count": 30,
   "id": "5ad9b4bf",
   "metadata": {
    "execution": {
     "iopub.execute_input": "2024-09-26T15:47:59.028125Z",
     "iopub.status.busy": "2024-09-26T15:47:59.027717Z",
     "iopub.status.idle": "2024-09-26T15:47:59.037591Z",
     "shell.execute_reply": "2024-09-26T15:47:59.036599Z"
    },
    "papermill": {
     "duration": 0.034324,
     "end_time": "2024-09-26T15:47:59.040147",
     "exception": false,
     "start_time": "2024-09-26T15:47:59.005823",
     "status": "completed"
    },
    "tags": []
   },
   "outputs": [],
   "source": [
    "upper_limit = df['PM2.5'].quantile(0.95)\n",
    "lower_limit = df['PM2.5'].quantile(0.05)\n",
    "\n",
    "df['PM2.5'] = np.where(df['PM2.5'] > upper_limit, upper_limit, df['PM2.5'])\n",
    "df['PM2.5'] = np.where(df['PM2.5'] < lower_limit, lower_limit, df['PM2.5'])"
   ]
  },
  {
   "cell_type": "code",
   "execution_count": 31,
   "id": "123104ff",
   "metadata": {
    "execution": {
     "iopub.execute_input": "2024-09-26T15:47:59.082661Z",
     "iopub.status.busy": "2024-09-26T15:47:59.082159Z",
     "iopub.status.idle": "2024-09-26T15:47:59.096384Z",
     "shell.execute_reply": "2024-09-26T15:47:59.095337Z"
    },
    "papermill": {
     "duration": 0.038053,
     "end_time": "2024-09-26T15:47:59.098583",
     "exception": false,
     "start_time": "2024-09-26T15:47:59.060530",
     "status": "completed"
    },
    "tags": []
   },
   "outputs": [
    {
     "data": {
      "text/html": [
       "<div>\n",
       "<style scoped>\n",
       "    .dataframe tbody tr th:only-of-type {\n",
       "        vertical-align: middle;\n",
       "    }\n",
       "\n",
       "    .dataframe tbody tr th {\n",
       "        vertical-align: top;\n",
       "    }\n",
       "\n",
       "    .dataframe thead th {\n",
       "        text-align: right;\n",
       "    }\n",
       "</style>\n",
       "<table border=\"1\" class=\"dataframe\">\n",
       "  <thead>\n",
       "    <tr style=\"text-align: right;\">\n",
       "      <th></th>\n",
       "      <th>Timestamp</th>\n",
       "      <th>Year</th>\n",
       "      <th>Month</th>\n",
       "      <th>Day</th>\n",
       "      <th>Hour</th>\n",
       "      <th>PM2.5</th>\n",
       "      <th>Day_of_Week</th>\n",
       "      <th>Season</th>\n",
       "    </tr>\n",
       "  </thead>\n",
       "  <tbody>\n",
       "    <tr>\n",
       "      <th>0</th>\n",
       "      <td>2017-11-07 12:00:00</td>\n",
       "      <td>2017</td>\n",
       "      <td>11</td>\n",
       "      <td>7</td>\n",
       "      <td>12</td>\n",
       "      <td>64.5100</td>\n",
       "      <td>1</td>\n",
       "      <td>Autumn</td>\n",
       "    </tr>\n",
       "    <tr>\n",
       "      <th>1</th>\n",
       "      <td>2017-11-07 13:00:00</td>\n",
       "      <td>2017</td>\n",
       "      <td>11</td>\n",
       "      <td>7</td>\n",
       "      <td>13</td>\n",
       "      <td>69.9500</td>\n",
       "      <td>1</td>\n",
       "      <td>Autumn</td>\n",
       "    </tr>\n",
       "    <tr>\n",
       "      <th>2</th>\n",
       "      <td>2017-11-07 14:00:00</td>\n",
       "      <td>2017</td>\n",
       "      <td>11</td>\n",
       "      <td>7</td>\n",
       "      <td>14</td>\n",
       "      <td>92.7900</td>\n",
       "      <td>1</td>\n",
       "      <td>Autumn</td>\n",
       "    </tr>\n",
       "    <tr>\n",
       "      <th>3</th>\n",
       "      <td>2017-11-07 15:00:00</td>\n",
       "      <td>2017</td>\n",
       "      <td>11</td>\n",
       "      <td>7</td>\n",
       "      <td>15</td>\n",
       "      <td>95.2245</td>\n",
       "      <td>1</td>\n",
       "      <td>Autumn</td>\n",
       "    </tr>\n",
       "    <tr>\n",
       "      <th>4</th>\n",
       "      <td>2017-11-07 16:00:00</td>\n",
       "      <td>2017</td>\n",
       "      <td>11</td>\n",
       "      <td>7</td>\n",
       "      <td>16</td>\n",
       "      <td>95.2245</td>\n",
       "      <td>1</td>\n",
       "      <td>Autumn</td>\n",
       "    </tr>\n",
       "    <tr>\n",
       "      <th>5</th>\n",
       "      <td>2017-11-07 17:00:00</td>\n",
       "      <td>2017</td>\n",
       "      <td>11</td>\n",
       "      <td>7</td>\n",
       "      <td>17</td>\n",
       "      <td>95.2245</td>\n",
       "      <td>1</td>\n",
       "      <td>Autumn</td>\n",
       "    </tr>\n",
       "    <tr>\n",
       "      <th>6</th>\n",
       "      <td>2017-11-07 18:00:00</td>\n",
       "      <td>2017</td>\n",
       "      <td>11</td>\n",
       "      <td>7</td>\n",
       "      <td>18</td>\n",
       "      <td>95.2245</td>\n",
       "      <td>1</td>\n",
       "      <td>Autumn</td>\n",
       "    </tr>\n",
       "    <tr>\n",
       "      <th>7</th>\n",
       "      <td>2017-11-07 19:00:00</td>\n",
       "      <td>2017</td>\n",
       "      <td>11</td>\n",
       "      <td>7</td>\n",
       "      <td>19</td>\n",
       "      <td>95.2245</td>\n",
       "      <td>1</td>\n",
       "      <td>Autumn</td>\n",
       "    </tr>\n",
       "  </tbody>\n",
       "</table>\n",
       "</div>"
      ],
      "text/plain": [
       "            Timestamp  Year  Month  Day  Hour    PM2.5  Day_of_Week  Season\n",
       "0 2017-11-07 12:00:00  2017     11    7    12  64.5100            1  Autumn\n",
       "1 2017-11-07 13:00:00  2017     11    7    13  69.9500            1  Autumn\n",
       "2 2017-11-07 14:00:00  2017     11    7    14  92.7900            1  Autumn\n",
       "3 2017-11-07 15:00:00  2017     11    7    15  95.2245            1  Autumn\n",
       "4 2017-11-07 16:00:00  2017     11    7    16  95.2245            1  Autumn\n",
       "5 2017-11-07 17:00:00  2017     11    7    17  95.2245            1  Autumn\n",
       "6 2017-11-07 18:00:00  2017     11    7    18  95.2245            1  Autumn\n",
       "7 2017-11-07 19:00:00  2017     11    7    19  95.2245            1  Autumn"
      ]
     },
     "execution_count": 31,
     "metadata": {},
     "output_type": "execute_result"
    }
   ],
   "source": [
    "df.head(8)"
   ]
  },
  {
   "cell_type": "code",
   "execution_count": 32,
   "id": "9792c285",
   "metadata": {
    "execution": {
     "iopub.execute_input": "2024-09-26T15:47:59.142265Z",
     "iopub.status.busy": "2024-09-26T15:47:59.141855Z",
     "iopub.status.idle": "2024-09-26T15:47:59.157724Z",
     "shell.execute_reply": "2024-09-26T15:47:59.156572Z"
    },
    "papermill": {
     "duration": 0.040802,
     "end_time": "2024-09-26T15:47:59.160165",
     "exception": false,
     "start_time": "2024-09-26T15:47:59.119363",
     "status": "completed"
    },
    "tags": []
   },
   "outputs": [
    {
     "data": {
      "text/html": [
       "<div>\n",
       "<style scoped>\n",
       "    .dataframe tbody tr th:only-of-type {\n",
       "        vertical-align: middle;\n",
       "    }\n",
       "\n",
       "    .dataframe tbody tr th {\n",
       "        vertical-align: top;\n",
       "    }\n",
       "\n",
       "    .dataframe thead th {\n",
       "        text-align: right;\n",
       "    }\n",
       "</style>\n",
       "<table border=\"1\" class=\"dataframe\">\n",
       "  <thead>\n",
       "    <tr style=\"text-align: right;\">\n",
       "      <th></th>\n",
       "      <th>Year</th>\n",
       "      <th>Month</th>\n",
       "      <th>Day</th>\n",
       "      <th>Hour</th>\n",
       "      <th>PM2.5</th>\n",
       "      <th>Day_of_Week</th>\n",
       "      <th>Season</th>\n",
       "    </tr>\n",
       "  </thead>\n",
       "  <tbody>\n",
       "    <tr>\n",
       "      <th>0</th>\n",
       "      <td>2017</td>\n",
       "      <td>11</td>\n",
       "      <td>7</td>\n",
       "      <td>12</td>\n",
       "      <td>64.5100</td>\n",
       "      <td>1</td>\n",
       "      <td>Autumn</td>\n",
       "    </tr>\n",
       "    <tr>\n",
       "      <th>1</th>\n",
       "      <td>2017</td>\n",
       "      <td>11</td>\n",
       "      <td>7</td>\n",
       "      <td>13</td>\n",
       "      <td>69.9500</td>\n",
       "      <td>1</td>\n",
       "      <td>Autumn</td>\n",
       "    </tr>\n",
       "    <tr>\n",
       "      <th>2</th>\n",
       "      <td>2017</td>\n",
       "      <td>11</td>\n",
       "      <td>7</td>\n",
       "      <td>14</td>\n",
       "      <td>92.7900</td>\n",
       "      <td>1</td>\n",
       "      <td>Autumn</td>\n",
       "    </tr>\n",
       "    <tr>\n",
       "      <th>3</th>\n",
       "      <td>2017</td>\n",
       "      <td>11</td>\n",
       "      <td>7</td>\n",
       "      <td>15</td>\n",
       "      <td>95.2245</td>\n",
       "      <td>1</td>\n",
       "      <td>Autumn</td>\n",
       "    </tr>\n",
       "    <tr>\n",
       "      <th>4</th>\n",
       "      <td>2017</td>\n",
       "      <td>11</td>\n",
       "      <td>7</td>\n",
       "      <td>16</td>\n",
       "      <td>95.2245</td>\n",
       "      <td>1</td>\n",
       "      <td>Autumn</td>\n",
       "    </tr>\n",
       "    <tr>\n",
       "      <th>...</th>\n",
       "      <td>...</td>\n",
       "      <td>...</td>\n",
       "      <td>...</td>\n",
       "      <td>...</td>\n",
       "      <td>...</td>\n",
       "      <td>...</td>\n",
       "      <td>...</td>\n",
       "    </tr>\n",
       "    <tr>\n",
       "      <th>36187</th>\n",
       "      <td>2022</td>\n",
       "      <td>6</td>\n",
       "      <td>4</td>\n",
       "      <td>11</td>\n",
       "      <td>35.8900</td>\n",
       "      <td>5</td>\n",
       "      <td>Monsoon</td>\n",
       "    </tr>\n",
       "    <tr>\n",
       "      <th>36188</th>\n",
       "      <td>2022</td>\n",
       "      <td>6</td>\n",
       "      <td>4</td>\n",
       "      <td>12</td>\n",
       "      <td>33.8300</td>\n",
       "      <td>5</td>\n",
       "      <td>Monsoon</td>\n",
       "    </tr>\n",
       "    <tr>\n",
       "      <th>36189</th>\n",
       "      <td>2022</td>\n",
       "      <td>6</td>\n",
       "      <td>4</td>\n",
       "      <td>13</td>\n",
       "      <td>33.0500</td>\n",
       "      <td>5</td>\n",
       "      <td>Monsoon</td>\n",
       "    </tr>\n",
       "    <tr>\n",
       "      <th>36190</th>\n",
       "      <td>2022</td>\n",
       "      <td>6</td>\n",
       "      <td>4</td>\n",
       "      <td>14</td>\n",
       "      <td>35.2900</td>\n",
       "      <td>5</td>\n",
       "      <td>Monsoon</td>\n",
       "    </tr>\n",
       "    <tr>\n",
       "      <th>36191</th>\n",
       "      <td>2022</td>\n",
       "      <td>6</td>\n",
       "      <td>4</td>\n",
       "      <td>15</td>\n",
       "      <td>40.6700</td>\n",
       "      <td>5</td>\n",
       "      <td>Monsoon</td>\n",
       "    </tr>\n",
       "  </tbody>\n",
       "</table>\n",
       "<p>36192 rows × 7 columns</p>\n",
       "</div>"
      ],
      "text/plain": [
       "       Year  Month  Day  Hour    PM2.5  Day_of_Week   Season\n",
       "0      2017     11    7    12  64.5100            1   Autumn\n",
       "1      2017     11    7    13  69.9500            1   Autumn\n",
       "2      2017     11    7    14  92.7900            1   Autumn\n",
       "3      2017     11    7    15  95.2245            1   Autumn\n",
       "4      2017     11    7    16  95.2245            1   Autumn\n",
       "...     ...    ...  ...   ...      ...          ...      ...\n",
       "36187  2022      6    4    11  35.8900            5  Monsoon\n",
       "36188  2022      6    4    12  33.8300            5  Monsoon\n",
       "36189  2022      6    4    13  33.0500            5  Monsoon\n",
       "36190  2022      6    4    14  35.2900            5  Monsoon\n",
       "36191  2022      6    4    15  40.6700            5  Monsoon\n",
       "\n",
       "[36192 rows x 7 columns]"
      ]
     },
     "execution_count": 32,
     "metadata": {},
     "output_type": "execute_result"
    }
   ],
   "source": [
    "df = df.drop([\"Timestamp\"],axis=1)\n",
    "df"
   ]
  },
  {
   "cell_type": "markdown",
   "id": "10ac1a1f",
   "metadata": {
    "papermill": {
     "duration": 0.020587,
     "end_time": "2024-09-26T15:47:59.202111",
     "exception": false,
     "start_time": "2024-09-26T15:47:59.181524",
     "status": "completed"
    },
    "tags": []
   },
   "source": [
    "**Encoder**"
   ]
  },
  {
   "cell_type": "code",
   "execution_count": 33,
   "id": "807541a9",
   "metadata": {
    "execution": {
     "iopub.execute_input": "2024-09-26T15:47:59.246041Z",
     "iopub.status.busy": "2024-09-26T15:47:59.245630Z",
     "iopub.status.idle": "2024-09-26T15:47:59.405276Z",
     "shell.execute_reply": "2024-09-26T15:47:59.404025Z"
    },
    "papermill": {
     "duration": 0.184377,
     "end_time": "2024-09-26T15:47:59.407930",
     "exception": false,
     "start_time": "2024-09-26T15:47:59.223553",
     "status": "completed"
    },
    "tags": []
   },
   "outputs": [],
   "source": [
    "from sklearn.preprocessing import LabelEncoder\n",
    "\n",
    "le = LabelEncoder()\n",
    "df[\"Season\"] = le.fit_transform(df['Season'])"
   ]
  },
  {
   "cell_type": "markdown",
   "id": "4b10c8aa",
   "metadata": {
    "papermill": {
     "duration": 0.020682,
     "end_time": "2024-09-26T15:47:59.449579",
     "exception": false,
     "start_time": "2024-09-26T15:47:59.428897",
     "status": "completed"
    },
    "tags": []
   },
   "source": [
    "**Correlation**"
   ]
  },
  {
   "cell_type": "code",
   "execution_count": 34,
   "id": "99865692",
   "metadata": {
    "execution": {
     "iopub.execute_input": "2024-09-26T15:47:59.493090Z",
     "iopub.status.busy": "2024-09-26T15:47:59.492675Z",
     "iopub.status.idle": "2024-09-26T15:47:59.986979Z",
     "shell.execute_reply": "2024-09-26T15:47:59.985767Z"
    },
    "papermill": {
     "duration": 0.519028,
     "end_time": "2024-09-26T15:47:59.989479",
     "exception": false,
     "start_time": "2024-09-26T15:47:59.470451",
     "status": "completed"
    },
    "tags": []
   },
   "outputs": [
    {
     "data": {
      "image/png": "[encoded data removed]",
      "text/plain": [
       "<Figure size 1600x800 with 2 Axes>"
      ]
     },
     "metadata": {},
     "output_type": "display_data"
    }
   ],
   "source": [
    "plt.figure(figsize=(16, 8))\n",
    "sns.heatmap(df.corr(), cmap='coolwarm', annot=True,fmt=\".1f\",linewidths=.5)\n",
    "plt.show()"
   ]
  },
  {
   "cell_type": "markdown",
   "id": "95529a0c",
   "metadata": {
    "papermill": {
     "duration": 0.022155,
     "end_time": "2024-09-26T15:48:00.034178",
     "exception": false,
     "start_time": "2024-09-26T15:48:00.012023",
     "status": "completed"
    },
    "tags": []
   },
   "source": [
    "**Split Data into Train and Test**\n",
    "\n"
   ]
  },
  {
   "cell_type": "code",
   "execution_count": 35,
   "id": "b3a8ea2a",
   "metadata": {
    "execution": {
     "iopub.execute_input": "2024-09-26T15:48:00.079387Z",
     "iopub.status.busy": "2024-09-26T15:48:00.078960Z",
     "iopub.status.idle": "2024-09-26T15:48:00.085311Z",
     "shell.execute_reply": "2024-09-26T15:48:00.084262Z"
    },
    "papermill": {
     "duration": 0.031517,
     "end_time": "2024-09-26T15:48:00.087527",
     "exception": false,
     "start_time": "2024-09-26T15:48:00.056010",
     "status": "completed"
    },
    "tags": []
   },
   "outputs": [],
   "source": [
    "X = df.drop([\"PM2.5\"],axis=1)\n",
    "y = df[\"PM2.5\"]"
   ]
  },
  {
   "cell_type": "code",
   "execution_count": 36,
   "id": "e3c1ed45",
   "metadata": {
    "execution": {
     "iopub.execute_input": "2024-09-26T15:48:00.132896Z",
     "iopub.status.busy": "2024-09-26T15:48:00.132485Z",
     "iopub.status.idle": "2024-09-26T15:48:00.244866Z",
     "shell.execute_reply": "2024-09-26T15:48:00.243805Z"
    },
    "papermill": {
     "duration": 0.137961,
     "end_time": "2024-09-26T15:48:00.247463",
     "exception": false,
     "start_time": "2024-09-26T15:48:00.109502",
     "status": "completed"
    },
    "tags": []
   },
   "outputs": [],
   "source": [
    "from sklearn.model_selection import train_test_split\n",
    "X_train, X_test, y_train, y_test = train_test_split(X, y, test_size = 0.20, random_state = 42, shuffle=True)"
   ]
  },
  {
   "cell_type": "code",
   "execution_count": 37,
   "id": "0e618468",
   "metadata": {
    "execution": {
     "iopub.execute_input": "2024-09-26T15:48:00.293338Z",
     "iopub.status.busy": "2024-09-26T15:48:00.292939Z",
     "iopub.status.idle": "2024-09-26T15:48:00.306284Z",
     "shell.execute_reply": "2024-09-26T15:48:00.305234Z"
    },
    "papermill": {
     "duration": 0.038489,
     "end_time": "2024-09-26T15:48:00.308472",
     "exception": false,
     "start_time": "2024-09-26T15:48:00.269983",
     "status": "completed"
    },
    "tags": []
   },
   "outputs": [
    {
     "data": {
      "text/html": [
       "<div>\n",
       "<style scoped>\n",
       "    .dataframe tbody tr th:only-of-type {\n",
       "        vertical-align: middle;\n",
       "    }\n",
       "\n",
       "    .dataframe tbody tr th {\n",
       "        vertical-align: top;\n",
       "    }\n",
       "\n",
       "    .dataframe thead th {\n",
       "        text-align: right;\n",
       "    }\n",
       "</style>\n",
       "<table border=\"1\" class=\"dataframe\">\n",
       "  <thead>\n",
       "    <tr style=\"text-align: right;\">\n",
       "      <th></th>\n",
       "      <th>Year</th>\n",
       "      <th>Month</th>\n",
       "      <th>Day</th>\n",
       "      <th>Hour</th>\n",
       "      <th>Day_of_Week</th>\n",
       "      <th>Season</th>\n",
       "    </tr>\n",
       "  </thead>\n",
       "  <tbody>\n",
       "    <tr>\n",
       "      <th>3525</th>\n",
       "      <td>2018</td>\n",
       "      <td>4</td>\n",
       "      <td>27</td>\n",
       "      <td>11</td>\n",
       "      <td>4</td>\n",
       "      <td>2</td>\n",
       "    </tr>\n",
       "    <tr>\n",
       "      <th>32483</th>\n",
       "      <td>2021</td>\n",
       "      <td>12</td>\n",
       "      <td>9</td>\n",
       "      <td>23</td>\n",
       "      <td>3</td>\n",
       "      <td>3</td>\n",
       "    </tr>\n",
       "    <tr>\n",
       "      <th>2390</th>\n",
       "      <td>2018</td>\n",
       "      <td>3</td>\n",
       "      <td>1</td>\n",
       "      <td>3</td>\n",
       "      <td>3</td>\n",
       "      <td>2</td>\n",
       "    </tr>\n",
       "    <tr>\n",
       "      <th>30351</th>\n",
       "      <td>2021</td>\n",
       "      <td>9</td>\n",
       "      <td>4</td>\n",
       "      <td>4</td>\n",
       "      <td>5</td>\n",
       "      <td>0</td>\n",
       "    </tr>\n",
       "    <tr>\n",
       "      <th>25856</th>\n",
       "      <td>2021</td>\n",
       "      <td>2</td>\n",
       "      <td>17</td>\n",
       "      <td>13</td>\n",
       "      <td>2</td>\n",
       "      <td>3</td>\n",
       "    </tr>\n",
       "    <tr>\n",
       "      <th>...</th>\n",
       "      <td>...</td>\n",
       "      <td>...</td>\n",
       "      <td>...</td>\n",
       "      <td>...</td>\n",
       "      <td>...</td>\n",
       "      <td>...</td>\n",
       "    </tr>\n",
       "    <tr>\n",
       "      <th>16850</th>\n",
       "      <td>2020</td>\n",
       "      <td>1</td>\n",
       "      <td>21</td>\n",
       "      <td>11</td>\n",
       "      <td>1</td>\n",
       "      <td>3</td>\n",
       "    </tr>\n",
       "    <tr>\n",
       "      <th>6265</th>\n",
       "      <td>2018</td>\n",
       "      <td>9</td>\n",
       "      <td>10</td>\n",
       "      <td>3</td>\n",
       "      <td>0</td>\n",
       "      <td>0</td>\n",
       "    </tr>\n",
       "    <tr>\n",
       "      <th>11284</th>\n",
       "      <td>2019</td>\n",
       "      <td>4</td>\n",
       "      <td>22</td>\n",
       "      <td>5</td>\n",
       "      <td>0</td>\n",
       "      <td>2</td>\n",
       "    </tr>\n",
       "    <tr>\n",
       "      <th>860</th>\n",
       "      <td>2017</td>\n",
       "      <td>12</td>\n",
       "      <td>19</td>\n",
       "      <td>22</td>\n",
       "      <td>1</td>\n",
       "      <td>3</td>\n",
       "    </tr>\n",
       "    <tr>\n",
       "      <th>15795</th>\n",
       "      <td>2019</td>\n",
       "      <td>12</td>\n",
       "      <td>8</td>\n",
       "      <td>11</td>\n",
       "      <td>6</td>\n",
       "      <td>3</td>\n",
       "    </tr>\n",
       "  </tbody>\n",
       "</table>\n",
       "<p>28953 rows × 6 columns</p>\n",
       "</div>"
      ],
      "text/plain": [
       "       Year  Month  Day  Hour  Day_of_Week  Season\n",
       "3525   2018      4   27    11            4       2\n",
       "32483  2021     12    9    23            3       3\n",
       "2390   2018      3    1     3            3       2\n",
       "30351  2021      9    4     4            5       0\n",
       "25856  2021      2   17    13            2       3\n",
       "...     ...    ...  ...   ...          ...     ...\n",
       "16850  2020      1   21    11            1       3\n",
       "6265   2018      9   10     3            0       0\n",
       "11284  2019      4   22     5            0       2\n",
       "860    2017     12   19    22            1       3\n",
       "15795  2019     12    8    11            6       3\n",
       "\n",
       "[28953 rows x 6 columns]"
      ]
     },
     "execution_count": 37,
     "metadata": {},
     "output_type": "execute_result"
    }
   ],
   "source": [
    "X_train"
   ]
  },
  {
   "cell_type": "code",
   "execution_count": 38,
   "id": "5848ee9d",
   "metadata": {
    "execution": {
     "iopub.execute_input": "2024-09-26T15:48:00.354311Z",
     "iopub.status.busy": "2024-09-26T15:48:00.353906Z",
     "iopub.status.idle": "2024-09-26T15:48:00.365585Z",
     "shell.execute_reply": "2024-09-26T15:48:00.364476Z"
    },
    "papermill": {
     "duration": 0.037326,
     "end_time": "2024-09-26T15:48:00.367957",
     "exception": false,
     "start_time": "2024-09-26T15:48:00.330631",
     "status": "completed"
    },
    "tags": []
   },
   "outputs": [
    {
     "data": {
      "text/html": [
       "<div>\n",
       "<style scoped>\n",
       "    .dataframe tbody tr th:only-of-type {\n",
       "        vertical-align: middle;\n",
       "    }\n",
       "\n",
       "    .dataframe tbody tr th {\n",
       "        vertical-align: top;\n",
       "    }\n",
       "\n",
       "    .dataframe thead th {\n",
       "        text-align: right;\n",
       "    }\n",
       "</style>\n",
       "<table border=\"1\" class=\"dataframe\">\n",
       "  <thead>\n",
       "    <tr style=\"text-align: right;\">\n",
       "      <th></th>\n",
       "      <th>PM2.5</th>\n",
       "    </tr>\n",
       "  </thead>\n",
       "  <tbody>\n",
       "    <tr>\n",
       "      <th>23802</th>\n",
       "      <td>77.4400</td>\n",
       "    </tr>\n",
       "    <tr>\n",
       "      <th>14854</th>\n",
       "      <td>38.7000</td>\n",
       "    </tr>\n",
       "    <tr>\n",
       "      <th>1278</th>\n",
       "      <td>95.2245</td>\n",
       "    </tr>\n",
       "    <tr>\n",
       "      <th>12837</th>\n",
       "      <td>18.5000</td>\n",
       "    </tr>\n",
       "    <tr>\n",
       "      <th>33196</th>\n",
       "      <td>40.5400</td>\n",
       "    </tr>\n",
       "    <tr>\n",
       "      <th>...</th>\n",
       "      <td>...</td>\n",
       "    </tr>\n",
       "    <tr>\n",
       "      <th>8237</th>\n",
       "      <td>95.2245</td>\n",
       "    </tr>\n",
       "    <tr>\n",
       "      <th>7539</th>\n",
       "      <td>56.8500</td>\n",
       "    </tr>\n",
       "    <tr>\n",
       "      <th>16134</th>\n",
       "      <td>73.9800</td>\n",
       "    </tr>\n",
       "    <tr>\n",
       "      <th>28474</th>\n",
       "      <td>23.5700</td>\n",
       "    </tr>\n",
       "    <tr>\n",
       "      <th>4794</th>\n",
       "      <td>30.9500</td>\n",
       "    </tr>\n",
       "  </tbody>\n",
       "</table>\n",
       "<p>7239 rows × 1 columns</p>\n",
       "</div>"
      ],
      "text/plain": [
       "         PM2.5\n",
       "23802  77.4400\n",
       "14854  38.7000\n",
       "1278   95.2245\n",
       "12837  18.5000\n",
       "33196  40.5400\n",
       "...        ...\n",
       "8237   95.2245\n",
       "7539   56.8500\n",
       "16134  73.9800\n",
       "28474  23.5700\n",
       "4794   30.9500\n",
       "\n",
       "[7239 rows x 1 columns]"
      ]
     },
     "execution_count": 38,
     "metadata": {},
     "output_type": "execute_result"
    }
   ],
   "source": [
    "pd.DataFrame(y_test)"
   ]
  },
  {
   "cell_type": "code",
   "execution_count": 39,
   "id": "46d5809d",
   "metadata": {
    "execution": {
     "iopub.execute_input": "2024-09-26T15:48:00.415090Z",
     "iopub.status.busy": "2024-09-26T15:48:00.414669Z",
     "iopub.status.idle": "2024-09-26T15:48:00.427106Z",
     "shell.execute_reply": "2024-09-26T15:48:00.426080Z"
    },
    "papermill": {
     "duration": 0.038948,
     "end_time": "2024-09-26T15:48:00.429543",
     "exception": false,
     "start_time": "2024-09-26T15:48:00.390595",
     "status": "completed"
    },
    "tags": []
   },
   "outputs": [
    {
     "data": {
      "text/html": [
       "<div>\n",
       "<style scoped>\n",
       "    .dataframe tbody tr th:only-of-type {\n",
       "        vertical-align: middle;\n",
       "    }\n",
       "\n",
       "    .dataframe tbody tr th {\n",
       "        vertical-align: top;\n",
       "    }\n",
       "\n",
       "    .dataframe thead th {\n",
       "        text-align: right;\n",
       "    }\n",
       "</style>\n",
       "<table border=\"1\" class=\"dataframe\">\n",
       "  <thead>\n",
       "    <tr style=\"text-align: right;\">\n",
       "      <th></th>\n",
       "      <th>PM2.5</th>\n",
       "    </tr>\n",
       "  </thead>\n",
       "  <tbody>\n",
       "    <tr>\n",
       "      <th>3525</th>\n",
       "      <td>41.8900</td>\n",
       "    </tr>\n",
       "    <tr>\n",
       "      <th>32483</th>\n",
       "      <td>54.6500</td>\n",
       "    </tr>\n",
       "    <tr>\n",
       "      <th>2390</th>\n",
       "      <td>75.8700</td>\n",
       "    </tr>\n",
       "    <tr>\n",
       "      <th>30351</th>\n",
       "      <td>18.5000</td>\n",
       "    </tr>\n",
       "    <tr>\n",
       "      <th>25856</th>\n",
       "      <td>46.6500</td>\n",
       "    </tr>\n",
       "    <tr>\n",
       "      <th>...</th>\n",
       "      <td>...</td>\n",
       "    </tr>\n",
       "    <tr>\n",
       "      <th>16850</th>\n",
       "      <td>58.3700</td>\n",
       "    </tr>\n",
       "    <tr>\n",
       "      <th>6265</th>\n",
       "      <td>24.7200</td>\n",
       "    </tr>\n",
       "    <tr>\n",
       "      <th>11284</th>\n",
       "      <td>46.7900</td>\n",
       "    </tr>\n",
       "    <tr>\n",
       "      <th>860</th>\n",
       "      <td>95.2245</td>\n",
       "    </tr>\n",
       "    <tr>\n",
       "      <th>15795</th>\n",
       "      <td>52.9700</td>\n",
       "    </tr>\n",
       "  </tbody>\n",
       "</table>\n",
       "<p>28953 rows × 1 columns</p>\n",
       "</div>"
      ],
      "text/plain": [
       "         PM2.5\n",
       "3525   41.8900\n",
       "32483  54.6500\n",
       "2390   75.8700\n",
       "30351  18.5000\n",
       "25856  46.6500\n",
       "...        ...\n",
       "16850  58.3700\n",
       "6265   24.7200\n",
       "11284  46.7900\n",
       "860    95.2245\n",
       "15795  52.9700\n",
       "\n",
       "[28953 rows x 1 columns]"
      ]
     },
     "execution_count": 39,
     "metadata": {},
     "output_type": "execute_result"
    }
   ],
   "source": [
    "pd.DataFrame(y_train)"
   ]
  },
  {
   "cell_type": "markdown",
   "id": "a951d93c",
   "metadata": {
    "papermill": {
     "duration": 0.022412,
     "end_time": "2024-09-26T15:48:00.474442",
     "exception": false,
     "start_time": "2024-09-26T15:48:00.452030",
     "status": "completed"
    },
    "tags": []
   },
   "source": [
    "**Models Regression**"
   ]
  },
  {
   "cell_type": "code",
   "execution_count": 40,
   "id": "53898be6",
   "metadata": {
    "execution": {
     "iopub.execute_input": "2024-09-26T15:48:00.521937Z",
     "iopub.status.busy": "2024-09-26T15:48:00.521028Z",
     "iopub.status.idle": "2024-09-26T15:48:00.768984Z",
     "shell.execute_reply": "2024-09-26T15:48:00.767767Z"
    },
    "papermill": {
     "duration": 0.274791,
     "end_time": "2024-09-26T15:48:00.771666",
     "exception": false,
     "start_time": "2024-09-26T15:48:00.496875",
     "status": "completed"
    },
    "tags": []
   },
   "outputs": [],
   "source": [
    "from sklearn import metrics\n",
    "from sklearn.svm import SVC\n",
    "from sklearn.linear_model import LinearRegression\n",
    "from sklearn.tree import DecisionTreeRegressor\n",
    "from sklearn.neighbors import KNeighborsRegressor\n",
    "from sklearn.ensemble import RandomForestRegressor, GradientBoostingRegressor\n",
    "from sklearn.metrics import mean_squared_error, r2_score, mean_absolute_error\n"
   ]
  },
  {
   "cell_type": "code",
   "execution_count": 41,
   "id": "a7d3e2d0",
   "metadata": {
    "execution": {
     "iopub.execute_input": "2024-09-26T15:48:00.821141Z",
     "iopub.status.busy": "2024-09-26T15:48:00.820729Z",
     "iopub.status.idle": "2024-09-26T15:48:00.827246Z",
     "shell.execute_reply": "2024-09-26T15:48:00.826136Z"
    },
    "papermill": {
     "duration": 0.035081,
     "end_time": "2024-09-26T15:48:00.829534",
     "exception": false,
     "start_time": "2024-09-26T15:48:00.794453",
     "status": "completed"
    },
    "tags": []
   },
   "outputs": [],
   "source": [
    "def all(model):\n",
    "    model.fit(X_train,y_train.astype(int))\n",
    "    y_pred = model.predict(X_test)\n",
    "    print(\"score_test=\", model.score(X_test ,y_test.astype(int))*100)\n",
    "    print(\"score_train=\", model.score(X_train ,y_train.astype(int))*100)   \n",
    "    print(\"mean_absolute_error=\", metrics.mean_absolute_error(y_test, y_pred))"
   ]
  },
  {
   "cell_type": "code",
   "execution_count": 42,
   "id": "d612abff",
   "metadata": {
    "execution": {
     "iopub.execute_input": "2024-09-26T15:48:00.876805Z",
     "iopub.status.busy": "2024-09-26T15:48:00.876259Z",
     "iopub.status.idle": "2024-09-26T15:48:01.577547Z",
     "shell.execute_reply": "2024-09-26T15:48:01.576188Z"
    },
    "papermill": {
     "duration": 0.727957,
     "end_time": "2024-09-26T15:48:01.580291",
     "exception": false,
     "start_time": "2024-09-26T15:48:00.852334",
     "status": "completed"
    },
    "tags": []
   },
   "outputs": [
    {
     "name": "stdout",
     "output_type": "stream",
     "text": [
      "score_test= 88.81604432248666\n",
      "score_train= 91.82526988782675\n",
      "mean_absolute_error= 5.558083506009116\n"
     ]
    }
   ],
   "source": [
    "model1=KNeighborsRegressor(n_neighbors=8,algorithm=\"kd_tree\", leaf_size=40)\n",
    "all(model1)"
   ]
  },
  {
   "cell_type": "code",
   "execution_count": 43,
   "id": "76b2f1ea",
   "metadata": {
    "execution": {
     "iopub.execute_input": "2024-09-26T15:48:01.630101Z",
     "iopub.status.busy": "2024-09-26T15:48:01.629511Z",
     "iopub.status.idle": "2024-09-26T15:48:01.738117Z",
     "shell.execute_reply": "2024-09-26T15:48:01.736955Z"
    },
    "papermill": {
     "duration": 0.136093,
     "end_time": "2024-09-26T15:48:01.740549",
     "exception": false,
     "start_time": "2024-09-26T15:48:01.604456",
     "status": "completed"
    },
    "tags": []
   },
   "outputs": [
    {
     "name": "stdout",
     "output_type": "stream",
     "text": [
      "score_test= 95.16960613097477\n",
      "score_train= 100.0\n",
      "mean_absolute_error= 2.955333816825527\n"
     ]
    }
   ],
   "source": [
    "model2=DecisionTreeRegressor()\n",
    "all(model2)"
   ]
  },
  {
   "cell_type": "code",
   "execution_count": 44,
   "id": "ac9503e7",
   "metadata": {
    "execution": {
     "iopub.execute_input": "2024-09-26T15:48:01.787859Z",
     "iopub.status.busy": "2024-09-26T15:48:01.787414Z",
     "iopub.status.idle": "2024-09-26T15:48:01.831596Z",
     "shell.execute_reply": "2024-09-26T15:48:01.829774Z"
    },
    "papermill": {
     "duration": 0.071021,
     "end_time": "2024-09-26T15:48:01.834321",
     "exception": false,
     "start_time": "2024-09-26T15:48:01.763300",
     "status": "completed"
    },
    "tags": []
   },
   "outputs": [
    {
     "name": "stdout",
     "output_type": "stream",
     "text": [
      "score_test= 29.35959256968761\n",
      "score_train= 28.102512706565886\n",
      "mean_absolute_error= 15.560877359514121\n"
     ]
    }
   ],
   "source": [
    "model3=LinearRegression()\n",
    "all(model3)"
   ]
  },
  {
   "cell_type": "code",
   "execution_count": 45,
   "id": "042e1e92",
   "metadata": {
    "execution": {
     "iopub.execute_input": "2024-09-26T15:48:01.953089Z",
     "iopub.status.busy": "2024-09-26T15:48:01.951906Z",
     "iopub.status.idle": "2024-09-26T15:48:06.260014Z",
     "shell.execute_reply": "2024-09-26T15:48:06.258999Z"
    },
    "papermill": {
     "duration": 4.36219,
     "end_time": "2024-09-26T15:48:06.262496",
     "exception": false,
     "start_time": "2024-09-26T15:48:01.900306",
     "status": "completed"
    },
    "tags": []
   },
   "outputs": [
    {
     "name": "stdout",
     "output_type": "stream",
     "text": [
      "score_test= 83.31586234272459\n",
      "score_train= 83.28609035827823\n",
      "mean_absolute_error= 7.001734126066868\n"
     ]
    }
   ],
   "source": [
    "model4=RandomForestRegressor(n_estimators=200,max_depth=6)\n",
    "all(model4)"
   ]
  },
  {
   "cell_type": "code",
   "execution_count": 46,
   "id": "297b4008",
   "metadata": {
    "execution": {
     "iopub.execute_input": "2024-09-26T15:48:06.310864Z",
     "iopub.status.busy": "2024-09-26T15:48:06.310405Z",
     "iopub.status.idle": "2024-09-26T15:48:08.058940Z",
     "shell.execute_reply": "2024-09-26T15:48:08.057287Z"
    },
    "papermill": {
     "duration": 1.775352,
     "end_time": "2024-09-26T15:48:08.061342",
     "exception": false,
     "start_time": "2024-09-26T15:48:06.285990",
     "status": "completed"
    },
    "tags": []
   },
   "outputs": [
    {
     "name": "stdout",
     "output_type": "stream",
     "text": [
      "score_test= 85.54839788224263\n",
      "score_train= 85.74544318400983\n",
      "mean_absolute_error= 6.398419604136974\n"
     ]
    }
   ],
   "source": [
    "model5=GradientBoostingRegressor()\n",
    "all(model5)"
   ]
  },
  {
   "cell_type": "markdown",
   "id": "b771d617",
   "metadata": {
    "papermill": {
     "duration": 0.022854,
     "end_time": "2024-09-26T15:48:08.107684",
     "exception": false,
     "start_time": "2024-09-26T15:48:08.084830",
     "status": "completed"
    },
    "tags": []
   },
   "source": [
    "**The model Decision Tree Regressor is the highest accuracy**"
   ]
  },
  {
   "cell_type": "markdown",
   "id": "f8a17d10",
   "metadata": {
    "papermill": {
     "duration": 0.022806,
     "end_time": "2024-09-26T15:48:08.153643",
     "exception": false,
     "start_time": "2024-09-26T15:48:08.130837",
     "status": "completed"
    },
    "tags": []
   },
   "source": [
    "**THANK YOU******"
   ]
  }
 ],
 "metadata": {
  "kaggle": {
   "accelerator": "none",
   "dataSources": [
    {
     "datasetId": 2238903,
     "sourceId": 3745949,
     "sourceType": "datasetVersion"
    }
   ],
   "dockerImageVersionId": 30775,
   "isGpuEnabled": false,
   "isInternetEnabled": true,
   "language": "python",
   "sourceType": "notebook"
  },
  "kernelspec": {
   "display_name": "Python 3",
   "language": "python",
   "name": "python3"
  },
  "language_info": {
   "codemirror_mode": {
    "name": "ipython",
    "version": 3
   },
   "file_extension": ".py",
   "mimetype": "text/x-python",
   "name": "python",
   "nbconvert_exporter": "python",
   "pygments_lexer": "ipython3",
   "version": "3.10.14"
  },
  "papermill": {
   "default_parameters": {},
   "duration": 21.768773,
   "end_time": "2024-09-26T15:48:08.899412",
   "environment_variables": {},
   "exception": null,
   "input_path": "__notebook__.ipynb",
   "output_path": "__notebook__.ipynb",
   "parameters": {},
   "start_time": "2024-09-26T15:47:47.130639",
   "version": "2.6.0"
  }
 },
 "nbformat": 4,
 "nbformat_minor": 5
}
